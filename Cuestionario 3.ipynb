{
 "cells": [
  {
   "cell_type": "code",
   "execution_count": 1,
   "id": "c0e48cc3",
   "metadata": {},
   "outputs": [],
   "source": [
    "import pandas as pd\n",
    "import numpy as np\n",
    "import xlrd # Para excels\n",
    "import seaborn as sns\n",
    "import matplotlib.pyplot as plt\n",
    "import scipy.stats as stats"
   ]
  },
  {
   "cell_type": "markdown",
   "id": "195144ea",
   "metadata": {},
   "source": [
    "# Pregunta 1\n",
    "+ Dada una variable aleatoria X cualquiera, se ha obtenido una muestra de tamaño 207, con media muestral X¯=−25.4 y cuasidesviación típica s=6.16. Calcula el extremo inferior a del intervalo de confianza (a,b) para la media μX, con un nivel de confianza del 95%. "
   ]
  },
  {
   "cell_type": "code",
   "execution_count": 2,
   "id": "7d29665c",
   "metadata": {},
   "outputs": [
    {
     "name": "stdout",
     "output_type": "stream",
     "text": [
      "The confidence interval is  [-26.23915779 -24.56084221]\n",
      "Rounded to 4 digits: [-26.24, -24.56]\n"
     ]
    }
   ],
   "source": [
    "n =207\n",
    "barX = -25.4\n",
    "s = 6.16\n",
    "\n",
    "cl= 0.95\n",
    "alpha = 1-cl\n",
    "\n",
    "crit_point = stats.norm.isf(alpha/2, loc = 0, scale = 1)\n",
    "\n",
    "# Formula de los intervalos de confianza (x barra +- crit_point*var/raiz de n)\n",
    "conf_int = barX + np.array([-1, 1]) * crit_point * s / np.sqrt(n)\n",
    "print(\"The confidence interval is \", conf_int)\n",
    "print(\"Rounded to 4 digits: [{:.4}, {:.4}]\".format(conf_int[0], conf_int[1]))\n"
   ]
  },
  {
   "cell_type": "code",
   "execution_count": 63,
   "id": "5b63d335",
   "metadata": {},
   "outputs": [
    {
     "name": "stdout",
     "output_type": "stream",
     "text": [
      "The confidence interval is  [-15.67579896 -15.32420104]\n",
      "Rounded to 4 digits: [-15.68, -15.32]\n"
     ]
    }
   ],
   "source": [
    "n =177\n",
    "barX = -15.5\n",
    "s = 0.908\n",
    "\n",
    "cl= 0.99\n",
    "alpha = 1-cl\n",
    "\n",
    "crit_point = stats.norm.isf(alpha/2, loc = 0, scale = 1)\n",
    "\n",
    "# Formula de los intervalos de confianza (x barra +- crit_point*var/raiz de n)\n",
    "conf_int = barX + np.array([-1, 1]) * crit_point * s / np.sqrt(n)\n",
    "print(\"The confidence interval is \", conf_int)\n",
    "print(\"Rounded to 4 digits: [{:.4}, {:.4}]\".format(conf_int[0], conf_int[1]))\n"
   ]
  },
  {
   "cell_type": "markdown",
   "id": "3d4aacc2",
   "metadata": {},
   "source": [
    "# Pregunta 2\n",
    "+ Dada una variable aleatoria X cualquiera, se ha obtenido una muestra de tamaño 227, con media muestral X¯=37.4 y cuasidesviación típica s=9.39. Calcula el extremo superior a del intervalo de confianza (a,b) para la media μX, con un nivel de confianza del 90%. \n"
   ]
  },
  {
   "cell_type": "code",
   "execution_count": 51,
   "id": "c2d93760",
   "metadata": {},
   "outputs": [
    {
     "name": "stdout",
     "output_type": "stream",
     "text": [
      "The confidence interval is  [36.37486769 38.42513231]\n",
      "Rounded to 4 digits: [36.37, 38.43]\n"
     ]
    }
   ],
   "source": [
    "n =227\n",
    "barX = 37.4\n",
    "s=9.39\n",
    "\n",
    "cl= 0.90\n",
    "alpha = 1-cl\n",
    "\n",
    "crit_point = stats.norm.isf(alpha/2, loc = 0, scale = 1)\n",
    "\n",
    "# Formula de los intervalos de confianza (x barra +- crit_point*var/raiz de n)\n",
    "conf_int = barX + np.array([-1, 1]) * crit_point * s / np.sqrt(n)\n",
    "print(\"The confidence interval is \", conf_int)\n",
    "print(\"Rounded to 4 digits: [{:.4}, {:.4}]\".format(conf_int[0], conf_int[1]))\n"
   ]
  },
  {
   "cell_type": "code",
   "execution_count": 64,
   "id": "c712aa9d",
   "metadata": {},
   "outputs": [
    {
     "name": "stdout",
     "output_type": "stream",
     "text": [
      "The confidence interval is  [-28.1539651 -26.0460349]\n",
      "Rounded to 4 digits: [-28.15, -26.05]\n"
     ]
    }
   ],
   "source": [
    "n =168\n",
    "barX = -27.1\n",
    "s=6.97\n",
    "\n",
    "cl= 0.95\n",
    "alpha = 1-cl\n",
    "\n",
    "crit_point = stats.norm.isf(alpha/2, loc = 0, scale = 1)\n",
    "\n",
    "# Formula de los intervalos de confianza (x barra +- crit_point*var/raiz de n)\n",
    "conf_int = barX + np.array([-1, 1]) * crit_point * s / np.sqrt(n)\n",
    "print(\"The confidence interval is \", conf_int)\n",
    "print(\"Rounded to 4 digits: [{:.4}, {:.4}]\".format(conf_int[0], conf_int[1]))\n"
   ]
  },
  {
   "cell_type": "markdown",
   "id": "3d025c6d",
   "metadata": {},
   "source": [
    "# Pregunta 3\n",
    "+ La variable aleatoria X es normal (y se desconoce su varianza). Se ha obtenido una muestra de tamaño n=18, con media muestral X¯=−43.19 y cuasidesviación típica muestral s=8.182. Se desea contrastar la hipotesis nula:\n",
    "\n",
    "H0:μX≤μ0\n",
    "\n",
    "siendo μ0=−48.57. Hallar el p-valor de este contraste. Utiliza 4 cifras significativas en tu respuesta."
   ]
  },
  {
   "cell_type": "code",
   "execution_count": 46,
   "id": "c8d27882",
   "metadata": {},
   "outputs": [
    {
     "name": "stdout",
     "output_type": "stream",
     "text": [
      "5.380000000000003\n",
      "The Z score for this sample is 2.79\n",
      "And the resulting p-value is: 0.006287\n"
     ]
    }
   ],
   "source": [
    "# H0:μX≤μ0 --> la ha entonces es que sea mayor, cola derecha\n",
    "n = 18 # pequeña t de student\n",
    "barX = -43.19\n",
    "s = 8.182\n",
    "mu0 = -48.57\n",
    "print(barX-mu0)\n",
    "Zscore = (barX - mu0)/(s/np.sqrt(n))\n",
    "print(\"The Z score for this sample is {:.4}\".format(Zscore))\n",
    "\n",
    "pValue = stats.t.sf(Zscore, df = n-1)\n",
    "print(\"And the resulting p-value is: {:.4}\".format(pValue))"
   ]
  },
  {
   "cell_type": "code",
   "execution_count": 65,
   "id": "d51f686f",
   "metadata": {},
   "outputs": [
    {
     "name": "stdout",
     "output_type": "stream",
     "text": [
      "2.4299999999999997\n",
      "The Z score for this sample is 2.502\n",
      "And the resulting p-value is: 0.01082\n"
     ]
    }
   ],
   "source": [
    "# H0:μX≤μ0 --> la ha entonces es que sea mayor, cola derecha\n",
    "n = 20 # pequeña t de student\n",
    "barX = -9.76\n",
    "s = 4.343\n",
    "mu0 = -12.19\n",
    "print(barX-mu0)\n",
    "Zscore = (barX - mu0)/(s/np.sqrt(n))\n",
    "print(\"The Z score for this sample is {:.4}\".format(Zscore))\n",
    "\n",
    "pValue = stats.t.sf(Zscore, df = n-1)\n",
    "print(\"And the resulting p-value is: {:.4}\".format(pValue))"
   ]
  },
  {
   "cell_type": "markdown",
   "id": "14532ed8",
   "metadata": {},
   "source": [
    "# Pregunta 4\n",
    "La variable aleatoria X es normal (y se desconoce su varianza). Se ha obtenido una muestra de tamaño n=15, con media muestral X¯=−30.38 y cuasidesviación típica muestral s=5.151. Se desea contrastar la hipotesis nula:\n",
    "\n",
    "H0:μX≥μ0\n",
    "\n",
    "siendo μ0=−26.23. Hallar el p-valor de este contraste. Utiliza 4 cifras significativas en tu respuesta."
   ]
  },
  {
   "cell_type": "code",
   "execution_count": 47,
   "id": "fad89ece",
   "metadata": {},
   "outputs": [
    {
     "name": "stdout",
     "output_type": "stream",
     "text": [
      "The Z score for this sample is -3.12\n",
      "And the resulting p-value is: 0.003761\n"
     ]
    }
   ],
   "source": [
    "#H0:μX≥μ0 , la ha entonces es que sea menor --> cola izquierda\n",
    "\n",
    "n=15\n",
    "barX = -30.38\n",
    "s=5.151\n",
    "mu0 = -26.23\n",
    "\n",
    "Zscore = (barX - mu0)/(s/np.sqrt(n))\n",
    "print(\"The Z score for this sample is {:.4}\".format(Zscore))\n",
    "\n",
    "pValue = stats.t.cdf(Zscore, df = n-1)\n",
    "print(\"And the resulting p-value is: {:.4}\".format(pValue))"
   ]
  },
  {
   "cell_type": "code",
   "execution_count": 66,
   "id": "ec4145ca",
   "metadata": {},
   "outputs": [
    {
     "name": "stdout",
     "output_type": "stream",
     "text": [
      "The Z score for this sample is -2.325\n",
      "And the resulting p-value is: 0.05131\n"
     ]
    }
   ],
   "source": [
    "#H0:μX≥μ0 , la ha entonces es que sea menor --> cola izquierda\n",
    "\n",
    "n=4\n",
    "barX = 21.67\n",
    "s=1.514\n",
    "mu0 = 23.43\n",
    "\n",
    "Zscore = (barX - mu0)/(s/np.sqrt(n))\n",
    "print(\"The Z score for this sample is {:.4}\".format(Zscore))\n",
    "\n",
    "pValue = stats.t.cdf(Zscore, df = n-1)\n",
    "print(\"And the resulting p-value is: {:.4}\".format(pValue))"
   ]
  },
  {
   "cell_type": "markdown",
   "id": "4c0c51ad",
   "metadata": {},
   "source": [
    "# Pregunta 5\n",
    "La variable aleatoria X es normal (y se desconoce su varianza). Se ha obtenido una muestra de tamaño n=13, con media muestral X¯=35.89 y cuasidesviación típica muestral s=8.182. Se desea contrastar la hipotesis nula:\n",
    "\n",
    "H0:μX=μ0\n",
    "\n",
    "siendo μ0=43.98. Hallar el p-valor de este contraste. Utiliza 4 cifras significativas en tu respuesta"
   ]
  },
  {
   "cell_type": "code",
   "execution_count": 50,
   "id": "c6725089",
   "metadata": {},
   "outputs": [
    {
     "name": "stdout",
     "output_type": "stream",
     "text": [
      "The absolute value of the Z score for this sample is -3.565\n",
      "And the resulting p-value is: 0.003888\n"
     ]
    }
   ],
   "source": [
    "# H0:μX=μ0 --> dos lados\n",
    "n =13\n",
    "barX = 35.89\n",
    "s = 8.182\n",
    "mu0 = 43.98\n",
    "\n",
    "Zscore = (barX - mu0)/(s/np.sqrt(n))\n",
    "print(\"The absolute value of the Z score for this sample is {:.4}\".format(Zscore))\n",
    "\n",
    "pValue = 2 * stats.t.cdf(Zscore, df = n-1) \n",
    "print(\"And the resulting p-value is: {:.4}\".format(pValue))"
   ]
  },
  {
   "cell_type": "code",
   "execution_count": 67,
   "id": "c387c451",
   "metadata": {},
   "outputs": [
    {
     "name": "stdout",
     "output_type": "stream",
     "text": [
      "The absolute value of the Z score for this sample is 3.415\n",
      "And the resulting p-value is: 0.004189\n"
     ]
    }
   ],
   "source": [
    "# H0:μX=μ0 --> dos lados\n",
    "n =15\n",
    "barX = 44.79\n",
    "s = 6.363\n",
    "mu0 = 39.18\n",
    "\n",
    "Zscore = abs((barX - mu0)/(s/np.sqrt(n)))\n",
    "print(\"The absolute value of the Z score for this sample is {:.4}\".format(Zscore))\n",
    "\n",
    "pValue = 2 * stats.t.sf(Zscore, df = n-1) \n",
    "print(\"And the resulting p-value is: {:.4}\".format(pValue))"
   ]
  },
  {
   "cell_type": "markdown",
   "id": "a21c3072",
   "metadata": {},
   "source": [
    "# Pregunta 6\n",
    "Ajusta un modelo de regresión lineal simple con y x a los datos del fichero regresionLinealSimple_01.csv. Calcula el término independiente b0 de ese modelo. Escribe tu respuesta con 4 cifras significativas.\n"
   ]
  },
  {
   "cell_type": "code",
   "execution_count": 68,
   "id": "67b19a48",
   "metadata": {},
   "outputs": [
    {
     "data": {
      "text/html": [
       "<div>\n",
       "<style scoped>\n",
       "    .dataframe tbody tr th:only-of-type {\n",
       "        vertical-align: middle;\n",
       "    }\n",
       "\n",
       "    .dataframe tbody tr th {\n",
       "        vertical-align: top;\n",
       "    }\n",
       "\n",
       "    .dataframe thead th {\n",
       "        text-align: right;\n",
       "    }\n",
       "</style>\n",
       "<table border=\"1\" class=\"dataframe\">\n",
       "  <thead>\n",
       "    <tr style=\"text-align: right;\">\n",
       "      <th></th>\n",
       "      <th>x</th>\n",
       "      <th>y</th>\n",
       "    </tr>\n",
       "  </thead>\n",
       "  <tbody>\n",
       "    <tr>\n",
       "      <th>0</th>\n",
       "      <td>-0.906</td>\n",
       "      <td>2.09600</td>\n",
       "    </tr>\n",
       "    <tr>\n",
       "      <th>1</th>\n",
       "      <td>-0.178</td>\n",
       "      <td>1.15000</td>\n",
       "    </tr>\n",
       "    <tr>\n",
       "      <th>2</th>\n",
       "      <td>0.588</td>\n",
       "      <td>0.04953</td>\n",
       "    </tr>\n",
       "    <tr>\n",
       "      <th>3</th>\n",
       "      <td>-3.810</td>\n",
       "      <td>4.75300</td>\n",
       "    </tr>\n",
       "    <tr>\n",
       "      <th>4</th>\n",
       "      <td>3.240</td>\n",
       "      <td>-3.19000</td>\n",
       "    </tr>\n",
       "  </tbody>\n",
       "</table>\n",
       "</div>"
      ],
      "text/plain": [
       "       x        y\n",
       "0 -0.906  2.09600\n",
       "1 -0.178  1.15000\n",
       "2  0.588  0.04953\n",
       "3 -3.810  4.75300\n",
       "4  3.240 -3.19000"
      ]
     },
     "execution_count": 68,
     "metadata": {},
     "output_type": "execute_result"
    }
   ],
   "source": [
    "df1 = pd.read_csv('data/Cuestionario 3/regresionLinealSimple_01.csv', header=0)\n",
    "df1.head()"
   ]
  },
  {
   "cell_type": "code",
   "execution_count": 70,
   "id": "08afd593",
   "metadata": {},
   "outputs": [
    {
     "name": "stdout",
     "output_type": "stream",
     "text": [
      "---------------------------------------- \n",
      "\n",
      "This is the covariance matrix: \n",
      "            x          y\n",
      "x   8.498051 -10.097595\n",
      "y -10.097595  12.149484\n",
      "---------------------------------------- \n",
      "\n",
      "The regression line coefficients are \n",
      " b0 = 0.7997 \n",
      " b1 = -1.188\n"
     ]
    }
   ],
   "source": [
    "COV_A = df1[['x', 'y']].cov()\n",
    "print(\"--\"*20, \"\\n\")\n",
    "print(\"This is the covariance matrix: \\n\", COV_A)\n",
    "#print(COV_A)\n",
    "\n",
    "# We extract the elements of the covariance matrix that\n",
    "# we need for the regression line:\n",
    "cov_A = COV_A.iloc[0, 1]\n",
    "s2_x = COV_A.iloc[0, 0]\n",
    "\n",
    "# Compute the means of the columns \n",
    "# centro de la muestra\n",
    "barX = df1.x.mean()\n",
    "barY = df1.y.mean()\n",
    "\n",
    "# and plug all these values in the equations\n",
    "# for the regression line coefficients\n",
    "b1 = cov_A / s2_x\n",
    "b0 = barY - b1 * barX \n",
    "print(\"--\"*20, \"\\n\")\n",
    "print(\"The regression line coefficients are \\n b0 = {:.4} \\n b1 = {:.4}\".format(b0, b1))"
   ]
  },
  {
   "cell_type": "markdown",
   "id": "bf361c14",
   "metadata": {},
   "source": [
    "# Pregunta 7\n",
    "Ajusta un modelo de regresión lineal simple con y x a los datos del fichero regresionLinealSimple_02.csv. Calcula el coeficiente b1 de la variable explicativa en ese modelo. Escribe tu respuesta con 4 cifras significativas."
   ]
  },
  {
   "cell_type": "code",
   "execution_count": 71,
   "id": "9fe5011a",
   "metadata": {},
   "outputs": [
    {
     "data": {
      "text/html": [
       "<div>\n",
       "<style scoped>\n",
       "    .dataframe tbody tr th:only-of-type {\n",
       "        vertical-align: middle;\n",
       "    }\n",
       "\n",
       "    .dataframe tbody tr th {\n",
       "        vertical-align: top;\n",
       "    }\n",
       "\n",
       "    .dataframe thead th {\n",
       "        text-align: right;\n",
       "    }\n",
       "</style>\n",
       "<table border=\"1\" class=\"dataframe\">\n",
       "  <thead>\n",
       "    <tr style=\"text-align: right;\">\n",
       "      <th></th>\n",
       "      <th>x</th>\n",
       "      <th>y</th>\n",
       "    </tr>\n",
       "  </thead>\n",
       "  <tbody>\n",
       "    <tr>\n",
       "      <th>0</th>\n",
       "      <td>-2.290</td>\n",
       "      <td>-1.604</td>\n",
       "    </tr>\n",
       "    <tr>\n",
       "      <th>1</th>\n",
       "      <td>-0.381</td>\n",
       "      <td>10.430</td>\n",
       "    </tr>\n",
       "    <tr>\n",
       "      <th>2</th>\n",
       "      <td>4.010</td>\n",
       "      <td>9.198</td>\n",
       "    </tr>\n",
       "    <tr>\n",
       "      <th>3</th>\n",
       "      <td>1.420</td>\n",
       "      <td>1.100</td>\n",
       "    </tr>\n",
       "    <tr>\n",
       "      <th>4</th>\n",
       "      <td>4.520</td>\n",
       "      <td>-0.732</td>\n",
       "    </tr>\n",
       "  </tbody>\n",
       "</table>\n",
       "</div>"
      ],
      "text/plain": [
       "       x       y\n",
       "0 -2.290  -1.604\n",
       "1 -0.381  10.430\n",
       "2  4.010   9.198\n",
       "3  1.420   1.100\n",
       "4  4.520  -0.732"
      ]
     },
     "execution_count": 71,
     "metadata": {},
     "output_type": "execute_result"
    }
   ],
   "source": [
    "df2 = pd.read_csv('data/Cuestionario 3/regresionLinealSimple_02.csv', header=0)\n",
    "df2.head()"
   ]
  },
  {
   "cell_type": "code",
   "execution_count": 72,
   "id": "06918f1e",
   "metadata": {},
   "outputs": [
    {
     "name": "stdout",
     "output_type": "stream",
     "text": [
      "---------------------------------------- \n",
      "\n",
      "This is the covariance matrix: \n",
      "           x          y\n",
      "x  8.480496   6.034046\n",
      "y  6.034046  26.506678\n",
      "---------------------------------------- \n",
      "\n",
      "The regression line coefficients are \n",
      " b0 = 3.175 \n",
      " b1 = 0.7115\n"
     ]
    }
   ],
   "source": [
    "COV_A = df2[['x', 'y']].cov()\n",
    "print(\"--\"*20, \"\\n\")\n",
    "print(\"This is the covariance matrix: \\n\", COV_A)\n",
    "#print(COV_A)\n",
    "\n",
    "# We extract the elements of the covariance matrix that\n",
    "# we need for the regression line:\n",
    "cov_A = COV_A.iloc[0, 1]\n",
    "s2_x = COV_A.iloc[0, 0]\n",
    "\n",
    "# Compute the means of the columns \n",
    "# centro de la muestra\n",
    "barX = df2.x.mean()\n",
    "barY = df2.y.mean()\n",
    "\n",
    "# and plug all these values in the equations\n",
    "# for the regression line coefficients\n",
    "b1 = cov_A / s2_x\n",
    "b0 = barY - b1 * barX \n",
    "print(\"--\"*20, \"\\n\")\n",
    "print(\"The regression line coefficients are \\n b0 = {:.4} \\n b1 = {:.4}\".format(b0, b1))"
   ]
  },
  {
   "cell_type": "markdown",
   "id": "dd5e036c",
   "metadata": {},
   "source": [
    "# Pregunta 8\n",
    "Ajusta un modelo de regresión logística a los datos del fichero regresionLogistica_01.csv. Calcula el término independiente b0 de ese modelo. Escribe tu respuesta con 4 cifras significativas"
   ]
  },
  {
   "cell_type": "code",
   "execution_count": 73,
   "id": "83285c98",
   "metadata": {},
   "outputs": [
    {
     "data": {
      "text/html": [
       "<div>\n",
       "<style scoped>\n",
       "    .dataframe tbody tr th:only-of-type {\n",
       "        vertical-align: middle;\n",
       "    }\n",
       "\n",
       "    .dataframe tbody tr th {\n",
       "        vertical-align: top;\n",
       "    }\n",
       "\n",
       "    .dataframe thead th {\n",
       "        text-align: right;\n",
       "    }\n",
       "</style>\n",
       "<table border=\"1\" class=\"dataframe\">\n",
       "  <thead>\n",
       "    <tr style=\"text-align: right;\">\n",
       "      <th></th>\n",
       "      <th>x</th>\n",
       "      <th>y</th>\n",
       "    </tr>\n",
       "  </thead>\n",
       "  <tbody>\n",
       "    <tr>\n",
       "      <th>0</th>\n",
       "      <td>-2.6900</td>\n",
       "      <td>0</td>\n",
       "    </tr>\n",
       "    <tr>\n",
       "      <th>1</th>\n",
       "      <td>-0.4970</td>\n",
       "      <td>1</td>\n",
       "    </tr>\n",
       "    <tr>\n",
       "      <th>2</th>\n",
       "      <td>-2.5000</td>\n",
       "      <td>0</td>\n",
       "    </tr>\n",
       "    <tr>\n",
       "      <th>3</th>\n",
       "      <td>-4.2600</td>\n",
       "      <td>0</td>\n",
       "    </tr>\n",
       "    <tr>\n",
       "      <th>4</th>\n",
       "      <td>-3.3000</td>\n",
       "      <td>0</td>\n",
       "    </tr>\n",
       "    <tr>\n",
       "      <th>...</th>\n",
       "      <td>...</td>\n",
       "      <td>...</td>\n",
       "    </tr>\n",
       "    <tr>\n",
       "      <th>203</th>\n",
       "      <td>-0.0341</td>\n",
       "      <td>1</td>\n",
       "    </tr>\n",
       "    <tr>\n",
       "      <th>204</th>\n",
       "      <td>0.9680</td>\n",
       "      <td>1</td>\n",
       "    </tr>\n",
       "    <tr>\n",
       "      <th>205</th>\n",
       "      <td>-3.6800</td>\n",
       "      <td>0</td>\n",
       "    </tr>\n",
       "    <tr>\n",
       "      <th>206</th>\n",
       "      <td>-1.6800</td>\n",
       "      <td>0</td>\n",
       "    </tr>\n",
       "    <tr>\n",
       "      <th>207</th>\n",
       "      <td>-3.5000</td>\n",
       "      <td>0</td>\n",
       "    </tr>\n",
       "  </tbody>\n",
       "</table>\n",
       "<p>208 rows × 2 columns</p>\n",
       "</div>"
      ],
      "text/plain": [
       "          x  y\n",
       "0   -2.6900  0\n",
       "1   -0.4970  1\n",
       "2   -2.5000  0\n",
       "3   -4.2600  0\n",
       "4   -3.3000  0\n",
       "..      ... ..\n",
       "203 -0.0341  1\n",
       "204  0.9680  1\n",
       "205 -3.6800  0\n",
       "206 -1.6800  0\n",
       "207 -3.5000  0\n",
       "\n",
       "[208 rows x 2 columns]"
      ]
     },
     "execution_count": 73,
     "metadata": {},
     "output_type": "execute_result"
    }
   ],
   "source": [
    "A = pd.read_csv(\"data/Cuestionario 3/regresionLogistica_01.csv\")\n",
    "A"
   ]
  },
  {
   "cell_type": "code",
   "execution_count": 74,
   "id": "fd9f5fdf",
   "metadata": {},
   "outputs": [
    {
     "name": "stdout",
     "output_type": "stream",
     "text": [
      "The regression line is y = 0.9916 + 1.319 x\n"
     ]
    }
   ],
   "source": [
    "# The linear regression model in Scikit requires that\n",
    "# the X array be two-dimensional. But in our case a \n",
    "# single column gives a 1D array. That is why, after\n",
    "# extracting the values from the columns we reshape it.\n",
    "X = A.x.values\n",
    "X = X[:, np.newaxis]\n",
    "\n",
    "# For Y it is enough to extract the values,\n",
    "# because Scikit already expects it to be 1D\n",
    "Y = A.y.values\n",
    "\n",
    "# Now we load the required function from the scikit module\n",
    "from sklearn.linear_model import LogisticRegression\n",
    "# Create the model | intercept = ordenada en el origen. b0 = 0 es cuando pasa por el origen.\n",
    "modelXY = LogisticRegression(penalty='none')\n",
    "# Fit the model to \n",
    "XY_fit = modelXY.fit(X, Y)\n",
    "\n",
    "# And extract the coefficients. \n",
    "# Note that b1 is returned as an array \n",
    "# le pedismo propiedades al modelo.\n",
    "b1 = XY_fit.coef_[0]\n",
    "b0 = XY_fit.intercept_\n",
    "\n",
    "print(\"The regression line is y = {:.4} + {:.4} x\".format(b0[0], b1[0]))"
   ]
  },
  {
   "cell_type": "markdown",
   "id": "c2e17d4b",
   "metadata": {},
   "source": [
    "# Pregunta 9\n",
    "Ajusta un modelo de regresión logística a los datos del fichero regresionLogistica_01.csv. Calcula el término independiente b0 de ese modelo. Escribe tu respuesta con 4 cifras significativas"
   ]
  },
  {
   "cell_type": "code",
   "execution_count": 75,
   "id": "07ea6003",
   "metadata": {},
   "outputs": [
    {
     "data": {
      "text/html": [
       "<div>\n",
       "<style scoped>\n",
       "    .dataframe tbody tr th:only-of-type {\n",
       "        vertical-align: middle;\n",
       "    }\n",
       "\n",
       "    .dataframe tbody tr th {\n",
       "        vertical-align: top;\n",
       "    }\n",
       "\n",
       "    .dataframe thead th {\n",
       "        text-align: right;\n",
       "    }\n",
       "</style>\n",
       "<table border=\"1\" class=\"dataframe\">\n",
       "  <thead>\n",
       "    <tr style=\"text-align: right;\">\n",
       "      <th></th>\n",
       "      <th>x</th>\n",
       "      <th>y</th>\n",
       "    </tr>\n",
       "  </thead>\n",
       "  <tbody>\n",
       "    <tr>\n",
       "      <th>0</th>\n",
       "      <td>-3.05</td>\n",
       "      <td>0</td>\n",
       "    </tr>\n",
       "    <tr>\n",
       "      <th>1</th>\n",
       "      <td>6.04</td>\n",
       "      <td>0</td>\n",
       "    </tr>\n",
       "    <tr>\n",
       "      <th>2</th>\n",
       "      <td>5.89</td>\n",
       "      <td>1</td>\n",
       "    </tr>\n",
       "    <tr>\n",
       "      <th>3</th>\n",
       "      <td>-6.77</td>\n",
       "      <td>0</td>\n",
       "    </tr>\n",
       "    <tr>\n",
       "      <th>4</th>\n",
       "      <td>-5.96</td>\n",
       "      <td>0</td>\n",
       "    </tr>\n",
       "    <tr>\n",
       "      <th>...</th>\n",
       "      <td>...</td>\n",
       "      <td>...</td>\n",
       "    </tr>\n",
       "    <tr>\n",
       "      <th>248</th>\n",
       "      <td>2.24</td>\n",
       "      <td>0</td>\n",
       "    </tr>\n",
       "    <tr>\n",
       "      <th>249</th>\n",
       "      <td>5.08</td>\n",
       "      <td>1</td>\n",
       "    </tr>\n",
       "    <tr>\n",
       "      <th>250</th>\n",
       "      <td>4.79</td>\n",
       "      <td>1</td>\n",
       "    </tr>\n",
       "    <tr>\n",
       "      <th>251</th>\n",
       "      <td>1.47</td>\n",
       "      <td>0</td>\n",
       "    </tr>\n",
       "    <tr>\n",
       "      <th>252</th>\n",
       "      <td>1.88</td>\n",
       "      <td>1</td>\n",
       "    </tr>\n",
       "  </tbody>\n",
       "</table>\n",
       "<p>253 rows × 2 columns</p>\n",
       "</div>"
      ],
      "text/plain": [
       "        x  y\n",
       "0   -3.05  0\n",
       "1    6.04  0\n",
       "2    5.89  1\n",
       "3   -6.77  0\n",
       "4   -5.96  0\n",
       "..    ... ..\n",
       "248  2.24  0\n",
       "249  5.08  1\n",
       "250  4.79  1\n",
       "251  1.47  0\n",
       "252  1.88  1\n",
       "\n",
       "[253 rows x 2 columns]"
      ]
     },
     "execution_count": 75,
     "metadata": {},
     "output_type": "execute_result"
    }
   ],
   "source": [
    "A = pd.read_csv(\"data/Cuestionario 3/regresionLogistica_02.csv\")\n",
    "A"
   ]
  },
  {
   "cell_type": "code",
   "execution_count": 76,
   "id": "b579b8d9",
   "metadata": {},
   "outputs": [
    {
     "name": "stdout",
     "output_type": "stream",
     "text": [
      "The regression line is y = -1.471 + 0.7351 x\n"
     ]
    }
   ],
   "source": [
    "# The linear regression model in Scikit requires that\n",
    "# the X array be two-dimensional. But in our case a \n",
    "# single column gives a 1D array. That is why, after\n",
    "# extracting the values from the columns we reshape it.\n",
    "X = A.x.values\n",
    "X = X[:, np.newaxis]\n",
    "\n",
    "# For Y it is enough to extract the values,\n",
    "# because Scikit already expects it to be 1D\n",
    "Y = A.y.values\n",
    "\n",
    "# Now we load the required function from the scikit module\n",
    "from sklearn.linear_model import LogisticRegression\n",
    "# Create the model | intercept = ordenada en el origen. b0 = 0 es cuando pasa por el origen.\n",
    "modelXY = LogisticRegression(penalty='none')\n",
    "# Fit the model to \n",
    "XY_fit = modelXY.fit(X, Y)\n",
    "\n",
    "# And extract the coefficients. \n",
    "# Note that b1 is returned as an array \n",
    "# le pedismo propiedades al modelo.\n",
    "b1 = XY_fit.coef_[0]\n",
    "b0 = XY_fit.intercept_\n",
    "\n",
    "print(\"The regression line is y = {:.4} + {:.4} x\".format(b0[0], b1[0]))"
   ]
  },
  {
   "cell_type": "code",
   "execution_count": null,
   "id": "fe1df116",
   "metadata": {},
   "outputs": [],
   "source": []
  },
  {
   "cell_type": "code",
   "execution_count": null,
   "id": "2e1549cc",
   "metadata": {},
   "outputs": [],
   "source": []
  }
 ],
 "metadata": {
  "kernelspec": {
   "display_name": "Python 3 (ipykernel)",
   "language": "python",
   "name": "python3"
  },
  "language_info": {
   "codemirror_mode": {
    "name": "ipython",
    "version": 3
   },
   "file_extension": ".py",
   "mimetype": "text/x-python",
   "name": "python",
   "nbconvert_exporter": "python",
   "pygments_lexer": "ipython3",
   "version": "3.10.4"
  }
 },
 "nbformat": 4,
 "nbformat_minor": 5
}
