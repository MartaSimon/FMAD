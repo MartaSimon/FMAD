{
 "cells": [
  {
   "cell_type": "markdown",
   "id": "11d1e0b4",
   "metadata": {},
   "source": [
    "<img src='./fig/vertical_COMILLAS_COLOR.jpg' style= 'width:70mm'>\n",
    "<h1 style='font-family: Optima;color:#ecac00'>\n",
    "Máster en Big Data. Tecnología y Analítica Avanzada (MBD).\n",
    "<a class=\"tocSkip\">\n",
    "</h1>\n",
    "\n",
    "<h1 style='font-family: Optima;color:#ecac00'>\n",
    "Fundamentos Matemáticos del Análisis de Datos (FMAD). 2022-2023.\n",
    "<a class=\"tocSkip\">\n",
    "</h1>\n",
    "\n",
    "<h1 style='font-family: Optima;color:#ecac00'>\n",
    "Resúmenes examen Unidad 6\n",
    "<a class=\"tocSkip\">    \n",
    "</h1> "
   ]
  },
  {
   "cell_type": "markdown",
   "id": "a8a8c611",
   "metadata": {},
   "source": [
    "# Imports section"
   ]
  },
  {
   "cell_type": "code",
   "execution_count": 1,
   "id": "3920a2a2",
   "metadata": {},
   "outputs": [],
   "source": [
    "import pandas as pd\n",
    "import numpy as np\n",
    "import xlrd # Para excels\n",
    "import seaborn as sns\n",
    "import matplotlib.pyplot as plt\n",
    "import scipy.stats as stats"
   ]
  },
  {
   "cell_type": "markdown",
   "id": "2e5618ba",
   "metadata": {},
   "source": [
    "# Calculo del pvalor \n",
    "+ Ejemplo: Nuestra $$\\mu_0 = 2.5h$$ \n",
    "    Hemos encontrado un set de 100 baterías cuya $$\\bar X =  2.65h$$ con una desviación estandar de $s = 0.5h$. Por lo tanto las nuevas baterias son mejores (Esta es nuestra hipotesis alternativa.\n",
    "   \n",
    "   \n",
    " En el ejemplo la *hipótesis alternativa* se escribe como \n",
    "    $$H_a:\\{\\mu\\ > \\mu_0\\}$$\n",
    "    mientras que la hipótesis nula es\n",
    "    $$H_0:\\mu\\ \\leq \\mu_0\\}$$\n",
    "    \n",
    " Recall that in the batteries example we have\n",
    "  $$\n",
    "  \\quad\\\\\n",
    "  \\mu_0 = 2.5,\\qquad n = 100,\\qquad \\bar X = 2.65,\\qquad  s = 0.5 \n",
    "  \\quad\\\\\n",
    "  $$\n",
    "  Thus the value of $Z$ that we obtain is:\n",
    "  $$\n",
    "  \\quad\\\n",
    "  \\dfrac{\\bar X - \\mu_0}{\\frac{s}{\\sqrt{n}}} = \n",
    "  \\dfrac{2.65 - 2.5}{\\frac{0.5}{\\sqrt{100}}} = 3\n",
    "  \\quad\\\n",
    "  $$"
   ]
  },
  {
   "cell_type": "code",
   "execution_count": 2,
   "id": "846f6982",
   "metadata": {},
   "outputs": [
    {
     "name": "stdout",
     "output_type": "stream",
     "text": [
      "The Z score for this sample is 3.0\n",
      "And the resulting p-value is: 0.00135\n"
     ]
    }
   ],
   "source": [
    "mu0 = 2.5\n",
    "n = 100\n",
    "barX = 2.65 # De lo que estás intentando convencer a la gente. Tiene que ser mayor que tu mu 0, porque estás intentando convencer de que tu método e smejor, osea que tendría que ser mayor que el mu 0\n",
    "# si dan p valores muy grandes, normalmente es porque te estás equivocando\n",
    "s = 0.5\n",
    "\n",
    "Zscore = (barX - mu0)/(s/np.sqrt(n))\n",
    "print(\"The Z score for this sample is {:.4}\".format(Zscore))# \"punto crítico\", a partir del cual calcular la probabilidad de mayor (cola derecha)\n",
    "\n",
    "# sf es la inversa de cdf, para calcular la cola derecha\n",
    "pValue = stats.norm.sf(Zscore)\n",
    "print(\"And the resulting p-value is: {:.4}\".format(pValue))"
   ]
  },
  {
   "cell_type": "code",
   "execution_count": 3,
   "id": "1580dadf",
   "metadata": {},
   "outputs": [
    {
     "name": "stdout",
     "output_type": "stream",
     "text": [
      "The Z score for this sample is 4.0\n",
      "And the resulting p-value is: 3.167e-05\n"
     ]
    }
   ],
   "source": [
    "# Si con los mismos datos tuviesemos una media muestral mayor (que favorece más nuestra hipotesis alternativa), calculando el pvalor\n",
    "mu0 = 2.5\n",
    "n = 100\n",
    "barX = 2.7\n",
    "s = 0.5\n",
    "\n",
    "Zscore = (barX - mu0)/(s/np.sqrt(n))\n",
    "print(\"The Z score for this sample is {:.4}\".format(Zscore))\n",
    "\n",
    "pValue = stats.norm.sf(Zscore)\n",
    "print(\"And the resulting p-value is: {:.4}\".format(pValue))\n"
   ]
  },
  {
   "cell_type": "markdown",
   "id": "396d5c77",
   "metadata": {},
   "source": [
    "Obtener una muestra con 𝑋¯=2,7 o superior sólo puede ocurrir unas tres de cada cien mil veces. Esa es una probabilidad muy baja y cada vez es más difícil creer que esta media muestral sea sólo una coincidencia aleatoria. Por tanto, con este valor p rechazaríamos la hipótesis nula.\n",
    "\n",
    "# Rechazando la $H_a$\n",
    "+ **Ejemplo (continuación):** Volvamos al ejemplo de las pilas pero esta vez supongamos que la media muestral que obtenemos es $\\bar X = 2,51$ manteniendo todos los demás números iguales. Entonces el cálculo del valor p sería: "
   ]
  },
  {
   "cell_type": "code",
   "execution_count": 4,
   "id": "81a7f2de",
   "metadata": {},
   "outputs": [
    {
     "name": "stdout",
     "output_type": "stream",
     "text": [
      "The Z score for this sample is 0.2\n",
      "And the resulting p-value is: 0.4207\n"
     ]
    }
   ],
   "source": [
    "mu0 = 2.5\n",
    "n = 100\n",
    "barX = 2.51\n",
    "s = 0.5\n",
    "\n",
    "Zscore = (barX - mu0)/(s/np.sqrt(n))\n",
    "print(\"The Z score for this sample is {:.4}\".format(Zscore))\n",
    "\n",
    "pValue = stats.norm.sf(Zscore)\n",
    "print(\"And the resulting p-value is: {:.4}\".format(pValue))"
   ]
  },
  {
   "cell_type": "markdown",
   "id": "0343f947",
   "metadata": {},
   "source": [
    "Para alguien que crea que la hipótesis nula es verdadera, eso significa que este valor 𝑋¯=2,51 de la media muestral no sería una sorpresa en absoluto. De hecho, ¡es el tipo de valor que se espera ver el 42% de las veces! Por lo tanto, con un valor p tan grande no tendríamos suficiente evidencia para rechazar el nulo y diríamos en cambio que rechazamos la alternativa 𝐻𝑎 . Aunque 𝑋¯>𝜇0 , la diferencia a favor de 𝐻𝑎 no es lo suficientemente grande."
   ]
  },
  {
   "cell_type": "code",
   "execution_count": 5,
   "id": "c5b1baaa",
   "metadata": {},
   "outputs": [
    {
     "name": "stdout",
     "output_type": "stream",
     "text": [
      "The Z score for this sample is -1.0\n",
      "And the resulting p-value is: 0.8413\n"
     ]
    }
   ],
   "source": [
    "mu0 = 2.5\n",
    "n = 100\n",
    "barX = 2.45\n",
    "s = 0.5\n",
    "\n",
    "Zscore = (barX - mu0)/(s/np.sqrt(n))\n",
    "print(\"The Z score for this sample is {:.4}\".format(Zscore))\n",
    "\n",
    "pValue = stats.norm.sf(Zscore)\n",
    "print(\"And the resulting p-value is: {:.4}\".format(pValue))"
   ]
  },
  {
   "cell_type": "markdown",
   "id": "0686d5ea",
   "metadata": {},
   "source": [
    "Por supuesto, si hubiéramos obtenido 𝑋¯≤𝜇0 la evidencia a favor de 𝐻𝑎 sería simplemente inexistente. Esto causa cierta confusión al principio, especialmente después de que aprendamos en las próximas secciones sobre otros tipos de contrastes que implican diferentes desigualdades. Así que hagamos un ejemplo para intentar ayudarte a reconocer esta situación si alguna vez te encuentras en ella. Imagina ahora que la media muestral en el ejemplo de la pila es 𝑋¯=2,45 . Con esta media muestral, intentar convencer a alguien de que 𝜇>𝜇0=2,5 es absurdo.\n",
    "\n",
    "Como podemos ver, el valor p en este caso no sólo no es pequeño, sino que es muy grande para una probabilidad. Si alguna vez te encuentras con un valor p tan grande, *comprueba dos veces que estás probando la hipótesis correcta*: hay muchas posibilidades de que hayas cambiado alguna desigualdad. \n",
    "\n",
    "# Para muestras pequeñas\n",
    "Antes hemos usado la normal para una muestra de mas de 100 elementos (grand). Para calcular el pvalor en muestras pequeñas deberemos usar la t de student.\n",
    "+ **Ejemplo:** repetiremos el cálculo del valor p para el ejemplo original de la pila manteniendo todos los valores de la muestra excepto el tamaño, que ahora tomamos como $n = 20$. Entonces *debemos* utilizar la $t$ de Student para calcular la probabilidad de la cola derecha:"
   ]
  },
  {
   "cell_type": "code",
   "execution_count": 6,
   "id": "6a48ca6c",
   "metadata": {},
   "outputs": [
    {
     "name": "stdout",
     "output_type": "stream",
     "text": [
      "The Z score for this sample is 1.342\n",
      "And the resulting p-value is: 0.09776\n"
     ]
    }
   ],
   "source": [
    "mu0 = 2.5\n",
    "n = 20\n",
    "barX = 2.65\n",
    "s = 0.5\n",
    "\n",
    "Zscore = (barX - mu0)/(s/np.sqrt(n))\n",
    "print(\"The Z score for this sample is {:.4}\".format(Zscore))\n",
    "\n",
    "pValue = stats.t.sf(Zscore, df = n-1)\n",
    "print(\"And the resulting p-value is: {:.4}\".format(pValue))"
   ]
  },
  {
   "cell_type": "markdown",
   "id": "569b6d38",
   "metadata": {},
   "source": [
    "\n",
    "+ Obsérvese que en este caso hemos obtenido un valor p mucho mayor. ¿Por qué? Porque con una muestra pequeña tenemos menos información y, como ya hemos discutido, eso significa que necesitamos *empujar* más probabilidad en las colas de la distribución.  \n",
    "+ En particular, las medias muestrales más alejadas del centro obtienen probabilidades más altas, lo que hace más difícil rechazar el nulo. En este caso, si trabajamos con un nivel de significación del 95%, tendríamos que comparar el valor p anterior con 0,05. Y así, en este caso, a igualdad de condiciones pero con una muestra más pequeña, *no rechazaríamos el nulo* (rechazaríamos la alternativa). Esta mayor dificultad para rechazar el nulo es de esperar: una muestra más pequeña significa menos evidencia de un efecto verdadero del nuevo método.\n",
    "# Hypothesis Testing with Python (media)\n",
    "+ **Ejemplo:** en el Ejercicio S05-003 trabajamos con datos sobre los niveles de $NO_2$ en el agua de un embalse. Recuerda que teníamos una muestra con estos valores (en mg/l):\n",
    "```\n",
    "        0.04, 0.05, 0.03, 0.06, 0.04, 0.06, 0.07, 0.03, 0.06, 0.02\n",
    "``` \n",
    "\n",
    "  Utilicemos estas muestras para probar la hipótesis de que el nivel de $NO_2$ en el embalse es superior al nivel de peligro de 0,03mg/l. Es decir, estamos probando la hipótesis alternativa \n",
    "$$\n",
    "H_a = \\{\\mu > \\mu_0 = 0.03\\}\n",
    "$$"
   ]
  },
  {
   "cell_type": "code",
   "execution_count": 7,
   "id": "384a6853",
   "metadata": {},
   "outputs": [
    {
     "name": "stdout",
     "output_type": "stream",
     "text": [
      "The sample size is  10\n",
      "The sample mean is 0.046\n",
      "The T score is 3.073\n",
      "And the corresponding p-value is 0.006646\n"
     ]
    }
   ],
   "source": [
    "no2_data = np.array([0.04, 0.05, 0.03, 0.06, 0.04, 0.06, 0.07, \n",
    "                     0.03, 0.06, 0.02])\n",
    "# un test haciendo la t de student y haciendo una sola muestra\n",
    "Tscore, pValue = stats.ttest_1samp(no2_data, \n",
    "                                   # Valor esperado en la hipotesis nula\n",
    "                                   popmean=0.03, # valor de referencia = mu0. No se refiere a la poblacion sobre la que estás haciendo el contraste. Valor sobre el que se discute\n",
    "                                   # hipotesis alternativa. queremos probar que sea mayor que el valor de la h0\n",
    "                                   alternative=\"greater\") # mu mas grande que, buscamos ese mu. Es la forma de contraste\n",
    "\n",
    "print(\"The sample size is {:3d}\".format(no2_data.size))\n",
    "print(\"The sample mean is {:.4}\".format(no2_data.mean()))\n",
    "print(\"The T score is {:.4}\".format(Tscore))\n",
    "print(\"And the corresponding p-value is {:.4}\".format(pValue))# tendremos que comparar este valor con nuestra H0. Lo estamos comparando con __. Como es más pequeño que nuestro significant level rechazamos la hipotesis nula"
   ]
  },
  {
   "cell_type": "markdown",
   "id": "83cbeaf1",
   "metadata": {},
   "source": [
    "## Left Tail Tests\n",
    "+ **Ejemplo:** un inspector de control de calidad está examinando la afirmación de que las latas de aceite de cierta marca contienen 1000g de aceite. Tras examinar una muestra aleatoria de 100 latas, descubre que el peso medio es de $998,5g$ con una varianza estándar de la muestra de $s^2 = 36,1g$. Observando los datos, el inspector se pregunta si el verdadero peso medio es inferior a los 1000g anunciados. Utilizando un nivel de significación del 95%, ¿cuál sería la respuesta a esta pregunta? ¿Cuál sería el valor p de esta prueba?  \n",
    "La principal diferencia entre este ejemplo y el anterior de las pilas es la dirección de las desigualdades implicadas. De nuevo tenemos los valores de la muestra y un valor de referencia $\\mu_0 = 1000g$\n",
    "\n",
    "Al restar $\\bar X$ - $\\mu$, te sale negativo, por eso sabemos que estamos en el lado de la cola izq. Calculamos el pvalor de la misma forma, sólo que ahora estamos en la cola izquierda, por eso en lugar de sf, tenemos que usar cdf"
   ]
  },
  {
   "cell_type": "code",
   "execution_count": 8,
   "id": "c537d738",
   "metadata": {},
   "outputs": [
    {
     "name": "stdout",
     "output_type": "stream",
     "text": [
      "The Z score for this sample is -2.497\n",
      "The critical value (defining the rejection region) is: -1.645\n",
      "And the resulting p-value is: 0.006271\n"
     ]
    }
   ],
   "source": [
    "mu0 = 1000\n",
    "n = 100\n",
    "barX = 998.5\n",
    "s = np.sqrt(36.1) ## Atencion a esto, tenemosq ue usar sin cuadrado\n",
    "\n",
    "Zscore = (barX - mu0)/(s/np.sqrt(n))\n",
    "print(\"The Z score for this sample is {:.4}\".format(Zscore))\n",
    "\n",
    "# para comparar con el p valor y ver si aceptamos la hipotesis\n",
    "sl = 0.95\n",
    "alpha = 1 - sl\n",
    "criticalValue = stats.norm.isf(1 - alpha)# 1- alpha para calcular el valor critico de la izquierda, porque estamos comprobando que sea menor\n",
    "print(\"The critical value (defining the rejection region) is: {:.4}\".format(criticalValue))\n",
    "\n",
    "pValue = stats.norm.cdf(Zscore)\n",
    "print(\"And the resulting p-value is: {:.4}\".format(pValue))\n",
    "# el p valor es pequeño, en concreto, menor que el valor de significacion que se ha dado, "
   ]
  },
  {
   "cell_type": "code",
   "execution_count": 9,
   "id": "5461437d",
   "metadata": {},
   "outputs": [
    {
     "name": "stdout",
     "output_type": "stream",
     "text": [
      "The Z score for this sample is 1.928\n",
      "And the resulting p-value is: 0.955\n",
      "And the resulting p-value is: 0.045\n"
     ]
    }
   ],
   "source": [
    "n = 9 # pequeña, t de student\n",
    "mu0 = -8.219\n",
    "barX = -2.052\n",
    "s =9.596\n",
    "\n",
    "Zscore = (barX - mu0)/(s/np.sqrt(n))\n",
    "print(\"The Z score for this sample is {:.4}\".format(Zscore))\n",
    "\n",
    "pValue = stats.t.cdf(Zscore, df = n - 1) # cola izquierda\n",
    "print(\"And the resulting p-value is: {:.4}\".format(pValue))\n",
    "print(\"And the resulting p-value is: {:.4}\".format(1 - pValue))"
   ]
  },
  {
   "cell_type": "markdown",
   "id": "3c44da52",
   "metadata": {},
   "source": [
    "Si la puntuación Z de la muestra cae a la izquierda de 𝑧1-𝛼 , en lo que se llama la región de rechazo de la prueba. Si ese es el caso, entonces el valor p correspondiente será inferior a 𝛼=0,05 y rechazaremos el nulo. Utilicemos SciPy para obtener la puntuación Z, el valor crítico y el valor p"
   ]
  },
  {
   "cell_type": "markdown",
   "id": "1ff60bb7",
   "metadata": {},
   "source": [
    "## Two Sided Tests\n",
    "+ La forma de organizar esta prueba en Python es similar, pero ahora tenemos que recordar que ambas colas cuentan. Como son simétricas, podemos simplemente **calcular la probabilidad de la cola derecha y duplicarla**. Para el presente ejemplo de las latas de aceite desde la perspectiva del fabricante:"
   ]
  },
  {
   "cell_type": "code",
   "execution_count": 10,
   "id": "111c2d02",
   "metadata": {},
   "outputs": [
    {
     "name": "stdout",
     "output_type": "stream",
     "text": [
      "The absolute value of the Z score for this sample is 2.497\n",
      "The right side critical value is: 1.96\n",
      "And the resulting p-value is: 0.01254\n"
     ]
    }
   ],
   "source": [
    "mu0 = 1000\n",
    "n = 100\n",
    "barX = 998.5\n",
    "s = np.sqrt(36.1)\n",
    "# tomar siempre el valor absoluto del zscore (Zscore = (barX - mu0)/(s/np.sqrt(n))) para llevarlo a la derecha, calcula la derecha y multiplicar por 2.\n",
    "Zscore = np.abs((barX - mu0)/(s/np.sqrt(n)))\n",
    "print(\"The absolute value of the Z score for this sample is {:.4}\".format(Zscore))\n",
    "\n",
    "sl = 0.95\n",
    "alpha = 1 - sl\n",
    "criticalValue = stats.norm.isf(alpha/2)\n",
    "print(\"The right side critical value is: {:.4}\".format(criticalValue))\n",
    "\n",
    "## Notice the factor two here\n",
    "pValue = 2 * stats.norm.sf(Zscore) \n",
    "print(\"And the resulting p-value is: {:.4}\".format(pValue))"
   ]
  },
  {
   "cell_type": "markdown",
   "id": "3ce631a8",
   "metadata": {},
   "source": [
    "Obsérvese que el valor p que obtiene el fabricante en esta prueba a dos bandas es mayor que el que obtuvo el inspector (con los mismos datos de la muestra). En general, esto es cierto: con los mismos datos es más difícil rechazar la nula con una prueba de dos caras. Pero siempre debe utilizar el tipo de prueba que corresponde a su hipótesis alternativa. De lo contrario, estará obteniendo la respuesta a una pregunta diferente. En este ejemplo, observe que con el valor p resultante y 𝛼=0,05 el gerente debería rechazar de todos modos la nula y, mirando la media de la muestra, aumentar el contenido de aceite de las latas para evitar ser multado. (porque en la hipotesis estamos mirando que sea menor, está vendoendo menos aceiye del que dice)"
   ]
  },
  {
   "cell_type": "markdown",
   "id": "e7b31436",
   "metadata": {},
   "source": [
    "# Ecuaciones de la potencia\n",
    "+ **Ejemplo:**   \n",
    "    + (a) Hallemos la potencia de una prueba de medias unilateral donde:"
   ]
  },
  {
   "cell_type": "code",
   "execution_count": 11,
   "id": "fba7ad8f",
   "metadata": {},
   "outputs": [],
   "source": [
    "delta = 0.1\n",
    "sd = 0.5\n",
    "alpha = 0.05\n",
    "n = 100"
   ]
  },
  {
   "cell_type": "code",
   "execution_count": 12,
   "id": "7fd6be89",
   "metadata": {},
   "outputs": [
    {
     "name": "stdout",
     "output_type": "stream",
     "text": [
      "The power for the test is 0.634\n"
     ]
    }
   ],
   "source": [
    "import statsmodels.stats.power as smp\n",
    "\n",
    "power = smp.ttest_power(effect_size = delta / sd, \n",
    "                        nobs=n, # numero de observaciones de la muestra\n",
    "                        alpha=alpha, \n",
    "                        alternative=\"larger\")# larger contraste cola derecha.\n",
    "\n",
    "print(\"The power for the test is {:.3}\".format(power)) #  which is  1−𝛽  as we know."
   ]
  },
  {
   "cell_type": "markdown",
   "id": "89616fd8",
   "metadata": {},
   "source": [
    "La potencia se define como 1 - prob de cometer un error de tipo 2. Por lo tanto tenemos un 37% de probabilidad de no cometer error de tipo 2\n",
    "+ (b) Let us now use the above sample values as a pilot study and find the sample size that we need in order to get a power equal to 80% (i.e. 0.8)."
   ]
  },
  {
   "cell_type": "code",
   "execution_count": 13,
   "id": "99d3c862",
   "metadata": {},
   "outputs": [
    {
     "name": "stdout",
     "output_type": "stream",
     "text": [
      "The minimum sample size to get that power is at least 156\n"
     ]
    }
   ],
   "source": [
    "power = 0.8\n",
    "# dada la potencia, sacar el tam de la muestra\n",
    "sample_size = smp.tt_solve_power(effect_size = delta / sd,\n",
    "                                 power = power, # incluyendo la potencia, obtenemos el tamaño de la muestra\n",
    "                                 alpha = alpha, \n",
    "                                 alternative = \"larger\")\n",
    "print(\"The minimum sample size to get that power is at least {:3d}\".format(\n",
    "        int(np.ceil(sample_size))))"
   ]
  },
  {
   "cell_type": "markdown",
   "id": "5ef26bec",
   "metadata": {},
   "source": [
    "# Test de hipotesis con la varianza\n",
    "\n",
    "+ **Ejemplo:** Un laboratorio farmacéutico afirma que produce comprimidos para un determinado medicamento con diámetros muy homogéneos, porque la desviación estándar del diámetro es de 0,5mm (según el laboratorio). Una muestra aleatoria de 15 comprimidos tenía una desviación estándar $s = 0,7mm$. Utilizando un nivel de significación del 5%, *¿se cree la afirmación del laboratorio?*.\n",
    "\n",
    "  El valor de referencia es $\\sigma_0^2 = 0,5^2$ y las hipótesis a comprobar son: \n",
    "$$\n",
    "H_0 = \\{\\sigma^2 \\leq \\sigma^2_0\\}, \\qquad H_a = \\{\\sigma^2 > \\sigma^2_0\\}\n",
    "$$\n",
    "  Using the sample data we compute the $Y$ score:\n",
    "$$\n",
    "Y = (n-1)\\dfrac{s^2}{\\sigma_0^2} = (15 - 1) \\dfrac{0.7^2}{5^2}\n",
    "$$"
   ]
  },
  {
   "cell_type": "code",
   "execution_count": 14,
   "id": "5637c245",
   "metadata": {},
   "outputs": [
    {
     "name": "stdout",
     "output_type": "stream",
     "text": [
      "The p-value for the test is 0.0169\n"
     ]
    }
   ],
   "source": [
    "n = 15\n",
    "s = 0.7\n",
    "\n",
    "s0 = 0.5\n",
    "\n",
    "# punto critico para la varianza\n",
    "Yscore = (n - 1) * s**2 / s0**2\n",
    "\n",
    "# Calculamos con chi2 porque es la varianza, al igual que antes con los intervalos de confianza de la varianza\n",
    "pValue = stats.chi2.sf(Yscore, df = n - 1)\n",
    "print(\"The p-value for the test is {:.3}\".format(pValue))"
   ]
  },
  {
   "cell_type": "markdown",
   "id": "7bb0f60e",
   "metadata": {},
   "source": [
    "# El problema de las pruebas múltiples\n",
    "+ **Ejemplo.** ya sabemos que $\\alpha$ es la probabilidad de cometer un error (honesto) de tipo I. Supongamos que $\\alpha = 0.05$. Supongamos que realizamos 20 pruebas independientes de 20 hipótesis nulas $H_0$ **todas las cuales son realmente verdaderas**. ¿Cuál es la probabilidad de que nos encontremos con una muestra *mala* (al menos una), rechacemos la (verdadera) nula y cometamos un error de tipo I? Está claro que esta situación tiene todos los ingredientes de una binomial(ya que estamos buscando probabilidades de exito) $X \\sim B(20,\\alpha)$ con $X = $ número de rechazados $H_0$. Por lo tanto, la respuesta a nuestra pregunta es\n",
    "$$\n",
    "P(X > 0) = 1 - P(X = 0) \n",
    "$$\n",
    "y utilizando Python:"
   ]
  },
  {
   "cell_type": "code",
   "execution_count": 15,
   "id": "bd1ceb4b",
   "metadata": {},
   "outputs": [
    {
     "name": "stdout",
     "output_type": "stream",
     "text": [
      "The probability of making at least a Type I error in 20 independent tests is 0.642\n"
     ]
    }
   ],
   "source": [
    "n = 20\n",
    "p = 0.05\n",
    "k = 0\n",
    "Prob_typeI = 1 - stats.binom.pmf(k, n, p)\n",
    "print(\"The probability of making at least a Type I error in 20 independent tests is {:.3}\".format(Prob_typeI))"
   ]
  },
  {
   "cell_type": "markdown",
   "id": "2b90be56",
   "metadata": {},
   "source": [
    "+ Eso significa que simplemente probando repetidamente 20 hipótesis verdaderas hay un 64% de posibilidades de que declaremos alguna prueba como *significativa* y rechacemos la nula, cometiendo al menos un error de tipo I. "
   ]
  },
  {
   "cell_type": "markdown",
   "id": "f71c72c0",
   "metadata": {},
   "source": [
    "**Corrección de Bonferoni**\n",
    "+ Un posible remedio para el problema de las pruebas múltiples (versión honesta) es aplicar algún tipo de **corrección del valor p**. La primera y más básica de estas estrategias fue la **corrección de Bonferroni**, que consiste simplemente en sustituir el criterio de rechazo nulo de \n",
    "$$\\text{p-value} < \\alpha$$\n",
    "a \n",
    "$$\\text{p-value} < \\dfrac{\\alpha}{m}\\quad\\text{with $m = $ número de pruebas realizadas (en cada simulacion)}$$"
   ]
  },
  {
   "cell_type": "markdown",
   "id": "e963009e",
   "metadata": {},
   "source": [
    "# Significance vs Relevance\n",
    "+ **Ejemplo:** como en el ejemplo anterior, consideramos un laboratorio farmacéutico que produce tabletas de medicamentos. El laboratorio afirma que sus pastillas tienen un diámetro medio de 13mm. Queremos examinar esa afirmación, así que tomamos una muestra aleatoria de $n = 50$ comprimidos y encontramos un diámetro medio muestral $\\bar X = 13.05$mm con una desviación estándar $s = 0,6$mm. Usamos esta muestra para realizar una prueba bilateral de la hipótesis nula $H_0:\\mu = 13\\}$."
   ]
  },
  {
   "cell_type": "code",
   "execution_count": 16,
   "id": "4b3b9d72",
   "metadata": {},
   "outputs": [
    {
     "name": "stdout",
     "output_type": "stream",
     "text": [
      "The t score for this sample is 0.5893\n",
      "And the resulting p-value is: 0.5584\n"
     ]
    }
   ],
   "source": [
    "# Aumentando el tamaño de la muestra, obtenemos un pvalor mucho menor. \n",
    "# Con muestras muy grandes puedes detectar efectos más pequeños.\n",
    "n = 50\n",
    "dof = n - 1\n",
    "barX = 13.05\n",
    "s = 0.6\n",
    "\n",
    "mu0 = 13\n",
    "sl = 0.95\n",
    "alpha = 1 - sl\n",
    "\n",
    "Tscore = (barX - mu0)/(s/np.sqrt(n))\n",
    "print(\"The t score for this sample is {:.4}\".format(Tscore))\n",
    "\n",
    "# Note the 2 factor for a two-sided test (comparamos que sea igual)\n",
    "# t de student para muestras pequeñas\n",
    "\n",
    "pValue = 2 * stats.t.sf(Tscore, df = dof) \n",
    "print(\"And the resulting p-value is: {:.4}\".format(pValue))\n"
   ]
  },
  {
   "cell_type": "markdown",
   "id": "555c79ef",
   "metadata": {},
   "source": [
    "# Ejercicios\n",
    "**Ejercicio (S06-001):** El conjunto de datos `mpg` (ya lo utilizamos en la sesión 02) se puede descargar [en formato csv con este enlace](https://raw.githubusercontent.com/tidyverse/ggplot2/main/data-raw/mpg.csv). Contiene información sobre el consumo de combustible (millas por galón, por lo tanto mpg) y otras características de algunos modelos de coches desde 1999 hasta 2008. Utilice la variable `cty` de este conjunto de datos para probar la hipótesis alternativa \n",
    "$$\n",
    "\\quad\\\\\n",
    "H_a = \\{\\mu > \\mu_0\\}\\quad\\text{ where }\\mu_0 = 16\\\\\n",
    "$$\n",
    "Supongamos que la variable es aproximadamente normal."
   ]
  },
  {
   "cell_type": "code",
   "execution_count": 17,
   "id": "165569fb",
   "metadata": {},
   "outputs": [
    {
     "data": {
      "text/html": [
       "<div>\n",
       "<style scoped>\n",
       "    .dataframe tbody tr th:only-of-type {\n",
       "        vertical-align: middle;\n",
       "    }\n",
       "\n",
       "    .dataframe tbody tr th {\n",
       "        vertical-align: top;\n",
       "    }\n",
       "\n",
       "    .dataframe thead th {\n",
       "        text-align: right;\n",
       "    }\n",
       "</style>\n",
       "<table border=\"1\" class=\"dataframe\">\n",
       "  <thead>\n",
       "    <tr style=\"text-align: right;\">\n",
       "      <th></th>\n",
       "      <th>manufacturer</th>\n",
       "      <th>model</th>\n",
       "      <th>displ</th>\n",
       "      <th>year</th>\n",
       "      <th>cyl</th>\n",
       "      <th>trans</th>\n",
       "      <th>drv</th>\n",
       "      <th>cty</th>\n",
       "      <th>hwy</th>\n",
       "      <th>fl</th>\n",
       "      <th>class</th>\n",
       "    </tr>\n",
       "  </thead>\n",
       "  <tbody>\n",
       "    <tr>\n",
       "      <th>0</th>\n",
       "      <td>audi</td>\n",
       "      <td>a4</td>\n",
       "      <td>1.8</td>\n",
       "      <td>1999</td>\n",
       "      <td>4</td>\n",
       "      <td>auto(l5)</td>\n",
       "      <td>f</td>\n",
       "      <td>18</td>\n",
       "      <td>29</td>\n",
       "      <td>p</td>\n",
       "      <td>compact</td>\n",
       "    </tr>\n",
       "    <tr>\n",
       "      <th>1</th>\n",
       "      <td>audi</td>\n",
       "      <td>a4</td>\n",
       "      <td>1.8</td>\n",
       "      <td>1999</td>\n",
       "      <td>4</td>\n",
       "      <td>manual(m5)</td>\n",
       "      <td>f</td>\n",
       "      <td>21</td>\n",
       "      <td>29</td>\n",
       "      <td>p</td>\n",
       "      <td>compact</td>\n",
       "    </tr>\n",
       "    <tr>\n",
       "      <th>2</th>\n",
       "      <td>audi</td>\n",
       "      <td>a4</td>\n",
       "      <td>2.0</td>\n",
       "      <td>2008</td>\n",
       "      <td>4</td>\n",
       "      <td>manual(m6)</td>\n",
       "      <td>f</td>\n",
       "      <td>20</td>\n",
       "      <td>31</td>\n",
       "      <td>p</td>\n",
       "      <td>compact</td>\n",
       "    </tr>\n",
       "    <tr>\n",
       "      <th>3</th>\n",
       "      <td>audi</td>\n",
       "      <td>a4</td>\n",
       "      <td>2.0</td>\n",
       "      <td>2008</td>\n",
       "      <td>4</td>\n",
       "      <td>auto(av)</td>\n",
       "      <td>f</td>\n",
       "      <td>21</td>\n",
       "      <td>30</td>\n",
       "      <td>p</td>\n",
       "      <td>compact</td>\n",
       "    </tr>\n",
       "    <tr>\n",
       "      <th>4</th>\n",
       "      <td>audi</td>\n",
       "      <td>a4</td>\n",
       "      <td>2.8</td>\n",
       "      <td>1999</td>\n",
       "      <td>6</td>\n",
       "      <td>auto(l5)</td>\n",
       "      <td>f</td>\n",
       "      <td>16</td>\n",
       "      <td>26</td>\n",
       "      <td>p</td>\n",
       "      <td>compact</td>\n",
       "    </tr>\n",
       "    <tr>\n",
       "      <th>...</th>\n",
       "      <td>...</td>\n",
       "      <td>...</td>\n",
       "      <td>...</td>\n",
       "      <td>...</td>\n",
       "      <td>...</td>\n",
       "      <td>...</td>\n",
       "      <td>...</td>\n",
       "      <td>...</td>\n",
       "      <td>...</td>\n",
       "      <td>...</td>\n",
       "      <td>...</td>\n",
       "    </tr>\n",
       "    <tr>\n",
       "      <th>229</th>\n",
       "      <td>volkswagen</td>\n",
       "      <td>passat</td>\n",
       "      <td>2.0</td>\n",
       "      <td>2008</td>\n",
       "      <td>4</td>\n",
       "      <td>auto(s6)</td>\n",
       "      <td>f</td>\n",
       "      <td>19</td>\n",
       "      <td>28</td>\n",
       "      <td>p</td>\n",
       "      <td>midsize</td>\n",
       "    </tr>\n",
       "    <tr>\n",
       "      <th>230</th>\n",
       "      <td>volkswagen</td>\n",
       "      <td>passat</td>\n",
       "      <td>2.0</td>\n",
       "      <td>2008</td>\n",
       "      <td>4</td>\n",
       "      <td>manual(m6)</td>\n",
       "      <td>f</td>\n",
       "      <td>21</td>\n",
       "      <td>29</td>\n",
       "      <td>p</td>\n",
       "      <td>midsize</td>\n",
       "    </tr>\n",
       "    <tr>\n",
       "      <th>231</th>\n",
       "      <td>volkswagen</td>\n",
       "      <td>passat</td>\n",
       "      <td>2.8</td>\n",
       "      <td>1999</td>\n",
       "      <td>6</td>\n",
       "      <td>auto(l5)</td>\n",
       "      <td>f</td>\n",
       "      <td>16</td>\n",
       "      <td>26</td>\n",
       "      <td>p</td>\n",
       "      <td>midsize</td>\n",
       "    </tr>\n",
       "    <tr>\n",
       "      <th>232</th>\n",
       "      <td>volkswagen</td>\n",
       "      <td>passat</td>\n",
       "      <td>2.8</td>\n",
       "      <td>1999</td>\n",
       "      <td>6</td>\n",
       "      <td>manual(m5)</td>\n",
       "      <td>f</td>\n",
       "      <td>18</td>\n",
       "      <td>26</td>\n",
       "      <td>p</td>\n",
       "      <td>midsize</td>\n",
       "    </tr>\n",
       "    <tr>\n",
       "      <th>233</th>\n",
       "      <td>volkswagen</td>\n",
       "      <td>passat</td>\n",
       "      <td>3.6</td>\n",
       "      <td>2008</td>\n",
       "      <td>6</td>\n",
       "      <td>auto(s6)</td>\n",
       "      <td>f</td>\n",
       "      <td>17</td>\n",
       "      <td>26</td>\n",
       "      <td>p</td>\n",
       "      <td>midsize</td>\n",
       "    </tr>\n",
       "  </tbody>\n",
       "</table>\n",
       "<p>234 rows × 11 columns</p>\n",
       "</div>"
      ],
      "text/plain": [
       "    manufacturer   model  displ  year  cyl       trans drv  cty  hwy fl  \\\n",
       "0           audi      a4    1.8  1999    4    auto(l5)   f   18   29  p   \n",
       "1           audi      a4    1.8  1999    4  manual(m5)   f   21   29  p   \n",
       "2           audi      a4    2.0  2008    4  manual(m6)   f   20   31  p   \n",
       "3           audi      a4    2.0  2008    4    auto(av)   f   21   30  p   \n",
       "4           audi      a4    2.8  1999    6    auto(l5)   f   16   26  p   \n",
       "..           ...     ...    ...   ...  ...         ...  ..  ...  ... ..   \n",
       "229   volkswagen  passat    2.0  2008    4    auto(s6)   f   19   28  p   \n",
       "230   volkswagen  passat    2.0  2008    4  manual(m6)   f   21   29  p   \n",
       "231   volkswagen  passat    2.8  1999    6    auto(l5)   f   16   26  p   \n",
       "232   volkswagen  passat    2.8  1999    6  manual(m5)   f   18   26  p   \n",
       "233   volkswagen  passat    3.6  2008    6    auto(s6)   f   17   26  p   \n",
       "\n",
       "       class  \n",
       "0    compact  \n",
       "1    compact  \n",
       "2    compact  \n",
       "3    compact  \n",
       "4    compact  \n",
       "..       ...  \n",
       "229  midsize  \n",
       "230  midsize  \n",
       "231  midsize  \n",
       "232  midsize  \n",
       "233  midsize  \n",
       "\n",
       "[234 rows x 11 columns]"
      ]
     },
     "execution_count": 17,
     "metadata": {},
     "output_type": "execute_result"
    }
   ],
   "source": [
    "data = pd.read_csv(\"https://raw.githubusercontent.com/tidyverse/ggplot2/main/data-raw/mpg.csv\")\n",
    "data"
   ]
  },
  {
   "cell_type": "code",
   "execution_count": 18,
   "id": "7412fada",
   "metadata": {},
   "outputs": [
    {
     "name": "stdout",
     "output_type": "stream",
     "text": [
      "The sample size is 234\n",
      "The sample mean is 16.86\n",
      "The T score is 3.087\n",
      "And the corresponding p-value is 0.001132\n",
      "Rechazamos la hipotesis nula porque el p valor es muy pequeño (no tenemos sign level con el que comparar), los datos no afirman hipotesis\n"
     ]
    }
   ],
   "source": [
    "# Más de 200 muestras, podemos usar la normal, pero como tenemos la \n",
    "#funcion ttest ya configurada, como para n grande la t es igual que\n",
    "# la normal, usaremos la t de student\n",
    "\n",
    "Tscore, pValue = stats.ttest_1samp(data[\"cty\"], \n",
    "                                   popmean=16, # valor de referencia = mu0. No se refiere a la poblacion sobre la que estás haciendo el contraste. Valor sobre el que se discute\n",
    "                                   alternative=\"greater\") # mu mas grande que, buscamos ese mu. Es la forma de contraste\n",
    "\n",
    "print(\"The sample size is {:3d}\".format(data.cty.size))\n",
    "print(\"The sample mean is {:.4}\".format(data.cty.mean()))\n",
    "print(\"The T score is {:.4}\".format(Tscore))\n",
    "print(\"And the corresponding p-value is {:.4}\".format(pValue))\n",
    "print(\"Rechazamos la hipotesis nula porque el p valor es muy pequeño (no tenemos sign level con el que comparar), los datos no afirman hipotesis\")\n"
   ]
  },
  {
   "cell_type": "markdown",
   "id": "e55a4ba0",
   "metadata": {},
   "source": [
    "+ **Exercise (S06-002).** Using the data in the **first column** of the linked [GEAR.DAT](https://www.itl.nist.gov/div898/handbook/datasets/GEAR.DAT) file, test the null hypothesis:\n",
    "$$\n",
    "H_0 = \\{\\sigma^2 = \\sigma^2_0\\}\n",
    "$$\n",
    "where $\\sigma_0^2 = 0.000025$. Use a 95% significance level. "
   ]
  },
  {
   "cell_type": "code",
   "execution_count": 19,
   "id": "986f5796",
   "metadata": {},
   "outputs": [
    {
     "data": {
      "text/html": [
       "<div>\n",
       "<style scoped>\n",
       "    .dataframe tbody tr th:only-of-type {\n",
       "        vertical-align: middle;\n",
       "    }\n",
       "\n",
       "    .dataframe tbody tr th {\n",
       "        vertical-align: top;\n",
       "    }\n",
       "\n",
       "    .dataframe thead th {\n",
       "        text-align: right;\n",
       "    }\n",
       "</style>\n",
       "<table border=\"1\" class=\"dataframe\">\n",
       "  <thead>\n",
       "    <tr style=\"text-align: right;\">\n",
       "      <th></th>\n",
       "      <th>DIAMETER</th>\n",
       "      <th>BATCH</th>\n",
       "    </tr>\n",
       "  </thead>\n",
       "  <tbody>\n",
       "    <tr>\n",
       "      <th>0</th>\n",
       "      <td>1.006</td>\n",
       "      <td>1.0</td>\n",
       "    </tr>\n",
       "    <tr>\n",
       "      <th>1</th>\n",
       "      <td>0.996</td>\n",
       "      <td>1.0</td>\n",
       "    </tr>\n",
       "    <tr>\n",
       "      <th>2</th>\n",
       "      <td>0.998</td>\n",
       "      <td>1.0</td>\n",
       "    </tr>\n",
       "    <tr>\n",
       "      <th>3</th>\n",
       "      <td>1.000</td>\n",
       "      <td>1.0</td>\n",
       "    </tr>\n",
       "    <tr>\n",
       "      <th>4</th>\n",
       "      <td>0.992</td>\n",
       "      <td>1.0</td>\n",
       "    </tr>\n",
       "    <tr>\n",
       "      <th>...</th>\n",
       "      <td>...</td>\n",
       "      <td>...</td>\n",
       "    </tr>\n",
       "    <tr>\n",
       "      <th>95</th>\n",
       "      <td>0.997</td>\n",
       "      <td>10.0</td>\n",
       "    </tr>\n",
       "    <tr>\n",
       "      <th>96</th>\n",
       "      <td>0.991</td>\n",
       "      <td>10.0</td>\n",
       "    </tr>\n",
       "    <tr>\n",
       "      <th>97</th>\n",
       "      <td>0.998</td>\n",
       "      <td>10.0</td>\n",
       "    </tr>\n",
       "    <tr>\n",
       "      <th>98</th>\n",
       "      <td>1.004</td>\n",
       "      <td>10.0</td>\n",
       "    </tr>\n",
       "    <tr>\n",
       "      <th>99</th>\n",
       "      <td>0.997</td>\n",
       "      <td>10.0</td>\n",
       "    </tr>\n",
       "  </tbody>\n",
       "</table>\n",
       "<p>100 rows × 2 columns</p>\n",
       "</div>"
      ],
      "text/plain": [
       "    DIAMETER  BATCH\n",
       "0      1.006    1.0\n",
       "1      0.996    1.0\n",
       "2      0.998    1.0\n",
       "3      1.000    1.0\n",
       "4      0.992    1.0\n",
       "..       ...    ...\n",
       "95     0.997   10.0\n",
       "96     0.991   10.0\n",
       "97     0.998   10.0\n",
       "98     1.004   10.0\n",
       "99     0.997   10.0\n",
       "\n",
       "[100 rows x 2 columns]"
      ]
     },
     "execution_count": 19,
     "metadata": {},
     "output_type": "execute_result"
    }
   ],
   "source": [
    "gear = pd.read_csv(\"data/GEAR.DAT.csv\")\n",
    "gear"
   ]
  },
  {
   "cell_type": "code",
   "execution_count": 20,
   "id": "cdc1cf09",
   "metadata": {},
   "outputs": [
    {
     "name": "stdout",
     "output_type": "stream",
     "text": [
      "Sample standard deviation s =  0.006279\n",
      "Sample standard deviation s =  0.006279\n",
      "The chi square score is 156.1\n",
      "The p-value is 0.0004427\n"
     ]
    }
   ],
   "source": [
    "s = gear.DIAMETER.std()\n",
    "print(\"Sample standard deviation s =  {:.4}\".format(s))\n",
    "\n",
    "n = len(gear.DIAMETER)\n",
    "print(\"Sample standard deviation s =  {:.4}\".format(s))\n",
    "\n",
    "# para chi necesitamos dof\n",
    "dof = n - 1\n",
    "s0_2 = 0.000025\n",
    "#sl = 0.95\n",
    "\n",
    "yscore = dof*s**2/s0_2\n",
    "print(\"The chi square score is {:.4}\".format(yscore))\n",
    "\n",
    "# estamos calculando el contraste de los dos lados (𝜎2=𝜎20) por lo qye el resultado lo debemos multiplicar por dos\n",
    "# And the p-value for this two-sided contrast\n",
    "pvalue = 2 * stats.chi2.sf(yscore, df = dof)\n",
    "print(\"The p-value is {:.4}\".format(pvalue))\n",
    "# usamos sf porque queremos calcular la cola de la derecha,\n",
    "# porque 156 es mayor que 99 (num de muestras), entonces cogemos la cola de \n",
    "# la derecha y lo multiplicamos por dos, para calcular ambos lados."
   ]
  },
  {
   "cell_type": "markdown",
   "id": "f862c6dd",
   "metadata": {},
   "source": [
    "+ **Ejercicio (S06-003)** se puede comprobar el resultado de la binomial mediante una simulación. Simule un experimento en el que tenga 20 muestras aleatorias independientes de tamaño 50 de 20 poblaciones normales todas ellas de tipo $Z = N(0, 1)$. Y comprueba la hipótesis nula (verdadera) \n",
    "$$\n",
    "\\quad\\\\\n",
    "H_0:\\{\\mu = \\mu_0\\}\\\\\n",
    "$$\n",
    "para cada una de estas 20 poblaciones, utilizando siempre un nivel de significación del 95%. Cuente el número de errores de tipo I que finalmente cometa. Repite este experimento un gran número de veces (toma $N = $ 10000 veces) y comprueba los resultados con la binomial correspondiente."
   ]
  },
  {
   "cell_type": "code",
   "execution_count": 21,
   "id": "b7055901",
   "metadata": {},
   "outputs": [
    {
     "name": "stdout",
     "output_type": "stream",
     "text": [
      "(50, 20, 10000)\n",
      "[[0.85320658 0.49599262 0.28003296 ... 0.8546708  0.76003505 0.26806071]\n",
      " [0.21732727 0.35088536 0.01149542 ... 0.58901152 0.02812214 0.73257508]\n",
      " [0.3623393  0.63835477 0.40345885 ... 0.49936984 0.94990568 0.58123341]\n",
      " ...\n",
      " [0.4672758  0.2860521  0.19596034 ... 0.43719967 0.84459437 0.55717167]\n",
      " [0.46759808 0.26300636 0.12515138 ... 0.92363107 0.7996563  0.00285848]\n",
      " [0.20259457 0.56866335 0.75127832 ... 0.64612897 0.84721749 0.67547315]]\n"
     ]
    },
    {
     "data": {
      "text/plain": [
       "<matplotlib.legend.Legend at 0x26b0a9f3850>"
      ]
     },
     "execution_count": 21,
     "metadata": {},
     "output_type": "execute_result"
    },
    {
     "data": {
      "image/png": "[encoded data removed]",
      "text/plain": [
       "<Figure size 640x480 with 1 Axes>"
      ]
     },
     "metadata": {},
     "output_type": "display_data"
    }
   ],
   "source": [
    "n =20\n",
    "size =50\n",
    "\n",
    "# comprobamos que si alguien se empeña en repetir un contaste muchas veces, \n",
    "# siempre vas a rechazar, porque siempre te va a tocar al menos una mala\n",
    "# si hago 20 repetciones de un contraste... que probs tengo de rechazarlo?\n",
    "# Es como hacer una binomial\n",
    "\n",
    "data = np.array(np.random.default_rng(2022).normal(loc = 0, scale = 1, size = (50, 20, 10000)))\n",
    "print(data.shape)\n",
    "\n",
    "# comprobar la hipotesis nula verdadera por los dos lados\n",
    "# esto me da una matriz de pvalores, porque hacemos 10000 pruebas para 20 poblaciones de tam 50\n",
    "# calcula el pvalor para cada una de las poblaciones (muestras), 1000 veces\n",
    "Tscores, pValues = stats.ttest_1samp(data, \n",
    "                                     popmean = 0, # media de la pob N(0,1)\n",
    "                                     axis = 0, \n",
    "                                     alternative='two-sided')# por los dos lados\n",
    "print(pValues)\n",
    "# cuenta del error de tipo 1 (rechazar la h0 cuando es true)\n",
    "counts, freqs = np.unique(np.sum(pValues < 0.05, axis=0), return_counts=True)\n",
    "\n",
    "width = 0.35  # the width of the bars\n",
    "\n",
    "fig, ax = plt.subplots()\n",
    "# Representamos el error de menor que 0.5\n",
    "rects1 = ax.bar(counts - width/2,\n",
    "                freqs/10000,\n",
    "                width, \n",
    "                label='Simulation')\n",
    "# calculamos la binomial y la representamos, buscamos el 0.5 porque es el \n",
    "# alpha de nuestro problema, para comparar con lo que hemos representado arriba (menor que 0.5)\n",
    "rects2 = ax.bar(np.arange(8) + width/2,\n",
    "                stats.binom.pmf(np.arange(8),# tamaño de la muestra\n",
    "                                20, # porb de exito\n",
    "                                0.05), #Num dentro de la muestra\n",
    "                width, \n",
    "                label='Binomial')\n",
    "ax.set_title('Relative frequencies of number of type I errors vs binomial predicted probabilities')\n",
    "ax.legend()\n"
   ]
  },
  {
   "cell_type": "markdown",
   "id": "b1125c16",
   "metadata": {},
   "source": [
    "+ **Ejercicio (S06-004)** aplique la corrección de Bonferroni al ejemplo anterior y averigüe cuántas de las $N$ simulaciones contienen al menos un error de tipo I. Recuerde que cada simulación consta de 20 pruebas independientes."
   ]
  },
  {
   "cell_type": "code",
   "execution_count": 22,
   "id": "0c8f4fa1",
   "metadata": {},
   "outputs": [
    {
     "name": "stdout",
     "output_type": "stream",
     "text": [
      "[0 1 2]\n",
      "[9529  457   14]\n",
      "[0.9529 0.0457 0.0014]\n"
     ]
    }
   ],
   "source": [
    "# En lugar de comparar que nuestro pvalor sea menor que alpha\n",
    "# lo compararemos con alpha/m, siendo m el numero de pruebas realizadas \n",
    "#(20 pruebas en cada simulacion)\n",
    "\n",
    "# cuenta del error de tipo 1 (rechazar la h0 cuando es true)\n",
    "counts_bonf, freqs_bonf  = np.unique(np.sum(pValues < 0.05/20, axis=0), return_counts=True)\n",
    "print(counts_bonf)\n",
    "print(freqs_bonf)\n",
    "print(freqs_bonf / 10000)"
   ]
  },
  {
   "cell_type": "markdown",
   "id": "a7388453",
   "metadata": {},
   "source": [
    "+ Esta cuestión del control de la tasa de error en las pruebas repetidas ha sido objeto de una intensa investigación estadística recientemente. En genómica, por ejemplo, es muy frecuente que se prueben decenas de miles de hipótesis (una prueba por cada gen del genoma).  En tales circunstancias, utilizar una corrección tipo Bonferroni sería demasiado drástico: rechazaríamos muy pocos de los nulos, lo que no dejaría espacio para el descubrimiento científico. Por tanto, necesitamos algún tipo de equilibrio entre los falsos descubrimientos y la ausencia de descubrimientos. "
   ]
  }
 ],
 "metadata": {
  "kernelspec": {
   "display_name": "Python 3 (ipykernel)",
   "language": "python",
   "name": "python3"
  },
  "language_info": {
   "codemirror_mode": {
    "name": "ipython",
    "version": 3
   },
   "file_extension": ".py",
   "mimetype": "text/x-python",
   "name": "python",
   "nbconvert_exporter": "python",
   "pygments_lexer": "ipython3",
   "version": "3.10.4"
  }
 },
 "nbformat": 4,
 "nbformat_minor": 5
}
