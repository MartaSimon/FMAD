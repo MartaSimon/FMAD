{
 "cells": [
  {
   "cell_type": "code",
   "execution_count": 2,
   "id": "19f812f3",
   "metadata": {},
   "outputs": [],
   "source": [
    "import pandas as pd\n",
    "import numpy as np\n",
    "import scipy.stats as stats\n",
    "import matplotlib.pyplot as plt\n"
   ]
  },
  {
   "cell_type": "markdown",
   "id": "4c677b50",
   "metadata": {},
   "source": [
    "## Pregunta 1: Frecuencia absoluta de 21"
   ]
  },
  {
   "cell_type": "code",
   "execution_count": 2,
   "id": "7f23f238",
   "metadata": {},
   "outputs": [
    {
     "data": {
      "text/html": [
       "<div>\n",
       "<style scoped>\n",
       "    .dataframe tbody tr th:only-of-type {\n",
       "        vertical-align: middle;\n",
       "    }\n",
       "\n",
       "    .dataframe tbody tr th {\n",
       "        vertical-align: top;\n",
       "    }\n",
       "\n",
       "    .dataframe thead th {\n",
       "        text-align: right;\n",
       "    }\n",
       "</style>\n",
       "<table border=\"1\" class=\"dataframe\">\n",
       "  <thead>\n",
       "    <tr style=\"text-align: right;\">\n",
       "      <th></th>\n",
       "      <th>x</th>\n",
       "    </tr>\n",
       "  </thead>\n",
       "  <tbody>\n",
       "    <tr>\n",
       "      <th>0</th>\n",
       "      <td>6</td>\n",
       "    </tr>\n",
       "    <tr>\n",
       "      <th>1</th>\n",
       "      <td>21</td>\n",
       "    </tr>\n",
       "    <tr>\n",
       "      <th>2</th>\n",
       "      <td>6</td>\n",
       "    </tr>\n",
       "    <tr>\n",
       "      <th>3</th>\n",
       "      <td>10</td>\n",
       "    </tr>\n",
       "    <tr>\n",
       "      <th>4</th>\n",
       "      <td>3</td>\n",
       "    </tr>\n",
       "  </tbody>\n",
       "</table>\n",
       "</div>"
      ],
      "text/plain": [
       "    x\n",
       "0   6\n",
       "1  21\n",
       "2   6\n",
       "3  10\n",
       "4   3"
      ]
     },
     "execution_count": 2,
     "metadata": {},
     "output_type": "execute_result"
    }
   ],
   "source": [
    "df1 = pd.read_csv('data/FicheroCsv_FrecuenciaAbsoluta_01.csv', header=0)\n",
    "df1.head()"
   ]
  },
  {
   "cell_type": "code",
   "execution_count": 3,
   "id": "a112bbdc",
   "metadata": {},
   "outputs": [
    {
     "data": {
      "text/plain": [
       "24    44\n",
       "20    38\n",
       "21    37\n",
       "19    25\n",
       "6     22\n",
       "8     18\n",
       "3     17\n",
       "30    15\n",
       "10    10\n",
       "Name: x, dtype: int64"
      ]
     },
     "execution_count": 3,
     "metadata": {},
     "output_type": "execute_result"
    }
   ],
   "source": [
    "AbsFreq_X = df1['x'].value_counts()\n",
    "AbsFreq_X"
   ]
  },
  {
   "cell_type": "markdown",
   "id": "8909754b",
   "metadata": {},
   "source": [
    "## Pregunta 2: Frecuencia relativa de 26"
   ]
  },
  {
   "cell_type": "code",
   "execution_count": 4,
   "id": "e8688cce",
   "metadata": {},
   "outputs": [
    {
     "data": {
      "text/html": [
       "<div>\n",
       "<style scoped>\n",
       "    .dataframe tbody tr th:only-of-type {\n",
       "        vertical-align: middle;\n",
       "    }\n",
       "\n",
       "    .dataframe tbody tr th {\n",
       "        vertical-align: top;\n",
       "    }\n",
       "\n",
       "    .dataframe thead th {\n",
       "        text-align: right;\n",
       "    }\n",
       "</style>\n",
       "<table border=\"1\" class=\"dataframe\">\n",
       "  <thead>\n",
       "    <tr style=\"text-align: right;\">\n",
       "      <th></th>\n",
       "      <th>x</th>\n",
       "    </tr>\n",
       "  </thead>\n",
       "  <tbody>\n",
       "    <tr>\n",
       "      <th>0</th>\n",
       "      <td>26</td>\n",
       "    </tr>\n",
       "    <tr>\n",
       "      <th>1</th>\n",
       "      <td>2</td>\n",
       "    </tr>\n",
       "    <tr>\n",
       "      <th>2</th>\n",
       "      <td>22</td>\n",
       "    </tr>\n",
       "    <tr>\n",
       "      <th>3</th>\n",
       "      <td>11</td>\n",
       "    </tr>\n",
       "    <tr>\n",
       "      <th>4</th>\n",
       "      <td>19</td>\n",
       "    </tr>\n",
       "  </tbody>\n",
       "</table>\n",
       "</div>"
      ],
      "text/plain": [
       "    x\n",
       "0  26\n",
       "1   2\n",
       "2  22\n",
       "3  11\n",
       "4  19"
      ]
     },
     "execution_count": 4,
     "metadata": {},
     "output_type": "execute_result"
    }
   ],
   "source": [
    "df2 = pd.read_csv('data/FicheroCsv_FrecuenciaRelativa_01.csv', header=0)\n",
    "df2.head()"
   ]
  },
  {
   "cell_type": "code",
   "execution_count": 5,
   "id": "e9ed19b5",
   "metadata": {},
   "outputs": [
    {
     "data": {
      "text/plain": [
       "2     0.104265\n",
       "3     0.146919\n",
       "11    0.085308\n",
       "19    0.109005\n",
       "22    0.189573\n",
       "26    0.137441\n",
       "29    0.227488\n",
       "Name: x, dtype: float64"
      ]
     },
     "execution_count": 5,
     "metadata": {},
     "output_type": "execute_result"
    }
   ],
   "source": [
    "RelFreq_X = df2['x'].value_counts(normalize=True).sort_index()\n",
    "RelFreq_X"
   ]
  },
  {
   "cell_type": "markdown",
   "id": "6f78da53",
   "metadata": {},
   "source": [
    "## Pregunta 3: Frecuencia relativa acumulada de 18"
   ]
  },
  {
   "cell_type": "code",
   "execution_count": 7,
   "id": "a7f1088c",
   "metadata": {},
   "outputs": [
    {
     "data": {
      "text/html": [
       "<div>\n",
       "<style scoped>\n",
       "    .dataframe tbody tr th:only-of-type {\n",
       "        vertical-align: middle;\n",
       "    }\n",
       "\n",
       "    .dataframe tbody tr th {\n",
       "        vertical-align: top;\n",
       "    }\n",
       "\n",
       "    .dataframe thead th {\n",
       "        text-align: right;\n",
       "    }\n",
       "</style>\n",
       "<table border=\"1\" class=\"dataframe\">\n",
       "  <thead>\n",
       "    <tr style=\"text-align: right;\">\n",
       "      <th></th>\n",
       "      <th>x</th>\n",
       "    </tr>\n",
       "  </thead>\n",
       "  <tbody>\n",
       "    <tr>\n",
       "      <th>0</th>\n",
       "      <td>26</td>\n",
       "    </tr>\n",
       "    <tr>\n",
       "      <th>1</th>\n",
       "      <td>15</td>\n",
       "    </tr>\n",
       "    <tr>\n",
       "      <th>2</th>\n",
       "      <td>14</td>\n",
       "    </tr>\n",
       "    <tr>\n",
       "      <th>3</th>\n",
       "      <td>14</td>\n",
       "    </tr>\n",
       "    <tr>\n",
       "      <th>4</th>\n",
       "      <td>26</td>\n",
       "    </tr>\n",
       "  </tbody>\n",
       "</table>\n",
       "</div>"
      ],
      "text/plain": [
       "    x\n",
       "0  26\n",
       "1  15\n",
       "2  14\n",
       "3  14\n",
       "4  26"
      ]
     },
     "execution_count": 7,
     "metadata": {},
     "output_type": "execute_result"
    }
   ],
   "source": [
    "df3 = pd.read_csv('data/Cuestionario 1/FicheroCsv_FrecuenciaRelativaAcumulada_01.csv', header=0)\n",
    "df3.head()"
   ]
  },
  {
   "cell_type": "code",
   "execution_count": 8,
   "id": "a37b7498",
   "metadata": {},
   "outputs": [
    {
     "data": {
      "text/plain": [
       "9     0.060241\n",
       "10    0.259036\n",
       "11    0.403614\n",
       "14    0.638554\n",
       "15    0.879518\n",
       "26    1.000000\n",
       "Name: x, dtype: float64"
      ]
     },
     "execution_count": 8,
     "metadata": {},
     "output_type": "execute_result"
    }
   ],
   "source": [
    "RelFreq_X = df3['x'].value_counts(normalize=True).sort_index()\n",
    "RelFreq_X.cumsum()"
   ]
  },
  {
   "cell_type": "markdown",
   "id": "a969ac83",
   "metadata": {},
   "source": [
    "## Pregunta 4: Calculo de la media"
   ]
  },
  {
   "cell_type": "code",
   "execution_count": 8,
   "id": "a089b8af",
   "metadata": {},
   "outputs": [
    {
     "data": {
      "text/html": [
       "<div>\n",
       "<style scoped>\n",
       "    .dataframe tbody tr th:only-of-type {\n",
       "        vertical-align: middle;\n",
       "    }\n",
       "\n",
       "    .dataframe tbody tr th {\n",
       "        vertical-align: top;\n",
       "    }\n",
       "\n",
       "    .dataframe thead th {\n",
       "        text-align: right;\n",
       "    }\n",
       "</style>\n",
       "<table border=\"1\" class=\"dataframe\">\n",
       "  <thead>\n",
       "    <tr style=\"text-align: right;\">\n",
       "      <th></th>\n",
       "      <th>x</th>\n",
       "    </tr>\n",
       "  </thead>\n",
       "  <tbody>\n",
       "    <tr>\n",
       "      <th>0</th>\n",
       "      <td>24.764722</td>\n",
       "    </tr>\n",
       "    <tr>\n",
       "      <th>1</th>\n",
       "      <td>-30.190333</td>\n",
       "    </tr>\n",
       "    <tr>\n",
       "      <th>2</th>\n",
       "      <td>-1.328624</td>\n",
       "    </tr>\n",
       "    <tr>\n",
       "      <th>3</th>\n",
       "      <td>17.260956</td>\n",
       "    </tr>\n",
       "    <tr>\n",
       "      <th>4</th>\n",
       "      <td>-10.942857</td>\n",
       "    </tr>\n",
       "  </tbody>\n",
       "</table>\n",
       "</div>"
      ],
      "text/plain": [
       "           x\n",
       "0  24.764722\n",
       "1 -30.190333\n",
       "2  -1.328624\n",
       "3  17.260956\n",
       "4 -10.942857"
      ]
     },
     "execution_count": 8,
     "metadata": {},
     "output_type": "execute_result"
    }
   ],
   "source": [
    "df4 = pd.read_csv('data/FicheroCsv_media_01.csv', header=0)\n",
    "df4.head()"
   ]
  },
  {
   "cell_type": "code",
   "execution_count": 9,
   "id": "b8af99c5",
   "metadata": {},
   "outputs": [
    {
     "name": "stdout",
     "output_type": "stream",
     "text": [
      "x    2.223522\n",
      "dtype: float64\n",
      "x    2.223522\n",
      "dtype: float64\n"
     ]
    }
   ],
   "source": [
    "print(df4.mean())\n",
    "# Comprobación\n",
    "print(df4.sum()/df4.size)"
   ]
  },
  {
   "cell_type": "markdown",
   "id": "26fdcb8c",
   "metadata": {},
   "source": [
    "## Pregunta 5: Cálculo de la media desde un fichero excel"
   ]
  },
  {
   "cell_type": "code",
   "execution_count": 10,
   "id": "f248d63f",
   "metadata": {},
   "outputs": [
    {
     "name": "stdout",
     "output_type": "stream",
     "text": [
      "x   -66.963957\n",
      "dtype: float64\n",
      "x   -66.963957\n",
      "dtype: float64\n"
     ]
    }
   ],
   "source": [
    "df5 = pd.read_excel(\"data/FicheroExcel_media_01.xlsx\")\n",
    "df5.head()\n",
    "print(df5.mean())\n",
    "# Comprobación\n",
    "print(df5.sum()/df5.size)"
   ]
  },
  {
   "cell_type": "code",
   "execution_count": 11,
   "id": "3817ad0f",
   "metadata": {},
   "outputs": [],
   "source": [
    "# Nos pide instalar esto para poder leer el fichero:\n",
    "# ! pip install openpyxl"
   ]
  },
  {
   "cell_type": "markdown",
   "id": "22c0afe9",
   "metadata": {},
   "source": [
    "## Pregunta 6: Cálculo de la media desde un fichero sas"
   ]
  },
  {
   "cell_type": "code",
   "execution_count": 12,
   "id": "260ca0b6",
   "metadata": {},
   "outputs": [
    {
     "name": "stdout",
     "output_type": "stream",
     "text": [
      "   -84.136888\n",
      "dtype: float64\n",
      "   -84.136888\n",
      "dtype: float64\n"
     ]
    }
   ],
   "source": [
    "df6 = pd.read_sas(\"data/FicheroSAS_media_01.sas7bdat\")\n",
    "df6.head()\n",
    "print(df6.mean())\n",
    "# Comprobación\n",
    "print(df6.sum()/df6.size)"
   ]
  },
  {
   "cell_type": "markdown",
   "id": "b4250c28",
   "metadata": {},
   "source": [
    "## Pregunta 7: Cálculo de la mediana"
   ]
  },
  {
   "cell_type": "code",
   "execution_count": 13,
   "id": "989f8a8a",
   "metadata": {},
   "outputs": [
    {
     "data": {
      "text/plain": [
       "-7.040827800985425"
      ]
     },
     "execution_count": 13,
     "metadata": {},
     "output_type": "execute_result"
    }
   ],
   "source": [
    "df7 = pd.read_csv(\"data/FicheroCsv_mediana_01.csv\")\n",
    "df7.head()\n",
    "np.median(df7)"
   ]
  },
  {
   "cell_type": "markdown",
   "id": "86f02e3f",
   "metadata": {},
   "source": [
    "## Pregunta 8: BoxPlot de un fichero csv"
   ]
  },
  {
   "cell_type": "code",
   "execution_count": 18,
   "id": "dfc20937",
   "metadata": {},
   "outputs": [
    {
     "data": {
      "text/html": [
       "<div>\n",
       "<style scoped>\n",
       "    .dataframe tbody tr th:only-of-type {\n",
       "        vertical-align: middle;\n",
       "    }\n",
       "\n",
       "    .dataframe tbody tr th {\n",
       "        vertical-align: top;\n",
       "    }\n",
       "\n",
       "    .dataframe thead th {\n",
       "        text-align: right;\n",
       "    }\n",
       "</style>\n",
       "<table border=\"1\" class=\"dataframe\">\n",
       "  <thead>\n",
       "    <tr style=\"text-align: right;\">\n",
       "      <th></th>\n",
       "      <th>x</th>\n",
       "    </tr>\n",
       "  </thead>\n",
       "  <tbody>\n",
       "    <tr>\n",
       "      <th>0</th>\n",
       "      <td>-77.678039</td>\n",
       "    </tr>\n",
       "    <tr>\n",
       "      <th>1</th>\n",
       "      <td>-61.556528</td>\n",
       "    </tr>\n",
       "    <tr>\n",
       "      <th>2</th>\n",
       "      <td>-59.105534</td>\n",
       "    </tr>\n",
       "    <tr>\n",
       "      <th>3</th>\n",
       "      <td>-70.074940</td>\n",
       "    </tr>\n",
       "    <tr>\n",
       "      <th>4</th>\n",
       "      <td>-79.503622</td>\n",
       "    </tr>\n",
       "  </tbody>\n",
       "</table>\n",
       "</div>"
      ],
      "text/plain": [
       "           x\n",
       "0 -77.678039\n",
       "1 -61.556528\n",
       "2 -59.105534\n",
       "3 -70.074940\n",
       "4 -79.503622"
      ]
     },
     "execution_count": 18,
     "metadata": {},
     "output_type": "execute_result"
    }
   ],
   "source": [
    "df8 = pd.read_csv(\"data/boxplot_atipicos_01.csv\")\n",
    "df8.head()"
   ]
  },
  {
   "cell_type": "code",
   "execution_count": 19,
   "id": "8201eca7",
   "metadata": {},
   "outputs": [
    {
     "data": {
      "image/png": "[encoded data removed]",
      "text/plain": [
       "<Figure size 640x480 with 1 Axes>"
      ]
     },
     "metadata": {},
     "output_type": "display_data"
    }
   ],
   "source": [
    "#getPlot = df8.boxplot(column='x')\n",
    "getPlot = df8['x'].plot.box()\n",
    "#getPlot = df8[\"x\"].plot.density()\n",
    "\n",
    "\n",
    "#.loc[:, [\"x\"]].plot.box()"
   ]
  }
 ],
 "metadata": {
  "kernelspec": {
   "display_name": "Python 3 (ipykernel)",
   "language": "python",
   "name": "python3"
  },
  "language_info": {
   "codemirror_mode": {
    "name": "ipython",
    "version": 3
   },
   "file_extension": ".py",
   "mimetype": "text/x-python",
   "name": "python",
   "nbconvert_exporter": "python",
   "pygments_lexer": "ipython3",
   "version": "3.10.4"
  }
 },
 "nbformat": 4,
 "nbformat_minor": 5
}
