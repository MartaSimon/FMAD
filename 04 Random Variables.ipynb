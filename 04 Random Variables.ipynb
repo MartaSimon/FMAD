{
 "cells": [
  {
   "cell_type": "markdown",
   "id": "d41fe488",
   "metadata": {},
   "source": [
    "<img src='./fig/vertical_COMILLAS_COLOR.jpg' style= 'width:70mm'>\n",
    "\n",
    "<h1 style='font-family: Optima;color:#ecac00'>\n",
    "Máster en Big Data. Tecnología y Analítica Avanzada (MBD).\n",
    "<a class=\"tocSkip\">\n",
    "</h1>\n",
    "\n",
    "<h1 style='font-family: Optima;color:#ecac00'>\n",
    "Fundamentos Matemáticos del Análisis de Datos (FMAD). 2022-2023.\n",
    "<a class=\"tocSkip\">\n",
    "</h1>\n",
    "\n",
    "<h1 style='font-family: Optima;color:#ecac00'>\n",
    "04 Random Variables\n",
    "<a class=\"tocSkip\">   \n",
    "</h1>  "
   ]
  },
  {
   "cell_type": "markdown",
   "id": "0532748f",
   "metadata": {},
   "source": [
    "## <span style='background:yellow; color:red'> Remember:<a class=\"tocSkip\"> </span>     \n",
    "\n",
    "+ Navigate to your `fmad2223` folder in the console/terminal.  \n",
    "+ Execute `git pull origin main` to update the code\n",
    "+ **Do not modify the files in that folder**, copy them elsewhere"
   ]
  },
  {
   "cell_type": "code",
   "execution_count": 1,
   "id": "4f98b151",
   "metadata": {
    "scrolled": false
   },
   "outputs": [],
   "source": [
    "# Standard Data Science Libraries Import\n",
    "\n",
    "import numpy as np\n",
    "import pandas as pd\n",
    "import matplotlib.pyplot as plt\n",
    "import scipy as scp\n",
    "import seaborn as sns\n",
    "\n",
    "#sns.set(rc={'figure.figsize':(12, 8.5)})\n",
    "sns.set()"
   ]
  },
  {
   "cell_type": "markdown",
   "id": "7aaa25e1",
   "metadata": {},
   "source": [
    "## Discrete Random Variables\n",
    "\n",
    "Una variable aleatoria es una tabla de valores y probabilidades\n",
    "Cuando es una cantidad finita, es una variable __discreta?__"
   ]
  },
  {
   "cell_type": "markdown",
   "id": "9efc8ed9",
   "metadata": {},
   "source": [
    "### Theoretical Models Vs Empirical Data"
   ]
  },
  {
   "cell_type": "markdown",
   "id": "9fec7d03",
   "metadata": {},
   "source": [
    "+ We begin with a simple mental experiment. Imagine we roll a dice (a honest not-loaded one) a million times and we look at the relative frequencies of every possible result. What is your guess for the numbers in the second row of this table?  \n",
    "$$\n",
    "\\quad\\\\\n",
    "\\begin{array}{|c|c|c|c|c|c|c|}\n",
    "\\hline\n",
    "\\text{value} & 1 & 2 & 3 & 4 & 5 & 6 \\\\\n",
    "\\hline\n",
    "\\text{relative frequency} & ? & ? & ? & ? & ? & ? \\\\\n",
    "\\hline\n",
    "\\end{array}\n",
    "\\quad\\\\\n",
    "$$\n",
    "    Those values that you clearly have in your mind are a **theoretical model** (your *prior*) of the outcome of this experiment. Of course, when we run the experiment and we get **empirical data** we do not expect the results to be a perfect match with the theory, because this is a **random experiment**. \n",
    "\n",
    "+ And that is precisely the notion of a discrete random variable $X$: *a theoretical model for the outcome of a random experiment with a finite number of possible outcomes.* More precisely (from the mathematical point of view) the result of the experiment is a discrete/countable set.\n",
    "\n",
    "+ Therefore, in order to describe a discrete random variable $X$ we need to provide its **probability density table or function**. That is a table of all the possible values of $X$ and their corresponding probabilities:\n",
    "$$\n",
    "\\quad\\\\\n",
    "\\begin{array}{|c|c|c|c|c|c|c|}\n",
    "\\hline\n",
    "\\text{value of }X: & x_1 & x_2 & \\cdots & x_k \\\\\n",
    "\\hline\n",
    "\\text{Probability for that value: }P(X = x_i) & p_1 & p_2 & \\cdots & p_k \\\\\n",
    "\\hline\n",
    "\\end{array}\n",
    "\\quad\\\\\n",
    "$$\n",
    "where $p_1 + p_2 + \\cdots + p_k = 1$. Sometimes we will use *function notation* $f(x_i) = P(X = x_i)$, specially when we want to give a *formula* for the probability. We will soon see examples. \n",
    "\n",
    "+ The probability density function is sometimes called *probability mass function*. Thus you may see it abreviated to pdf or pmf, depending on the authors. For example, SciPy uses `pmf`.\n"
   ]
  },
  {
   "cell_type": "markdown",
   "id": "66215849",
   "metadata": {},
   "source": [
    "+ **Exercise:** use NumPy to do the experiment with a million dice rolls and get their absolute and relative frequency table.  "
   ]
  },
  {
   "cell_type": "code",
   "execution_count": 2,
   "id": "c8e44263",
   "metadata": {
    "scrolled": false
   },
   "outputs": [
    {
     "name": "stdout",
     "output_type": "stream",
     "text": [
      "Las primeras 30 tiradas --> [5 2 5 1 2 4 6 1 1 4 6 5 5 1 4 1 1 3 6 6 3 6 1 2 4 4 3 2 1 2]\n",
      "Media de tiradas  3.497677\n",
      "Tabla de frecuencias absolutas\n",
      "AbsFreq\n",
      "1    166789\n",
      "2    166850\n",
      "3    166965\n",
      "4    166901\n",
      "5    166281\n",
      "6    166214\n",
      "Name: value, dtype: int64\n",
      "Tabla de frecuencias relativas\n",
      "RelFreq\n",
      "1    0.166789\n",
      "2    0.166850\n",
      "3    0.166965\n",
      "4    0.166901\n",
      "5    0.166281\n",
      "6    0.166214\n",
      "Name: value, dtype: float64\n",
      "1    166767\n",
      "2    166412\n",
      "3    166739\n",
      "4    166174\n",
      "5    166786\n",
      "6    167122\n",
      "dtype: int64\n",
      "1    0.166767\n",
      "2    0.166412\n",
      "3    0.166739\n",
      "4    0.166174\n",
      "5    0.166786\n",
      "6    0.167122\n",
      "dtype: float64\n"
     ]
    }
   ],
   "source": [
    "N = 1000000\n",
    "# Buena práctica: Inicializar el generador de numeros aleatorios\n",
    "rng = np.random.default_rng(2022)\n",
    "\n",
    "# Nueva forma con nueva librería de pandas, la de mi solución también es válida\n",
    "# Tiramos el dado\n",
    "dice = rng.integers(low=1, high=7, size = N)\n",
    "\n",
    "# Imprimimos los primeros 30 para ver cómo lo hemos creado\n",
    "print(\"Las primeras 30 tiradas --> \" +  str(dice[:30]))\n",
    "print(\"Media de tiradas  \" + str(dice.mean()))\n",
    "\n",
    "# Lo metemos en un dataframe\n",
    "X = pd.DataFrame(dice, columns=[\"value\"])\n",
    "\n",
    "# Calculamos las frecuencias absolutas, renombra el eje para que sea más descriptivo\n",
    "AbsFreq = X[\"value\"].value_counts().rename_axis(\"AbsFreq\").sort_index()\n",
    "print(\"Tabla de frecuencias absolutas\")\n",
    "print(AbsFreq)\n",
    "\n",
    "# Calculamos las frecuencias relativas\n",
    "RelFreq = X[\"value\"].value_counts(normalize=True).rename_axis(\"RelFreq\").sort_index()\n",
    "print(\"Tabla de frecuencias relativas\")\n",
    "print(RelFreq)\n",
    "\n",
    "\n",
    "# MI SOLUCIÓN: Correcta pero menos elaborada.\n",
    "df = pd.DataFrame(np.random.randint(1,7,size=(N, 1)))\n",
    "#print(\"Mi df: \")\n",
    "#print(df)\n",
    "print(df.value_counts().sort_index())\n",
    "print(df.value_counts(normalize=True).sort_index())\n"
   ]
  },
  {
   "cell_type": "markdown",
   "id": "44f14ccd",
   "metadata": {},
   "source": [
    "### Mean and Variance for a Discrete Random Variable"
   ]
  },
  {
   "cell_type": "markdown",
   "id": "2629d400",
   "metadata": {},
   "source": [
    "+ A discrete random variable $X$ is therefore a theoretical model for the distribution of values of a random variable in a population. The **population mean** or **expectation** of $X$ represents the mean or average of the values that $X$ takes *in the population*. It is denoted with the greek letter $\\mu$ and also wit the symbol $E(X)$. When we need to clarify the random variable involved we will sometimes use a symbol such as $\\mu_X$.\n",
    "\n",
    "+ Similarly we define the **population variance** $\\sigma^2$, using all the values in the population. Both $\\mu$ and $\\sigma^2$ should be considered as abstract or also *hidden* values that we want to *estimate*, getting approximate values, but we can not actually obtain with certainty."
   ]
  },
  {
   "cell_type": "markdown",
   "id": "e4134991",
   "metadata": {},
   "source": [
    "+ One of the main goals of Statistics is to use sample data to estimate parameters of a population. Suppose that the discrete variable $X$ takes $n$ different values $x_1, x_2,\\ldots, x_k$. If we have a sample of $X$ and the absolute frequencies **in that sample** are $f_1, f_2, \\ldots,f_k$, then we can use that sample to give an estimate of the == *population mean* $\\mu$ using the *sample mean*(media teórica) == : \n",
    "$$\n",
    "\\quad\\\\\n",
    "\\bar X = \\dfrac{x_1 f_1 + \\cdots + x_k f_k}{n} = x_1 fr_1 + \\cdots + x_k fr_k\n",
    "\\quad\\\\\n",
    "$$  \n",
    "  where $fr_1, \\ldots, fr_k$ are the *sample relative frequencies*. It is very important that you realize that $\\bar X$ is an empirical quantity that comes out of a sample. Therefore it is something that we can compute using that sample that we have. On the other hand $\\mu$ is a theoretical quantity because it belongs to the population and we do not have access to the population (we would not be needing Statistic if we did!)."
   ]
  },
  {
   "cell_type": "markdown",
   "id": "cfc678f7",
   "metadata": {},
   "source": [
    "+ Now, looking at the last formula, recall that the relative frequencies are closely related with probabilities. In fact, the idea of probability first appeared as a theoretical model of the relative frequency. And so if we want to give a theoretical definition of the mean or expectation of a discrete random variable the only sensible choice is this:\n",
    "<p style='font-family: Optima;color:blue;background-color:#f0f0f5'>\n",
    "$$\n",
    "\\fbox{\n",
    "$\n",
    "\\quad\\\\\n",
    "\\quad\\quad\\textbf{Mean of a Discrete Random Variable $X$ }\n",
    "\\quad\\\\\n",
    "\\mu = E(X) = x_1 p_1 + \\cdots + x_k p_k = \\sum_{i = 1}^k \\,x_i p_i\n",
    "$\n",
    "}\n",
    "$$\n",
    "</p> \n",
    "\n",
    "  That is, we have simply replaced relative frequencies with probabilities to go from empirical to theoretical. A similar reasoning lead to this expression for the:\n",
    "<p style='font-family: Optima;color:blue;background-color:#f0f0f5'>\n",
    "$$\n",
    "\\fbox{\n",
    "$\n",
    "\\quad\\\\\n",
    "\\quad\\quad\\quad\\quad\\textbf{Variance of a Discrete Random Variable $X$}\n",
    "\\quad\\\\\n",
    "\\sigma^2 = \\operatorname{Var}(X) = \n",
    "(x_1 - \\mu)^2 p_1 + \\cdots + (x_k - \\mu)^2 p_k = \\sum_{i = 1}^k \\,(x_i -\\mu)^2 p_i\n",
    "$\n",
    "}\n",
    "$$\n",
    "</p> \n",
    "\n",
    "  The positive square root $\\sigma$ of the variance is called the **standard deviation** of $X$."
   ]
  },
  {
   "cell_type": "markdown",
   "id": "7a8416b4",
   "metadata": {},
   "source": [
    "**Exercise:** use Python (with NumPy or pandas) to compute $\\mu$ and $\\sigma^2$ for the random variable $X$ representing the outcome of a honest dice. "
   ]
  },
  {
   "cell_type": "code",
   "execution_count": 3,
   "id": "7f1ea600",
   "metadata": {
    "scrolled": false
   },
   "outputs": [],
   "source": [
    "## Pendiente solución profesor"
   ]
  },
  {
   "cell_type": "markdown",
   "id": "1298a3ef",
   "metadata": {},
   "source": [
    "### Sampling Discrete Random Variables with Python\n",
    "\n",
    "\n",
    "+ Suppose we have a discrete random variable $X$ with values $x_1, \\ldots, x_k$ and corresponding probabilities $p_1, \\ldots, p_k$. In order to run simulations of our experiments with $X$ we would like to be able to use Python to generate synthetic random samples of $X$, according to its probability distribution. We can do that with this code"
   ]
  },
  {
   "cell_type": "code",
   "execution_count": 4,
   "id": "21e0f74f",
   "metadata": {
    "scrolled": false
   },
   "outputs": [
    {
     "name": "stdout",
     "output_type": "stream",
     "text": [
      "[6 2 1 6 5 4 5 3 2 5]\n",
      "[6 6 1 6 6 6 6 6 6 5]\n",
      "[6 5 6 6 6 6 1 6 1 1]\n"
     ]
    }
   ],
   "source": [
    "values_X = np.arange(1, 7)\n",
    "probs_X = np.ones(shape = 6) / 6\n",
    "print(np.random.choice(values_X, size=10, p=probs_X))\n",
    "\n",
    "# para hacer un dado cargado, en vez de un sexto para cada numero, nos inventamos unas probabilidades. \n",
    "# En este caso, vamos a poner que el 6 sea 9 veces más probable, hay que normalizarlo (dividir entre 14, que es el numero total)ç\n",
    "# Si ponemos estas probabilidades, saldrán muchos mas 6\n",
    "probs_X_pesos = np.array([1,1,1,1,1,9])\n",
    "# Se puede normalizar de estas dos formas\n",
    "probs_X_1 = probs_X_pesos/ 14 \n",
    "# Esta forma es mejor, más automática, si cambias los pesos no tienes que cambiar nada más, porque hace las suma solo.\n",
    "probs_X_2 = probs_X_pesos/ probs_X_pesos.sum()\n",
    "# Choice elige aleatoriamente el numero de elementos del array que le pasemos por argumento\n",
    "# Pasandole la p, le pasamos las probabilidades que tiene cada numero de salir \n",
    "print(np.random.choice(values_X, size=10, p=probs_X_1))\n",
    "print(np.random.choice(values_X, size=10, p=probs_X_2))"
   ]
  },
  {
   "cell_type": "markdown",
   "id": "d700992b",
   "metadata": {},
   "source": [
    "### Operations on Discrete Random Variables\n",
    "\n",
    "+ **Example:** Assume that the population of interest is the set of households in a given city. And let the random variable $X$ represent the annual home insurance paid by each household. Similarly, let $Y$ represent the annual life insurance for each household. When we want to obtain the total amount of both insurance payments combined we need to consider the sum of the random variables $X + Y$. In many examples like this we would like to use the information about $X$ and $Y$ to obtain the properties of their sum $X + Y$ without having to redo the calculation. \n",
    "\n",
    "+ More generally, we are often interested in *linear combinations* of random variables, such as \n",
    "$$\n",
    "\\quad\\\\\n",
    "a\\,X + b\\,Y,\\qquad\\text{ where }a\\text{ and }b\\text{ are numeric coefficients.}\n",
    "\\quad\\\\\n",
    "$$"
   ]
  },
  {
   "cell_type": "markdown",
   "id": "bd0b5570",
   "metadata": {},
   "source": [
    "+ The mean or expectation of such a linear combination is simply the same linear combination of the expectations  of the individual variables:\n",
    "$$\n",
    "\\quad\\\\\n",
    "E(a\\,X + b\\,Y) = a\\,E(X) + b\\,E(Y)\n",
    "\\quad\\\\\n",
    "$$"
   ]
  },
  {
   "cell_type": "markdown",
   "id": "59fa93bd",
   "metadata": {},
   "source": [
    "+ For the variance things get a little more complicated, because we need the notion of independence. Informally, $X$ and $Y$ are independent if knowledge about the value of $X$ does not affect the probability of the values of $Y$. The **covariance** of $X$ and $Y$ is\n",
    "$$\n",
    "\\quad\\\\\n",
    "\\operatorname{cov}(X, Y) = E((X - \\mu_X)(Y - \\mu_Y))\n",
    "\\quad\\\\\n",
    "$$\n",
    "and the most general result says that\n",
    "$$\n",
    "\\quad\\\\\n",
    "\\sigma^2(a\\,X + b\\, Y) = a^2\\,\\sigma^2_X + b^2\\,\\sigma^2_Y + 2\\,a\\,b\\, \\operatorname{cov}(X, Y)\n",
    "\\quad\\\\\n",
    "$$\n",
    "+ When $X$ and $Y$ are independent it turns out that $\\operatorname{cov}(X, Y) = 0$ (creful, it does not work the other way round) and therefore **in the independence case** we get a simpler formula:\n",
    "$$\n",
    "\\quad\\\\\n",
    "\\sigma^2(a\\,X + b\\, Y) = a^2\\,\\sigma^2_X + b^2\\,\\sigma^2_Y\n",
    "\\quad\\\\\n",
    "$$\n",
    "\n"
   ]
  },
  {
   "cell_type": "markdown",
   "id": "c3b7b005",
   "metadata": {},
   "source": [
    "### The Distribution Function"
   ]
  },
  {
   "cell_type": "markdown",
   "id": "06cc7fc4",
   "metadata": {},
   "source": [
    "+ The **(cumulative) distribution function (cdf)** $F_X$ of a random variable $X$ (discrete or continuous) is defined by:\n",
    "$$\n",
    "\\quad\\\\\n",
    "F_X(k) = P(X\\leq k)\\qquad\\text{ for any number }k\n",
    "\\quad\\\\\n",
    "$$\n",
    "You may think of $F(k)$ as the theoretical version of the table of cumulative relative frequencies. Therefore, it answers the question \"*what is the probability that $X$ takes a value $\\leq k$?*\"\n",
    "\n",
    "+ Because they are probabilities and because of their cumulative nature the typical graph for the distribution function of a discrete variable is a **stair shaped** graph like this one, climbing from 0 to 1 with a jump at each value of $X$ equal to the probability of that value:\n",
    "![](fig/04-01-FuncionDistribucionVariableAleatoria.png)"
   ]
  },
  {
   "cell_type": "markdown",
   "id": "b78cb7f8",
   "metadata": {},
   "source": [
    "## Binomial Variables"
   ]
  },
  {
   "cell_type": "markdown",
   "id": "505620ec",
   "metadata": {},
   "source": [
    "### Bernouilli Random Variables\n",
    "\n",
    "+ A Bernouilli random variable is a very simple discrete random variable that only takes two values, 0 and 1, with the following probability table:\n",
    "$$\n",
    "\\quad\\\\\n",
    "\\begin{array}{|l|c|c|}\n",
    "    \\hline\n",
    "    \\rule{0cm}{0.5cm}\\text{Value of }X:&1&0\\\\\n",
    "    \\hline\n",
    "    \\rule{0cm}{0.5cm}\\text{Probability for that value:}& p & q = 1 - p\\\\\n",
    "    \\hline\n",
    "\\end{array}\n",
    "\\quad\\\\\n",
    "$$\n",
    "These values 1 and 0 are (arbitrarily) called *success* and *failure* respectively.\n",
    "\n",
    "+ These Bernouilli type variables are useful because they are the building blocks for more complex types of variables, as we will soon see.\n",
    "\n",
    "+ **Example:** the variable $X = $ \"number of appearances of six when rolling a single dice\" is a Bernouilli variable with $p = 1/6$ and $q = 5/6$. We denote this with $X\\sim Bernouilli(p)$ (the symbol $\\sim$ is read \"is of type ...\")\n",
    "\n",
    "+ The mean of a random variable $X\\sim Bernouilli(p)$ is $\\mu = p$, and its variance is $\\sigma^2 = p\\cdot q = p(1 - p)$.\n"
   ]
  },
  {
   "cell_type": "markdown",
   "id": "82c27a33",
   "metadata": {},
   "source": [
    "### Binomial Random Variables\n",
    "\n",
    "Los resultados del experimento son independientes, si dependen ya no es una binomial. La gracia es que haces todo el rato lo mismo\n",
    "\n",
    "N repeticiones independientes de una variable de bernuilli\n",
    "\n",
    "+ **Example:** Suppose that we roll a dice 11 times and we use that experiment (the whole set of 11 rolls of the dice) to define a random variable $X$ where:\n",
    "$$\n",
    "\\quad\\\\\n",
    "X = \\textit{number of appearances of 6 in those 11 rolls of the dice}\n",
    "\\quad\\\\\n",
    "$$\n",
    "\n",
    "+ The situation in this example has these characteristics:\n",
    "\n",
    "  $(1)$ There is a **basic experiment**, rolling a dice in this case, that gets **repeated $n$ times** (in the example $n = 11$).  \n",
    "  \n",
    "  $(2)$  The $n$ repeated basic experiments are **independent** of each other. That is, the outcome of one of the experiments is not affected in any way by the outcome of the others.\n",
    "  \n",
    "  $(3)$  Every individual instance or trial of the basic experiment can only result in **success** (in the example, rolling a 6) represented with value $1$; o in **failure** (not rolling a 6) represented with value 0.  \n",
    "  \n",
    "  $(4)$  The **probability of success** for every trial is $p$ and that for failure is therefore $q = 1- p$. In the example $p = 1/6, q= 5/6$.  \n",
    "  \n",
    "  $(5)$ Finally, **our variable $X$ is the number of successful trials (with outcome 1) in the whole set of $n$ independent trials**."
   ]
  },
  {
   "cell_type": "markdown",
   "id": "10388560",
   "metadata": {},
   "source": [
    "+ **Definition of Binomial Variable**  \n",
    "  A discrete random variable  $X$ with the above characteristics is a binomial variable with parameters $n$ and $p$, and we will use the symbol $X \\sim B(n, p)$ to denote this. "
   ]
  },
  {
   "cell_type": "markdown",
   "id": "6f3acaba",
   "metadata": {},
   "source": [
    "### Experiments with Binomial Variables using Python\n",
    "\n",
    "+ Let us see an example of a binomial variable. We will use the `prevalentHyp` variable in the `framingham` table that we have used in previous sessions. The variable takes the value 1 if the patient is hypertensive and 0 otherwise. Keep in mind that 1 and 0 are arbitrary, and so in this example *success* actually means that the patient is in fact hypertensive. \n",
    "\n",
    "+ **Exercise:**  \n",
    "    (a) Load the data table into the `framingham` pandas DataFrame. You have done this before.  \n",
    "    (b) Find the probability that a randomly chosen patient is hypertensive, and call it $p$.  \n",
    "    (c) Instead of choosing a single patient, suppose that we choose seven patients at random and with replacement. Let $X$ denote the number of hypertensive patients among those seven. What values can this variable $X$ actually take?  \n",
    "    (d) Use Python to choose a sample of seven patients (with replacement) and count the number of hypertensive patients in that sample.  \n",
    "    (e) Iterate the previous step $N = 50000$ times and store the 50000 results in a NumPy array called `X_samples`. Get a relative frequency table of the different values in `X_samples.`  \n",
    "    (f) Choose the right plot to illustrate the contents of `X_samples`."
   ]
  },
  {
   "cell_type": "code",
   "execution_count": 5,
   "id": "9cea8a6e",
   "metadata": {},
   "outputs": [
    {
     "name": "stdout",
     "output_type": "stream",
     "text": [
      "Probabilidad de que un paciente al azar sea hipertenso: 0.3106132075471698\n",
      "Suma de 7 personas al azar sean hipertensas (binomial): 1\n",
      "Los primeros elementos de la tabla que hemos creado son: \n",
      "[[0 0 0 1 0 0 0]\n",
      " [0 1 1 0 0 1 0]\n",
      " [0 0 0 0 0 0 0]\n",
      " [1 1 0 0 1 0 0]\n",
      " [0 0 1 0 0 0 0]\n",
      " [0 0 1 0 1 1 1]\n",
      " [1 1 1 0 0 0 1]\n",
      " [0 1 0 0 0 0 1]\n",
      " [1 0 0 0 1 0 1]\n",
      " [0 0 0 0 1 0 0]\n",
      " [1 1 0 0 1 1 0]\n",
      " [0 0 0 0 0 0 0]]\n",
      "Numero de hipertensos en cada muestra\n",
      "[1 3 0 ... 2 3 2]\n",
      "The relative frequency of each possible number of hipertensive patients is:\n",
      "num_hyp\n",
      "0          0.07408\n",
      "1          0.23284\n",
      "2          0.31478\n",
      "3          0.23676\n",
      "4          0.10814\n",
      "5          0.02884\n",
      "6          0.00438\n",
      "7          0.00018\n",
      "dtype: float64\n"
     ]
    }
   ],
   "source": [
    "# %load \"./exclude/S04-003.py\"\n",
    "\n",
    "# Ejemplo ejercicio de examen\n",
    "framingham_link = 'https://raw.githubusercontent.com/mbdfmad/fmad2122/main/data/framingham.csv'\n",
    "framingham = pd.read_csv(framingham_link)\n",
    "\n",
    "# b)\n",
    "# Averiguar cuál es la probabilidad de que si elijo un paciente al azar, salga hipertenso\n",
    "# Obtenemos la frecuencia relativa, que en este caso será lo mismo que la probabilidad\n",
    "# También se puede hacer contando los hipertensos y dividirlo entre el total\n",
    "# p1 = framingham[\"prevalentHyp\"].sum()/framingham.shape[0]\n",
    "p = framingham[\"prevalentHyp\"].value_counts(normalize = True)[1]\n",
    "print(\"Probabilidad de que un paciente al azar sea hipertenso: \" + str(p))\n",
    "\n",
    "# c) y d)\n",
    "# Coger 7 pacientes hipertensos con remplazamiento (suma para ver cuantos unos hay). En la binomial, 1 = exito, 0 = fracaso. \n",
    "# No estamos calculando probabilidad\n",
    "n=7\n",
    "prevalentHip_sample = framingham[\"prevalentHyp\"].sample(n, replace=True, random_state=2022) # Ultimo parametro para añadir semilla\n",
    "# Suma porque la variable binomial es el numero de pacientes hipertensos. Suma todos para ver los que han sido exitos.\n",
    "print(\"Suma de 7 personas al azar sean hipertensas (binomial): \" + str(prevalentHip_sample.sum()))\n",
    "\n",
    "# e)\n",
    "# Iterar lo de arriba 50000 veces\n",
    "# Con las 50000 repeticiones podemos calcular frecuencias relativas, y calcular probabilidades.\n",
    "N = 50000\n",
    "np_prevHyp = np.array(framingham[\"prevalentHyp\"])\n",
    "rng = np.random.default_rng(seed= 2022)\n",
    "# El size es para hacer una matriz (50000*7), coge 500000 muesrtas de 7\n",
    "X_samples = rng.choice(np_prevHyp, size = (N,7), replace = True)\n",
    "\n",
    "print(\"Los primeros elementos de la tabla que hemos creado son: \")\n",
    "print(X_samples[:12])\n",
    "\n",
    "print (\"Numero de hipertensos en cada muestra\")\n",
    "# Suma por filas (axis = 1)\n",
    "num_hyp_sample_X = X_samples.sum(axis=1)\n",
    "print(num_hyp_sample_X)\n",
    "\n",
    "# Versión empirica de la binomial\n",
    "print(\"The relative frequency of each possible number of hipertensive patients is:\")\n",
    "num_hyp_sample_X_pd = pd.DataFrame(num_hyp_sample_X, columns=[\"num_hyp\"])\n",
    "rel_freqs = num_hyp_sample_X_pd.value_counts(normalize=True).sort_index()\n",
    "# Esta tabla, muestra la probabilidad de que, al coger 7 personas, ninguna sea hipertensa, una sea hipertensa,\n",
    "# dos sean hipertensas, etc. Así por cada fila.\n",
    "print(rel_freqs)\n"
   ]
  },
  {
   "cell_type": "markdown",
   "id": "554995ff",
   "metadata": {},
   "source": [
    "### Probability Density for Binomial Variables\n",
    "\n",
    "+ The table of relative frequencies that you obtained in the previous exercise is an empirical approximation of the following expression for the following:\n",
    "<p style='font-family: Optima;color:blue;background-color:#f0f0f5'>\n",
    "$$\n",
    "\\fbox{\n",
    "$\n",
    "\\quad\\\\\n",
    "\\textbf{Theoretical probability density of a binomial variable }X\\sim B(n, p)\n",
    "\\quad\\\\\n",
    "\\quad\\quad\\quad\\quad\n",
    "P(X = k) =\\displaystyle\\binom{n}{k}\\,p^k\\,q^{(n -k)}\\quad\\text{ for }\\quad k = 0, 1, 2, \\ldots, n\n",
    "$\n",
    "}\n",
    "$$\n",
    "</p>    \n",
    "where we recall $q = 1 - p$. Also the definition of the *binomial coefficient* is:\n",
    "$$\n",
    "\\dbinom{n}{k} = \\frac{\\overbrace{n\\left( n-1\\right) \\left( n-2\\right) \\cdots \\left( n-k+1\\right) }^{k\\mbox{ factors}}}{k!}\n",
    "$$\n",
    "where $k! = k\\cdot(k - 1)\\cdot(k - 2)\\cdot\\,\\cdots\\,\\cdot 2\\cdot 1$ is the factorial of $k$.\n",
    "\n",
    "+ Luckily you will not have to compute these by hand, Python will do the hard work for us. And it also gives us the chance to see how *painful* these binomial coefficients turn out to be. \n",
    "\n",
    "+ Let us use SciPy to obtain $\\dbinom{1000}{20}$. Note that these are not unreasonably large numbers, and yet:"
   ]
  },
  {
   "cell_type": "code",
   "execution_count": 6,
   "id": "c83c82ce",
   "metadata": {
    "scrolled": false
   },
   "outputs": [
    {
     "data": {
      "text/plain": [
       "535983370403809682970"
      ]
     },
     "execution_count": 6,
     "metadata": {},
     "output_type": "execute_result"
    }
   ],
   "source": [
    "# Binomial N repeticiones independientes de un experimento que puede terminar en éxito/fracaso\n",
    "from scipy import special\n",
    "N = 100 \n",
    "k = 20\n",
    "special.comb(N, k, exact=True)"
   ]
  },
  {
   "cell_type": "markdown",
   "id": "78fca36e",
   "metadata": {},
   "source": [
    "+ This kind of result illustrates the fact that we should give up any hope of using the binomial distribution *by hand*. "
   ]
  },
  {
   "cell_type": "markdown",
   "id": "b3667c28",
   "metadata": {},
   "source": [
    "### Mean and Variance of a Binomial Random Variable\n",
    "\n",
    "+ If $X \\sim B(n, p)$ then:\n",
    "$$\n",
    "\\quad\\\\\n",
    "\\fbox{\n",
    "$\\begin{cases}\n",
    "\\mu = n\\cdot p\\\\[3mm]\n",
    "\\sigma^2 = n\\cdot p\\cdot q\n",
    "\\end{cases}$}\n",
    "\\quad\\\\\n",
    "$$\n",
    "Both results are very easy consequences of the fact that a $B(n, p)$ binomial is the sum of $n$ independent Bernouilli trials with the same $p$."
   ]
  },
  {
   "cell_type": "markdown",
   "id": "4ed77278",
   "metadata": {},
   "source": [
    "### The binomial in Python\n",
    "\n",
    "+ For further details please check the [SciPy documentation website](https://docs.scipy.org/doc/scipy/reference/generated/scipy.stats.binom.html#scipy.stats.binom).\n",
    "\n",
    "+ To compute concrete probability values of a binomial variable we use it *probability mass function (pmf)*, which is a fancy name for the table of probabilities.\n",
    "\n",
    "+ **Example:** Let $X\\sim B(7, 1/4)$ and let us compute the probability $P(X = 3)$."
   ]
  },
  {
   "cell_type": "code",
   "execution_count": 7,
   "id": "86932654",
   "metadata": {
    "scrolled": false
   },
   "outputs": [
    {
     "data": {
      "text/plain": [
       "0.17303466796875"
      ]
     },
     "execution_count": 7,
     "metadata": {},
     "output_type": "execute_result"
    }
   ],
   "source": [
    "from scipy import stats # Hay que importar este módulo específicamente\n",
    "n = 7 # tamaño de la muestra\n",
    "p = 0.25 # Probabilidad de hipertenso\n",
    "k = 3 # Numero del 0 al 7. Cuantos pacientes hipertensos dentro de esos siete. Tiene que estar dentro del tamaño de la muestra. \n",
    "stats.binom.pmf(k, n, p) # probability mass function (tabla de probabilidades)\n",
    "# el resultado de esta funcion es la probabilidad de x = 3 (por eso K=3), de una binomial donde N = 7 y la probabilidad = 1/4"
   ]
  },
  {
   "cell_type": "markdown",
   "id": "3ad25823",
   "metadata": {},
   "source": [
    "+ We can also *freeze* the binomial variable and use the frozen version to compute this value but also the mean or variance:"
   ]
  },
  {
   "cell_type": "code",
   "execution_count": 8,
   "id": "355b6502",
   "metadata": {
    "scrolled": false
   },
   "outputs": [
    {
     "name": "stdout",
     "output_type": "stream",
     "text": [
      "Probability for k =  3 is 0.17303466796875\n",
      "X_mean = 1.75\n",
      "X_var = 1.3125\n"
     ]
    }
   ],
   "source": [
    "# Para trabajar con una binomial todo el rato, para fijar los parámetros (no creo que nos vaya a hacer mucha falta)\n",
    "X = stats.binom(n, p)\n",
    "\n",
    "print(\"Probability for k = \", k, \"is\", X.pmf(k))\n",
    "\n",
    "X_mean = X.mean()\n",
    "X_var = X.var()\n",
    "\n",
    "print(\"X_mean =\", X_mean)\n",
    "print(\"X_var =\", X_var)"
   ]
  },
  {
   "cell_type": "markdown",
   "id": "4daba803",
   "metadata": {},
   "source": [
    "+ To plot the probability mass of the distribution we often use a variant of the bar plot called a *stem and leaf* plot:"
   ]
  },
  {
   "cell_type": "code",
   "execution_count": 9,
   "id": "826da841",
   "metadata": {
    "scrolled": false
   },
   "outputs": [
    {
     "data": {
      "image/png": "[encoded data removed]",
      "text/plain": [
       "<Figure size 640x480 with 1 Axes>"
      ]
     },
     "metadata": {},
     "output_type": "display_data"
    }
   ],
   "source": [
    "fig, ax = plt.subplots(1, 1)\n",
    "# First we create arrays with all posible values for this variable...\n",
    "x = np.arange(start = 0, stop = n + 1, step = 1)\n",
    "# ... and their probabilities:\n",
    "probs_x = stats.binom.pmf(x, n, p)\n",
    "# The next comand plots the \"leaf\" part\n",
    "ax.vlines(x, ymin = 0, ymax = probs_x, colors='b', lw=5, alpha=0.5)\n",
    "# And this one plots the \"stem\"\n",
    "ax.plot(x, probs_x, linestyle = '', marker = 'o', color ='blue', markersize=10)\n",
    "getPlot = ax.set_title(\"Binomial probability mass function (pmf)\", fontsize=20, color=\"blue\")"
   ]
  },
  {
   "cell_type": "markdown",
   "id": "f3362f2c",
   "metadata": {},
   "source": [
    "+ The cumulative distribution function (cdf) is similarly plotted with:"
   ]
  },
  {
   "cell_type": "code",
   "execution_count": 33,
   "id": "955cfa08",
   "metadata": {
    "scrolled": false
   },
   "outputs": [
    {
     "name": "stdout",
     "output_type": "stream",
     "text": [
      "[  0   1   2   3   4   5   6   7   8   9  10  11  12  13  14  15  16  17\n",
      "  18  19  20  21  22  23  24  25  26  27  28  29  30  31  32  33  34  35\n",
      "  36  37  38  39  40  41  42  43  44  45  46  47  48  49  50  51  52  53\n",
      "  54  55  56  57  58  59  60  61  62  63  64  65  66  67  68  69  70  71\n",
      "  72  73  74  75  76  77  78  79  80  81  82  83  84  85  86  87  88  89\n",
      "  90  91  92  93  94  95  96  97  98  99 100]\n"
     ]
    },
    {
     "data": {
      "image/png": "[encoded data removed]",
      "text/plain": [
       "<Figure size 640x480 with 1 Axes>"
      ]
     },
     "metadata": {},
     "output_type": "display_data"
    }
   ],
   "source": [
    "# Probabilidad acumulada = frecuencia acumulada >=3 !! Para el cuestionario\n",
    "fig, ax = plt.subplots(1, 1)\n",
    "x = np.arange(start = 0, stop = n + 1, step = 1)\n",
    "print(x)\n",
    "# We replace probabilities with cumulative probabilities\n",
    "cumul_probs_x = stats.binom.cdf(x, n, p)\n",
    "#print(cumul_probs_x)\n",
    "ax.vlines(x, ymin = 0, ymax = cumul_probs_x, colors='b', lw=5, alpha=0.5)\n",
    "ax.plot(x, cumul_probs_x, linestyle = '', marker = 'o', color ='blue', markersize=10)\n",
    "getPlot = ax.set_title(\"Cumulative distribution function (cdf)\", fontsize=20, color=\"blue\")"
   ]
  },
  {
   "cell_type": "markdown",
   "id": "3854789f",
   "metadata": {},
   "source": [
    "+ **Random values from a binomial variable:** To generate random values of a binomial variable we will use either one of this methods:\n",
    "\n",
    "    + The NumPy classical method with `np.random.binomial(n, p, size)` (set the random seed with `np.random.seed(2022)`)\n",
    "    + The NumPy modern version with something like `np.random.default_rng(2022).binomial(n, p, size = 10)`.\n",
    "    + The Scipy version with "
   ]
  },
  {
   "cell_type": "code",
   "execution_count": 11,
   "id": "17835fba",
   "metadata": {
    "scrolled": false
   },
   "outputs": [
    {
     "name": "stdout",
     "output_type": "stream",
     "text": [
      "Binomial B(n, p) with n = 7 , p =  0.25\n",
      "Numpy legacy \n",
      "\n",
      "[0 2 0 0 2 2 3 2 3 2 3 3 3 4 1 2 1 2 4 0 2 1 1 2 0 2 3 1 1 2]\n",
      "------------------------ \n",
      "\n",
      "Numpy current version \n",
      "\n",
      "[1 0 2 0 2 2 0 0 1 5 4 1 2 1 1 3 4 2 3 5 1 0 4 2 1 0 1 0 0 1]\n",
      "------------------------ \n",
      "\n",
      "SciPy \n",
      "\n",
      "[2 1 4 0 3 1 2 3 1 4 0 0 1 1 2 2 2 2 0 3 0 3 0 1 1 1 4 0 1 3]\n"
     ]
    }
   ],
   "source": [
    "## Importante para simulaciones. Tres versiones diferentes\n",
    "\n",
    "# Recall parameters\n",
    "print(\"Binomial B(n, p) with n =\", n, \", p = \", p)\n",
    "# NumPy legacy code\n",
    "np.random.seed(2022)\n",
    "print(\"Numpy legacy \\n\") \n",
    "print(np.random.binomial(n, p, size = 30))\n",
    "print(\"--\" * 12, \"\\n\")\n",
    "# NumPy current version\n",
    "print(\"Numpy current version \\n\") \n",
    "print(np.random.default_rng(2022).binomial(n, p, size = 30))\n",
    "print(\"--\" * 12, \"\\n\")\n",
    "# Scipy\n",
    "print(\"SciPy \\n\") \n",
    "print(stats.binom(n, p).rvs(size = 30))"
   ]
  },
  {
   "cell_type": "markdown",
   "id": "ab21127f",
   "metadata": {},
   "source": [
    "+ **Note about reproducibility:** If you run the previous cell multiple times you will notice that the SciPy results do not change. That is because SciPy is also affected by the NumPy random seed. However if you remove the seed from the `default_rng` you will notice that ironically the current version of NumPy is not affected by the legacy NumPy random seed generator. "
   ]
  },
  {
   "cell_type": "markdown",
   "id": "3203604e",
   "metadata": {},
   "source": [
    "+ **Exercise:**    \n",
    "    (a) use Python to get the theoretical probabilities for the binomial variable of the preceding exercise. Recall that $X$ = number of hypertensive patients in a sample (with replacement) of seven patients from the framingham data set.  \n",
    "    (b) Compare the theoretical values with the relative frequencies that you obtained in that exercise for $N = 50000$ samples of size 7."
   ]
  },
  {
   "cell_type": "code",
   "execution_count": 12,
   "id": "729cbff3",
   "metadata": {},
   "outputs": [],
   "source": [
    "# %load \"./exclude/S04-004.py\""
   ]
  },
  {
   "cell_type": "markdown",
   "id": "930cd39f",
   "metadata": {},
   "source": [
    "### The Binomial Zoo"
   ]
  },
  {
   "cell_type": "markdown",
   "id": "fbee2bf8",
   "metadata": {},
   "source": [
    "+ There are infinitely many types of binomials, depending on the combination of values for $n$ and $p$. But we can single out three particular cases, each of them requiring a different approach."
   ]
  },
  {
   "cell_type": "markdown",
   "id": "58a76ddb",
   "metadata": {},
   "source": [
    "#### Binomials with small $n$\n",
    "\n",
    "+ For example, the $X\\sim B(7, 1/4)$ that we have been using in the previous examples. Let us plot its probability distribution again, but this time we add a bar plot to the stem and leaf plot, to ease the comparison between the global shape of this binomial and the ones we will see below. The best way to work with a binomial like this is to use directly the pmf and cdf functions to get the probability values. "
   ]
  },
  {
   "cell_type": "code",
   "execution_count": 13,
   "id": "ff12991c",
   "metadata": {
    "scrolled": false
   },
   "outputs": [
    {
     "data": {
      "image/png": "[encoded data removed]",
      "text/plain": [
       "<Figure size 640x480 with 1 Axes>"
      ]
     },
     "metadata": {},
     "output_type": "display_data"
    }
   ],
   "source": [
    "# Con las binomiales de N pequeño, se puede trabajar directamente, no hay que hacer nada porque se pueden manejar \"enteras\"\n",
    "fig, ax = plt.subplots(1, 1)\n",
    "n = 7\n",
    "p = 0.25\n",
    "# First we create arrays with all posible values for this variable...\n",
    "x = np.arange(start = 0, stop = n + 1, step = 1)\n",
    "# ... and their probabilities:\n",
    "probs_x = stats.binom.pmf(x, n, p)\n",
    "# The next comand plots the \"leaf\" part\n",
    "ax.vlines(x, ymin = 0, ymax = probs_x, colors='b', lw=5, alpha=0.3)\n",
    "ax.bar(x, height = probs_x, color='tan', width = 1, lw=1.5, edgecolor='black',linestyle=\"-\")\n",
    "# And this one plots the \"stem\"\n",
    "getPlot = ax.plot(x, probs_x, linestyle = '', marker = 'o', color ='blue', markersize=5, alpha=0.3)"
   ]
  },
  {
   "cell_type": "markdown",
   "id": "a433a8f6",
   "metadata": {},
   "source": [
    "#### Binomials with large $n$ but $p$ very small (close to $0$) or big (close to $1$).\n",
    "\n",
    "+ In this case instead of using the binomial it is best to use the approximation provided by the **Poisson distribution**. We will talk about it later. Here we just plot an example with $n = 200$ but $p = 0.001$. *Please note that to improve the visualization we have reduced the range of the x axis to $[0, 50]$ instead of the the actual set of values of $X$ which is $[0, 200]$*. But the probabilities for larger values of $X$ are negligible."
   ]
  },
  {
   "cell_type": "code",
   "execution_count": 14,
   "id": "fddea18e",
   "metadata": {
    "scrolled": false
   },
   "outputs": [
    {
     "data": {
      "text/plain": [
       "(0.0, 50.0)"
      ]
     },
     "execution_count": 14,
     "metadata": {},
     "output_type": "execute_result"
    },
    {
     "data": {
      "image/png": "[encoded data removed]",
      "text/plain": [
       "<Figure size 640x480 with 1 Axes>"
      ]
     },
     "metadata": {},
     "output_type": "display_data"
    }
   ],
   "source": [
    "# n grande y p exagerado (muy pequeño --> cercano a 0. = muy grande --> cercano a 1) Estas suelen asemejarse a la poisson.\n",
    "fig, ax = plt.subplots(1, 1)\n",
    "n = 200\n",
    "p = 0.01\n",
    "x = np.arange(start = 0, stop = n + 1, step = 1)\n",
    "probs_x = stats.binom.pmf(x, n, p)\n",
    "getPlot = ax.bar(x, height = probs_x, color='tan', width = 1, lw=1.5, edgecolor='black',linestyle=\"-\")\n",
    "plt.xlim(left=0, right=50)\n"
   ]
  },
  {
   "cell_type": "markdown",
   "id": "954f8c0b",
   "metadata": {},
   "source": [
    "#### Binomials with large $n$ but moderate $p$\n",
    "\n",
    "+ By this we mean that $n$ is hundreds or more, while $p$ is an intermediate probability, not too close to 0 or 1. Let us plot the example where $n= 100$ while $p = 1/3$"
   ]
  },
  {
   "cell_type": "code",
   "execution_count": 15,
   "id": "ca2304cf",
   "metadata": {
    "scrolled": false
   },
   "outputs": [
    {
     "data": {
      "image/png": "[encoded data removed]",
      "text/plain": [
       "<Figure size 640x480 with 1 Axes>"
      ]
     },
     "metadata": {},
     "output_type": "display_data"
    }
   ],
   "source": [
    "# N grande y p moderado (moderado es que no se acerca ni mucho al cero ni mucho al )\n",
    "# Se parece a la forma de la normal. (se comporta como una normal) Cuando vemos una binomial como esta(con estos parámetros)\n",
    "# la cambiamos por la normal\n",
    "\n",
    "fig, ax = plt.subplots(1, 1)\n",
    "n = 100\n",
    "p = 1/3\n",
    "x = np.arange(start = 0, stop = n + 1, step = 1)\n",
    "probs_x = stats.binom.pmf(x, n, p)\n",
    "ax.bar(x, height = probs_x, color='tan', width = 1, lw=1.5, edgecolor='black',linestyle=\"-\")\n",
    "getPlot = plt.xlim(left=0, right=100)"
   ]
  },
  {
   "cell_type": "markdown",
   "id": "18538be2",
   "metadata": {},
   "source": [
    "+ The bar plot is starting to look like a bell shaped curve. That, as you have probably already guessed, is not a coincidence. **Abraham De Moivre** showed that as $n$ gets bigger (keeping $p$ moderate) this plot resembles more and more a normal curve, with  \n",
    "$$\\mu = n\\cdot p, \\sigma = \\sqrt{n\\cdot p\\cdot q}$$\n",
    "as was to be expected.\n",
    "+ This was a very important result at that time, because working directly with these kind of binomials proved to be impossible. For example, if $X\\sim B(100, 1/3)$ to compute the probability of the interval \n",
    "$$\n",
    "\\quad\\\\\n",
    "P(25 \\leq X \\leq 35) = P(X = 25) + P(X = 26) + \\cdots + P(X = 34) + P(X= 35)\n",
    "\\quad\\\\\n",
    "$$\n",
    "you need to compute quite a few terms like this one:\n",
    "$$\n",
    "\\quad\\\\\n",
    "P(X = 29) = \\dbinom{100}{29}\\left(\\dfrac{1}{3}\\right)^{29}\\left(\\dfrac{2}{3}\\right)^{71}\n",
    "\\quad\\\\\n",
    "$$\n",
    "and in particular you will have to find out that\n",
    "$$\n",
    "\\binom{100}{29} = \\dfrac{100!}{29!\\,\\, 71!} = \n",
    "\\dfrac{100\\cdot 99 \\cdot 98\\cdots 73 \\cdot 72}{29\\cdot 28 \\cdot 27\\cdots  2\\cdot 1} = 1917353200780443050763600\n",
    "$$\n",
    "+ Doing computations like that, particularly when they had to be done by hand, rendered the binomial useless. But the probability we are trying to compute is simply the area of the blue colored region in this plot:"
   ]
  },
  {
   "cell_type": "code",
   "execution_count": 16,
   "id": "43b75886",
   "metadata": {},
   "outputs": [
    {
     "data": {
      "image/png": "[encoded data removed]",
      "text/plain": [
       "<Figure size 640x480 with 1 Axes>"
      ]
     },
     "metadata": {},
     "output_type": "display_data"
    }
   ],
   "source": [
    "# La media es n*p\n",
    "# La varianza es n*p*q (q = 1-p)\n",
    "fig, ax = plt.subplots(1, 1)\n",
    "n = 100\n",
    "p = 1/3\n",
    "x = np.arange(start = 0, stop = n + 1, step = 1)\n",
    "probs_x = stats.binom.pmf(x, n, p)\n",
    "ax.bar(x, height = probs_x, color='tan', width = 1, lw=1.5, edgecolor='black',linestyle=\"-\")\n",
    "x1 = np.arange(start = 25, stop = 35 + 1, step = 1)\n",
    "probs_x1 = stats.binom.pmf(x1, n, p)\n",
    "ax.bar(x1, height = probs_x1, color='blue', width = 1, lw=1.5, edgecolor='black',linestyle=\"-\")\n",
    "getPlot = plt.xlim(left=0, right=100)"
   ]
  },
  {
   "cell_type": "markdown",
   "id": "8d3ad628",
   "metadata": {},
   "source": [
    "+ But in problems like this, and as $n$ gets bigger, the difference between the individual bars in this plot becomes less and less relevant. That is way we are more and **more interested in intervals than we are in individual values**. The probability of an individual value is tending to zero as $n$ increases. This is another instance of the transition from discrete to continuous. And when we look at this plot from that perspective, the answer is that we are trying to obtain the blue area under the normal curve. We can do that using **integral calculus**, which had just been discovered when de Moivre worked on this problem. The figure below illustrates this for a different binomial variable:\n",
    "\n",
    "![](./fig/04-04-BinomialVsNormal.png)\n",
    "\n",
    "+ Using integrals may seem at first like a complicated way to work. But if you compare it with the computation of binomial coefficients, it turns out to be a very useful simplification. The most important consequence of this, regardless of the technical details, is that this example led people to discover that they could define probability as the area under a curve. And that is the idea behind the definition of a continuous random variable. And this way of assigning probability takes us away from the Laplace Method and into a more abstract and mature concept of Probability."
   ]
  },
  {
   "cell_type": "code",
   "execution_count": 17,
   "id": "92dbba6d",
   "metadata": {
    "scrolled": false
   },
   "outputs": [],
   "source": [
    "#from IPython.display import IFrame\n",
    "#IFrame(\"https://www.geogebra.org/m/q4buqzfp\",800,800)"
   ]
  },
  {
   "cell_type": "markdown",
   "id": "e1006437",
   "metadata": {},
   "source": [
    "## Continuous Random Variables\n",
    "\n",
    "Variable aleatoria discreta = tabla\n",
    "Variable aleatoria continual = curva \n",
    "Ambas son un reparto de la probabilidad. Cuando tienes valores finitos, puedes repartir las probabilidades (discreta). Pero cuando tienes infinitos valores, (similar a untar mantequilla) cuando lo repartes, el area total de la probabilidad tiene que ser 1.\n",
    "\n",
    "Cuando quieres calcular la probabilidad de un intervalo, debes calcular el area de bajo la curva del intervalo correspondiente. \n",
    "\n",
    "La probabilidad de un valor concreto en una variable continua es 0\n",
    "\n",
    "Al haber infinitos valores, 1/ $\\infty$ = 0. Lo lógico sería preguntar cual es la probabilidad de que caiga en un intervalo, no en un valor concreto.\n",
    "\n",
    "\n"
   ]
  },
  {
   "cell_type": "markdown",
   "id": "df13df0f",
   "metadata": {},
   "source": [
    "+ Let us look into that idea of using the area under the graph of a function to assign probabilities. Not every function will do for this, but the requirements are quite simple.\n",
    "\n",
    "+ A **(continuous) density function** has two properties:\n",
    "    + It is **non-negative:** $f(x)\\geq 0$ for all $x$.\n",
    "    + The **total area under $f(x)$ is 1**. That is:\n",
    "    <p style='font-family: Optima;color:blue;background-color:#f0f0f5;width: 50%;'>\n",
    "    $$\n",
    "    \\quad\\\\\n",
    "    \\int_{-\\infty}^{\\infty}f(x)\\,dx=1\n",
    "    \\quad\\\\\n",
    "    $$\n",
    "    </p>\n",
    "    In particular $f$ must be integrable, but we will not look into the technical meaning of that condition.\n",
    "\n",
    "+ Given a continuous density function we can use it to define a **continuous random variable $X$**, by saying that the probability of $X$ taking value in an interval $[a, b]$ is:\n",
    "<p style='font-family: Optima;color:blue;background-color:#f0f0f5;width: 60%;'>\n",
    "$$\n",
    "\\quad\n",
    "P(a \\leq X \\leq b) = \\text{area under the graph of }f = \\int_a^bf(x)\\,dx.\n",
    "\\quad\n",
    "$$\n",
    "</p>  \n"
   ]
  },
  {
   "cell_type": "markdown",
   "id": "4080950e",
   "metadata": {},
   "source": [
    "### Understanding the role of the density function\n",
    "\n",
    "+ The figure below shows a typical continuous density function and the way to interpret its values.\n",
    "![](./fig/04-05-InterpretacionFuncionDensidadFicticia.png)\n",
    "That is why we say that a density function defines a distribution (a way to allocate) probability. In the case of a discrete random variable the table of values vs probabilities does the same job. But now we have a function $f$ to assign probabilities. The function is a *continuous table* of sorts. And if the probability table of a discrete random variable is the theoretical version of the table of relative frequencies, you may now think of this continuous density function as the theoretical version of the density curves that we plotted when exploring the data in a sample.\n",
    "\n",
    "+ It is very important to keep in mind that **the height of the density function is not the probability. Probability is given by the area under the curve.** They are connected, but different entities.\n",
    "\n",
    "+ In particular, and this may seem paradoxical at first, the probability value of a single point in a continuous random variable is always zero:\n",
    "$$\n",
    "\\quad\\\\\n",
    "P(X = x_0) = 0,\\,\\text{ for any value }\\,x_0\n",
    "\\quad\\\\\n",
    "$$\n",
    "It is the probability of intervals (not points) what matters here."
   ]
  },
  {
   "cell_type": "markdown",
   "id": "ff00cdfd",
   "metadata": {},
   "source": [
    "### Mean and Variance for a Continuous Random Variable\n",
    "\n",
    "+ Recall that for a discrete random variable with values $x_1,\\ldots, x_k$ and probabilities $p_1, \\ldots, p_k$ we had:\n",
    "$$\n",
    "\\begin{array}{l}\n",
    "\\mu = E(X) = \\displaystyle\\sum_{i = 1}^k x_i\\cdot p_i\\\\[3mm]\n",
    "\\sigma^2 = Var(X) = \\displaystyle\\sum_{i = 1}^k (x_i - \\mu)^2\\cdot p_i\n",
    "\\end{array}\n",
    "$$\n",
    "In the case of a continuous random variable $X$ with density function $f(x)$ we have\n",
    "<p style='font-family: Optima;color:blue;background-color:#f0f0f5;width: 60%;'>\n",
    "$$\n",
    "\\quad\\\\\n",
    "\\begin{array}{l}\n",
    "\\mu = E(X) = \\displaystyle\\int_{-\\infty}^{\\infty} x\\cdot f(x)\\, dx\\\\[5mm]\n",
    "\\sigma^2 = Var(X) = \\displaystyle\\int_{-\\infty}^{\\infty} (x - \\mu)^2\\cdot f(x)\\, dx\n",
    "\\end{array}\n",
    "\\quad\\\\\n",
    "$$\n",
    "</p>\n",
    "\n",
    "f(x)\\, dx\\\\== base por altura (es la probabilidad)\n",
    "\n",
    "Note that going from discrete to continuous is achieved by changing the sum for an integral and the probability $p_i$ for the *probability differential* $dp = f(x)\\, dx$, which represents the probability of and *infinitesimally small interval*.\n",
    "\n"
   ]
  },
  {
   "cell_type": "markdown",
   "id": "6f75b11f",
   "metadata": {},
   "source": [
    "### The (Cumulative) Distribution Function of a Continuous Random Variable\n",
    "\n",
    "+ The distribution function for a random variable (discrete or continuous) is:\n",
    "<p style='font-family: Optima;color:blue;background-color:#f0f0f5;width: 30%;'>\n",
    "$$\n",
    "\\quad\\\\\n",
    "F(k) = P(X \\leq k)\n",
    "\\quad\\\\\n",
    "$$\n",
    "</p>\n",
    "and for a continuous random variable that turns out to be\n",
    "<p style='font-family: Optima;color:blue;background-color:#f0f0f5;width: 30%;'>\n",
    "$$\n",
    "\\quad\\\\\n",
    "F(k) = \\int_{-\\infty}^{k}f(x)\\,dx\n",
    "\\quad\\\\\n",
    "$$\n",
    "</p>\n",
    "\n",
    "+ For discrete random variables the distribution function looked like a stair. In the continuous case it is more like a ramp, climbing from 0 to 1 as $x$ moves left to right along the horizontal axis:\n",
    "![](./fig/04-06-FuncionDistribucionVariableContinuaTipica.png)\n",
    "Note that (unlike the density function) the values of the function are indeed probabilities (cumulative ones, of course). That is one of the reasons that make distribution functions useful:\n",
    "<p style='font-family: Optima;color:blue;background-color:#f0f0f5;width: 30%'>\n",
    "$$\n",
    "\\quad\\\\\n",
    "P(a < X < b) = F(b) - F(a)\n",
    "\\quad\\\\\n",
    "$$\n",
    "</p>"
   ]
  },
  {
   "cell_type": "markdown",
   "id": "6a77373b",
   "metadata": {},
   "source": [
    "## The Uniform Distribution\n",
    "Es una distribución horizontal. Ni sube ni baja. Extiendo la mantequilla en todas partes por igual. ¿A qué altira la pongo? como el area tiene que ser 1, y la base la sabemos porque sabemos el rango en el que queremos que tenga el mismo valor, 1/b-a)\n",
    "\n",
    "+ This is possibly the simplest of all continuous random variables, yet it is extremely important and useful. It represents the idea of randomly picking a point in interval $[a, b]$ in such a way that all regions of the interval with the same size are equally probable.  \n",
    "(*Side Note:* sometimes people say \"all points are equally likely\" to describe the uniform distribution. But that is misleading because the probability of a single point is always zero in a continuous random variable, be it *uniform or not*).\n",
    "\n",
    "+ The density function of a uniform variable $X$ is therefore constant in the interval $[a, b]$ and zero elsewhere:\n",
    "<p style='font-family: Optima;color:blue;background-color:#f0f0f5;width: 60%;'>\n",
    "$$\n",
    "\\quad\\\\\n",
    "f(x) = \n",
    "\\begin{cases}\n",
    "\\dfrac{1}{b - a} & \\text{ if } a\\leq x\\leq b\\\\[3mm]\n",
    "0 & \\text{ otherwise }\\\\\n",
    "\\end{cases}\n",
    "\\quad\\\\\n",
    "$$\n",
    "</p>"
   ]
  },
  {
   "cell_type": "markdown",
   "id": "9ec67b40",
   "metadata": {},
   "source": [
    "### Mean and Variance for Uniform Distributions\n",
    "\n",
    "+ The mean of a uniform variable is, as expected:\n",
    "<p style='font-family: Optima;color:blue;background-color:#f0f0f5;width: 30%;'>\n",
    "$$\n",
    "\\quad\\\\\n",
    "\\mu = \\dfrac{a + b}{2}\n",
    "\\quad\\\\\n",
    "$$\n",
    "</p>    \n",
    "and the variance is\n",
    "<p style='font-family: Optima;color:blue;background-color:#f0f0f5;width: 30%;'>\n",
    "$$\n",
    "\\quad\\\\\n",
    "\\sigma^2 = \\dfrac{(b - a)^2}{12}\n",
    "\\quad\\\\\n",
    "$$\n",
    "</p>    "
   ]
  },
  {
   "cell_type": "markdown",
   "id": "ae15a5cc",
   "metadata": {},
   "source": [
    "### Uniform Distributions with Python\n",
    "\n",
    "+ The most important operation with random uniform variables in Python is the ability to generate random values. We can do that with NumPy or SciPy as follows:"
   ]
  },
  {
   "cell_type": "code",
   "execution_count": 18,
   "id": "2575b813",
   "metadata": {},
   "outputs": [
    {
     "name": "stdout",
     "output_type": "stream",
     "text": [
      "NumPy current version:\n",
      "[-0.79375692 -3.41916895  5.39997734 -3.96874475  6.23756828  7.83768222\n",
      " -3.11522868 -4.26805065  2.04509706 11.80669735 11.47637772 -0.63148396\n",
      "  4.49895585 -0.8800844   0.47434495 10.15311575 11.08393228  7.28316833\n",
      " 10.7840643  11.93347921]\n",
      "-------------------------------------------------------------------------------- \n",
      "\n",
      "NumPy legacy:\n",
      "[-4.84090357  3.48398278 -3.07247727 -4.15044169  6.6519291   3.27879716\n",
      " 10.26017285  6.0066852  10.24837309  7.2592938   9.13300815  9.06865717\n",
      "  9.17085293 11.26975371  1.25675543  3.41223971  0.77166107  5.53029855\n",
      " 11.61800385 -3.36063768]\n",
      "-------------------------------------------------------------------------------- \n",
      "\n",
      "SciPy:\n",
      "[ 2.28768687  1.71238659  3.39546458  2.96553884  9.0603275   9.49060146\n",
      " 10.65496313  2.91653514 10.67337267  0.25779556 11.85994277  1.59327506\n",
      "  7.30039504  2.95256779  5.90500633  1.842517   10.73234935 -0.69430366\n",
      "  3.20359776 11.01663985]\n"
     ]
    }
   ],
   "source": [
    "# Lanzar 20000 puntos al azar en el intervalo que va desde el -5 al 12\n",
    "# Let us generate an array with N random points in [a, b]\n",
    "N = 20000\n",
    "a = -5\n",
    "b = 12\n",
    "\n",
    "# With current NumPy version \n",
    "# See https://numpy.org/doc/stable/reference/random/generated/numpy.random.Generator.uniform.html\n",
    "\n",
    "print(\"NumPy current version:\")\n",
    "X = np.random.default_rng(2022).uniform(low = a, high = b, size = N)\n",
    "print(X[0:20])\n",
    "\n",
    "print(\"-\" * 80, \"\\n\")\n",
    "\n",
    "# With legacy NumPy versions\n",
    "# See https://numpy.org/doc/stable/reference/random/generated/numpy.random.uniform.html\n",
    "\n",
    "print(\"NumPy legacy:\")\n",
    "np.random.seed(2022)\n",
    "X =  np.random.uniform(low = a, high = b, size = N)\n",
    "print(X[0:20])\n",
    "print(\"-\" * 80, \"\\n\")\n",
    "\n",
    "# Scipy\n",
    "print(\"SciPy:\")\n",
    "X = stats.uniform(loc = a, scale = b - a).rvs(size = N)\n",
    "print(X[0:20])\n"
   ]
  },
  {
   "cell_type": "markdown",
   "id": "1cb8b087",
   "metadata": {},
   "source": [
    "+ Recall that the *size* parameter of NumPy random generators is in fact a *shape*. That is, you can easily modify the above code to get a matrix of uniform random numbers with any desired shape.\n",
    "\n",
    "+ **Exercise:**  \n",
    "(a) Using the above results check the formulas for the mean and variance of the uniform distribution.  \n",
    "(b) Generate a hundred million points uniformly distributed in the square $[-1, 1]\\times[-1, 1]$. Count how many of them are at a distance less \n",
    "than 1 from the origin.  \n",
    "(c) Plot the first $n = 5000$ points and those among them that verify the condition about the distance.  \n",
    "(d) Use your results to estimate the number $\\pi$."
   ]
  },
  {
   "cell_type": "code",
   "execution_count": 19,
   "id": "b0b169af",
   "metadata": {},
   "outputs": [
    {
     "name": "stdout",
     "output_type": "stream",
     "text": [
      "La media: 3.5199027103267277\n",
      "La media teórica: 3.5\n",
      "La varianza:24.165822741258594\n",
      "La varianza teórica: 24.083333333333332\n"
     ]
    }
   ],
   "source": [
    "# a) Hacer la media de los 20000 valores y ver si sale lo que debería\n",
    "# 12 -(-5)/2\n",
    "print(\"La media: \" + str(X.mean()))\n",
    "print(\"La media teórica: \" + str((a+b)/2))\n",
    "# La varianza\n",
    "print(\"La varianza:\" + str(X.var()))\n",
    "# La varianza teórica\n",
    "print(\"La varianza teórica: \" + str((b-a)**2 / 12))"
   ]
  },
  {
   "cell_type": "code",
   "execution_count": 20,
   "id": "a823064a",
   "metadata": {},
   "outputs": [
    {
     "name": "stdout",
     "output_type": "stream",
     "text": [
      "Media de los booleanos calculados (Aquellos en los que x^2+y^2<1): 0.78537049\n",
      "Área del círculo calculado: 3.14148196\n"
     ]
    }
   ],
   "source": [
    "# b) La idea es coger un cuadrado que vaya del -1 al 1,\n",
    "# nos imaginamos una circunferencia dentro del cuadrado que vaya del -1 al 1 (radio 1)\n",
    "# nos imaginamos dardos que atraviesan el cuadrado y el circulo. Cuentas los dardos que han caido en el círculo.\n",
    "# Al final de la cuenta, la idea es que nos salga un numero PI\n",
    "a=-1\n",
    "b=1\n",
    "N=100000\n",
    "M=1000\n",
    "\n",
    "np.random.seed(2022)\n",
    "X = np.random.uniform(low = -1, high = 1, size = (M, N))\n",
    "Y = np.random.uniform(low = -1, high = 1, size = (M, N))\n",
    "print(\"Media de los booleanos calculados (Aquellos en los que x^2+y^2<1): \" + str((X**2+Y**2<1).mean()))\n",
    "# Media de booleanos, suma los 1s y los 0s proporcion 1s\n",
    "proporcion = (X**2+Y**2<1).mean()# La primera parte devuelve una lista de true false, para saber si ha entrado o no el dardo en el circulo\n",
    "# Al multiplicarlo por 4 nos tiene que dar el area del circulo. 4 es el area del cuadrado. Como sabemos \n",
    "#la proporcion que ocupa el circulo\n",
    "print(\"Área del círculo calculado: \" + str(proporcion*4))\n"
   ]
  },
  {
   "cell_type": "markdown",
   "id": "e58234b4",
   "metadata": {},
   "source": [
    "## Normal Random Variables"
   ]
  },
  {
   "cell_type": "markdown",
   "id": "adfadea4",
   "metadata": {},
   "source": [
    "### The Normal Curves\n",
    "\n",
    "+ We have already met these curves more than once. There is in fact a whole [family of normal curves](https://www.geogebra.org/m/BE4aF2Yb), depending on their mean and variance, whose equation is\n",
    "$$\n",
    "f_{\\mu,\\sigma}(x)=\\displaystyle\\dfrac{1}{\\sigma\\sqrt{2\\pi}}e^{-\\frac{1}{2}\\left(\\frac{x-\\mu}{\\sigma}\\right)^2}\n",
    "$$\n",
    "But fear not, we will not be using that much!\n",
    "\n",
    "+ The choice of $\\mu$ and $\\sigma$ determines the shape of this bell curves. More specifically, $\\mu$ sets the *center* of the curve (which is always symmetrical), while $\\sigma$ controls if the bell is tall and narrow (for small $\\sigma$) or short and wide (for bigger $\\sigma$). \n",
    "![](./fig/04-07-CurvasNormalesZoo.png)"
   ]
  },
  {
   "cell_type": "markdown",
   "id": "b4375e64",
   "metadata": {},
   "source": [
    "### Normal Random Variables\n",
    "\n",
    "+ A continuous random variable $X$ whose density curve is $f_{\\mu,\\sigma}(x)$ is a **normal random variable** and we write $X\\sim N(\\mu, \\sigma)$ to denote a random variable with mean $\\mu$ and standard deviation $\\sigma$.  \n",
    " **Note:** be careful, many authors use $N(\\mu, \\sigma^2)$ instead. Check always the convention being used. "
   ]
  },
  {
   "cell_type": "code",
   "execution_count": 21,
   "id": "866997cf",
   "metadata": {
    "scrolled": false
   },
   "outputs": [],
   "source": [
    "#from IPython.display import IFrame\n",
    "#IFrame(\"https://www.geogebra.org/m/egtwaagt\",800,800)"
   ]
  },
  {
   "cell_type": "markdown",
   "id": "bda7c3e6",
   "metadata": {},
   "source": [
    "### Direct Probability Problems for Normal Variables with Python: Tails and Intervals\n",
    "\n",
    "+ The first skill that we require is the ability to compute the probability of a given interval. That is, given $X\\sim N(\\mu, \\sigma)$ we want to obtain \n",
    "$$P(a < X < b)$$\n",
    "for any choice of $a$ and $b$. In particular we would also like to compute the probability of a **left tail**\n",
    "$$P(X < b)$$\n",
    "or a **right tail**\n",
    "$$P(a < X)$$\n",
    "\n",
    "+ **Example:** Given $X\\sim N(10, 2)$ let us compute the probability of the left tail \n",
    "$$P(X < 10.5)$$\n",
    "If you recall how we used Scipy with the binomial, this will looks familiar. For further details [check the SciPy docs](https://docs.scipy.org/doc/scipy/reference/generated/scipy.stats.norm.html#scipy.stats.norm)"
   ]
  },
  {
   "cell_type": "code",
   "execution_count": 22,
   "id": "2eb7ad7c",
   "metadata": {},
   "outputs": [
    {
     "data": {
      "text/plain": [
       "0.5987063256829237"
      ]
     },
     "execution_count": 22,
     "metadata": {},
     "output_type": "execute_result"
    }
   ],
   "source": [
    "from scipy import stats\n",
    "\n",
    "mu = 10\n",
    "sigma = 2\n",
    "\n",
    "b = 10.5\n",
    "\n",
    "stats.norm.cdf(b, loc = mu, scale = sigma)"
   ]
  },
  {
   "cell_type": "markdown",
   "id": "ccf10c76",
   "metadata": {},
   "source": [
    "+ **Example:** If instead we want the probability of a right tail such as \n",
    "$$P(X > 11)$$\n",
    "(still with $X\\sim N(10, 2)$) then we can either use basic probability properties:"
   ]
  },
  {
   "cell_type": "code",
   "execution_count": 23,
   "id": "0eb1b2bf",
   "metadata": {},
   "outputs": [
    {
     "data": {
      "text/plain": [
       "0.3085375387259869"
      ]
     },
     "execution_count": 23,
     "metadata": {},
     "output_type": "execute_result"
    }
   ],
   "source": [
    "a = 11\n",
    "1 - stats.norm.cdf(a, loc = mu, scale = sigma) "
   ]
  },
  {
   "cell_type": "markdown",
   "id": "543f231a",
   "metadata": {},
   "source": [
    "or we can use the so called *survival function* `sf`, which is nothing but `1 - cdf`:"
   ]
  },
  {
   "cell_type": "code",
   "execution_count": 24,
   "id": "9c708f19",
   "metadata": {},
   "outputs": [
    {
     "data": {
      "text/plain": [
       "0.3085375387259869"
      ]
     },
     "execution_count": 24,
     "metadata": {},
     "output_type": "execute_result"
    }
   ],
   "source": [
    "stats.norm.sf(a, loc = mu, scale = sigma)"
   ]
  },
  {
   "cell_type": "markdown",
   "id": "eee998c4",
   "metadata": {},
   "source": [
    "![](./fig/04-09-EjemplosProbabilidadNormal01.png)\n",
    "\n",
    "+ **Example:** For the probability of an interval such as \n",
    "$$P(7<X<12)$$\n",
    "(same $\\mu$ and $\\sigma$ as before) we simply take the difference:"
   ]
  },
  {
   "cell_type": "code",
   "execution_count": 25,
   "id": "83275854",
   "metadata": {},
   "outputs": [
    {
     "data": {
      "text/plain": [
       "0.7745375447996848"
      ]
     },
     "execution_count": 25,
     "metadata": {},
     "output_type": "execute_result"
    }
   ],
   "source": [
    "a = 7\n",
    "b = 12\n",
    "stats.norm.cdf(b, loc = mu, scale = sigma)  - stats.norm.cdf(a, loc = mu, scale = sigma) "
   ]
  },
  {
   "cell_type": "markdown",
   "id": "ad4b19af",
   "metadata": {},
   "source": [
    "![](./fig/04-09-EjemplosProbabilidadNormal03.png)"
   ]
  },
  {
   "cell_type": "markdown",
   "id": "c9c4f99c",
   "metadata": {},
   "source": [
    "### Inverse Probability Problems for Normal Variables with Python\n",
    "\n",
    "+ The **inverse probability problem (left tail)** for a normal variable $X\\sim N(\\mu, \\sigma)$ is this: given a probability $p$ find the value $k$ such that:  \n",
    "$$P(X < k) = p$$\n",
    "\n",
    "+ **Example:** given a $N(10, 2)$ normal, find the value $k$ for which \n",
    "$$\n",
    "\\quad\\\\\n",
    "P(X\\leq k) = \\dfrac{1}{3}\n",
    "\\quad\\\\\n",
    "$$\n",
    "![](./fig/04-09-EjemplosProbabilidadNormal04.png)  \n",
    "In order to answer with Python we will use the `ppf` (percentile point function) function from SciPy"
   ]
  },
  {
   "cell_type": "code",
   "execution_count": 26,
   "id": "e65a2f1c",
   "metadata": {},
   "outputs": [
    {
     "data": {
      "text/plain": [
       "9.138545401409084"
      ]
     },
     "execution_count": 26,
     "metadata": {},
     "output_type": "execute_result"
    }
   ],
   "source": [
    "mu = 10\n",
    "sigma = 2\n",
    "\n",
    "p = 1/3\n",
    "\n",
    "stats.norm.ppf(p, loc = mu, scale = sigma)"
   ]
  },
  {
   "cell_type": "markdown",
   "id": "175d565d",
   "metadata": {},
   "source": [
    "+ **Exercise:**  given a $N(0, 1)$ normal, find the value $k$ for which \n",
    "$$P(X\\leq k) = 0.975$$ \n",
    " **Note:** This exercise is very important for Statistical Inference. We will need the answer when we discuss confidence intervals.  "
   ]
  },
  {
   "cell_type": "code",
   "execution_count": 27,
   "id": "21abe48d",
   "metadata": {},
   "outputs": [],
   "source": [
    "# %load \"./exclude/S04-006.py\""
   ]
  },
  {
   "cell_type": "markdown",
   "id": "e567f327",
   "metadata": {},
   "source": [
    "From [XKCD](https://xkcd.com/2118/)\n",
    "![](https://imgs.xkcd.com/comics/normal_distribution.png)"
   ]
  },
  {
   "cell_type": "markdown",
   "id": "ef702c69",
   "metadata": {},
   "source": [
    "### Generating Random Normal Values\n",
    "\n",
    "+ Another important skill when working with random variables is the ability to generate random values from $X\\sim N(\\mu, sigma)$. As was the case for the binomial, we have several different options, using NumPy or SciPy:\n"
   ]
  },
  {
   "cell_type": "code",
   "execution_count": 28,
   "id": "c7beaa9f",
   "metadata": {},
   "outputs": [
    {
     "name": "stdout",
     "output_type": "stream",
     "text": [
      "Numpy legacy \n",
      "\n",
      "[ 9.9989442   9.45019715  9.72142888 13.96937232 10.56421865 11.52161732\n",
      " 10.60196321 11.08059454 10.74699457 10.75562679  9.81957361  5.38811346\n",
      " 12.28552005  6.92869143  8.27249596 12.03308987 12.06792777  8.35101554\n",
      " 10.03780971  9.23331289  9.39162905 11.99458301  9.74545232  7.0482282\n",
      "  6.11818734]\n",
      "------------------------ \n",
      "\n",
      "Numpy current version \n",
      "\n",
      "[15.35283058  8.31441119 14.15636007  6.94468014 10.79235702  9.80818777\n",
      "  5.04917819  9.26567488 11.18453008  4.13750299  7.11953284 10.15777538\n",
      " 11.17128161 13.33543222  7.71821407  9.58019987 10.99362408 12.03994342\n",
      "  8.23426126  7.33735731 14.05135787 11.63310234 10.92068693 10.3494691\n",
      "  8.54772654]\n",
      "------------------------ \n",
      "\n",
      "SciPy \n",
      "\n",
      "[11.66729785  8.86556422 12.34897391 10.63813766 10.38174086 10.73854036\n",
      "  9.79770427  8.11638102  7.19171658 14.16129402  9.75936753 11.51958376\n",
      " 13.65486428  8.67854583  8.38438748 11.77560023  9.5651051   8.12095097\n",
      " 11.19907663 14.44622539 12.00001092 12.29934909  9.68884742  6.69884829\n",
      "  7.08977166]\n"
     ]
    }
   ],
   "source": [
    "# Normal variable parameters\n",
    "\n",
    "mu = 10\n",
    "sigma = 2\n",
    "\n",
    "# Number of generated randm values\n",
    "\n",
    "N = 25\n",
    "\n",
    "# NumPy legacy code\n",
    "np.random.seed(2022)\n",
    "print(\"Numpy legacy \\n\") \n",
    "print(np.random.normal(loc = mu, scale = sigma, size = N))\n",
    "print(\"--\" * 12, \"\\n\")\n",
    "# NumPy current version\n",
    "print(\"Numpy current version \\n\") \n",
    "print(np.random.default_rng(2022).normal(loc = mu, scale = sigma, size = N))\n",
    "print(\"--\" * 12, \"\\n\")\n",
    "# Scipy\n",
    "print(\"SciPy \\n\") \n",
    "print(stats.norm(loc = mu, scale = sigma).rvs(size = N))"
   ]
  },
  {
   "cell_type": "markdown",
   "id": "f4b746f4",
   "metadata": {},
   "source": [
    "+ **Exercise:** recall that in a previous exercise we generated and plotted a million points uniformly distributed in the square $[-1, 1]\\times[-1, 1]$. Repeat that code again but this time generate only 10000 points. Next, generate 10000 more points $(x, y)$ where both $x$ and $y$ are normal random variables with $\\mu = 0, \\sigma = 1$. Add this second set of points to the same plot using a different color (hint: use `alpha` to control overplotting). Do you see the difference?"
   ]
  },
  {
   "cell_type": "code",
   "execution_count": 29,
   "id": "35070dc0",
   "metadata": {},
   "outputs": [],
   "source": [
    "# %load \"./exclude/S04-007.py\""
   ]
  },
  {
   "cell_type": "markdown",
   "id": "e87057e8",
   "metadata": {},
   "source": [
    "## The Standard Normal $Z$"
   ]
  },
  {
   "cell_type": "markdown",
   "id": "f2ad6daa",
   "metadata": {},
   "source": [
    "+ If $X\\sim N(\\mu, \\sigma)$ is any normal variable, then the **standardized** variable\n",
    "<p style='font-family: Optima;color:blue;background-color:#f0f0f5;width: 30%;'>\n",
    "$$\n",
    "\\quad\\\\\n",
    "Z=\\dfrac{X-\\mu}{\\sigma}\n",
    "\\quad\\\\\n",
    "$$\n",
    "</p>\n",
    "\n",
    "  is always a normal variable of type $N(0, 1)$. This specially important normal variable with $\\mu = 0$ and $\\sigma = 1$ is called the  **standard normal** and is always denoted by $Z$ in Statistics. \n",
    "  \n",
    "+ Thus the process of standardization converts the values of any normal into values of $Z$. The standard normal $N(0, 1)$ can therefore be considered as a *universal scale* for all normal variables. If you need to understand how *typical* or *unexpected*  a value from a normal variable is, you just have to standardize it.\n",
    "\n",
    "+ The **68-95-99 Rule**. As a consequence of the above, whenever we work with normal variables we can be sure that these approximations always hold:\n",
    "<p style='font-family: Optima;color:blue;background-color:#f0f0f5;width: 30%;'>\n",
    "$$\n",
    "\\quad\\\\\n",
    "\\begin{cases}\n",
    "P(\\mu-\\sigma<X<\\mu+\\sigma)\\approx 0.683,\\\\[3mm]\n",
    "P(\\mu-2\\sigma<X<\\mu+2\\sigma)\\approx 0.955\\\\[3mm]\n",
    "P(\\mu-3\\sigma<X<\\mu+3\\sigma)\\approx 0.997\n",
    "\\end{cases}\n",
    "\\quad\\\\\n",
    "$$\n",
    "</p>\n",
    "  \n",
    "  irrespective of the values of $\\sigma$ and $\\mu$. Going back to that idea of *universal probability scale* that means that if a value of a random variable is four or more sigmas away from the mean, it can positively be catalogued as *weird*."
   ]
  },
  {
   "cell_type": "markdown",
   "id": "eb4c7b2e",
   "metadata": {},
   "source": [
    "+ **Exercise:**  \n",
    "$(a)$ check the 68-95-99 rule using Python e.g for $N(40, 3.6)$. Change $\\mu$ and $\\sigma$ a few times and recheck.  \n",
    "$(b)$ If $X \\sim N(123, 17)$ and we observe the value $168$, how *weird* is this value? Make your answer quantitative; that is, answer with a probability."
   ]
  },
  {
   "cell_type": "code",
   "execution_count": 30,
   "id": "aa0fa0ed",
   "metadata": {},
   "outputs": [],
   "source": [
    "# %load \"./exclude/S04-008.py\""
   ]
  },
  {
   "cell_type": "markdown",
   "id": "a949eb16",
   "metadata": {},
   "source": [
    "### Sums of Normal Variables\n",
    "\n",
    "+ If $X_1\\sim N(\\mu_1,\\sigma_1)$ and $X_2\\sim N(\\mu_2,\\sigma_2)$ are  **independent normal variables**, then their sum is **also a normal variable** of type:\n",
    "<p style='color:blue;background-color:#f0f0f5;width: 30%;'>\n",
    "$$\n",
    "N\\left(\\mu_1+\\mu_2,\\sqrt{\\rule{0cm}{0.5cm}\\sigma_1^2+\\sigma_2^2}\\right)\n",
    "$$\n",
    "</p>\n",
    "  \n",
    "  We emphasize that the important thing here is the fact that the sum is also normal. If you e.g. sum independent binomials you will not get a new binomial. This property generalizes to the sum of $k$ independent normals that again result in a normal of type:\n",
    "$${N}\\left(\\mu_1+\\cdots+\\mu_k,\\sqrt{\\rule{0cm}{0.5cm}\\sigma_1^2+\\cdots+\\sigma_k^2}\\right).$$  \n",
    "\n",
    "+ The **mixture** of random normals is an entirely different process, which often results in multimodal variables. "
   ]
  },
  {
   "cell_type": "markdown",
   "id": "593badbd",
   "metadata": {},
   "source": [
    "+ **Exercise:**  \n",
    "$(a)$ Generate a pair of large samples (`N = 3000`) of the same size from $X_1\\sim N(-3, 1)$ and $X_2\\sim N(2, 1/2)$. Combine those samples to get a sample of the normal variable $X_3 = 3 X_1 + 4 X_2$.  \n",
    "$(b)$ What type of normal is $X_3$? That is, what are the theoretical values of $\\mu$ and $\\sigma$ for $X_3$?  \n",
    "$(c)$ Check these against your empirical values.  \n",
    "$(d)$ Plot the density curve of the $X_3$ sample. Read this page from the [SciPy docs](https://docs.scipy.org/doc/scipy/reference/generated/scipy.stats.norm.html) and find out how to add to the plot the theoretical `pdf` of this normal random variable $X_3$. Does it confirm the above result?  \n",
    "$(e)$ Now let us consider the *mixture* of $X1$ and $X2$. For this you only need to concatenate both NumPy arrays. Look at this [Section on Array Concatenation from the Python Data Science Handbook](https://jakevdp.github.io/PythonDataScienceHandbook/02.02-the-basics-of-numpy-arrays.html#Array-Concatenation-and-Splitting) to learn how to do this kind of operations on arrays of various shapes. Once you have concatenated the arrays plot (in a new, different plot) the density curve of the resulting sample. How does it look like? is it normal?"
   ]
  },
  {
   "cell_type": "code",
   "execution_count": 31,
   "id": "152bd7a9",
   "metadata": {},
   "outputs": [],
   "source": [
    "# %load \"./exclude/S04-009.py\""
   ]
  },
  {
   "cell_type": "code",
   "execution_count": null,
   "id": "956d83b1",
   "metadata": {
    "scrolled": false
   },
   "outputs": [],
   "source": []
  }
 ],
 "metadata": {
  "kernelspec": {
   "display_name": "Python 3 (ipykernel)",
   "language": "python",
   "name": "python3"
  },
  "language_info": {
   "codemirror_mode": {
    "name": "ipython",
    "version": 3
   },
   "file_extension": ".py",
   "mimetype": "text/x-python",
   "name": "python",
   "nbconvert_exporter": "python",
   "pygments_lexer": "ipython3",
   "version": "3.10.4"
  },
  "toc": {
   "base_numbering": 1,
   "nav_menu": {},
   "number_sections": true,
   "sideBar": true,
   "skip_h1_title": false,
   "title_cell": "Table of Contents",
   "title_sidebar": "Contents",
   "toc_cell": false,
   "toc_position": {},
   "toc_section_display": true,
   "toc_window_display": false
  }
 },
 "nbformat": 4,
 "nbformat_minor": 5
}
