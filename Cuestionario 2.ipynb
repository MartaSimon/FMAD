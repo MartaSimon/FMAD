{
 "cells": [
  {
   "cell_type": "code",
   "execution_count": 5,
   "id": "12782712",
   "metadata": {},
   "outputs": [],
   "source": [
    "import pandas as pd\n",
    "import numpy as np\n",
    "import xlrd # Para excels\n",
    "import seaborn as sns\n",
    "import matplotlib.pyplot as plt\n",
    "import scipy.stats as stats\n"
   ]
  },
  {
   "cell_type": "markdown",
   "id": "9b7f3131",
   "metadata": {},
   "source": [
    "## Pregunta 1: ¿Cuánto vale la varianza (muestral) de los valores contenidos en el fichero varianza_01.csv?"
   ]
  },
  {
   "cell_type": "code",
   "execution_count": 6,
   "id": "2d10377d",
   "metadata": {},
   "outputs": [
    {
     "data": {
      "text/html": [
       "<div>\n",
       "<style scoped>\n",
       "    .dataframe tbody tr th:only-of-type {\n",
       "        vertical-align: middle;\n",
       "    }\n",
       "\n",
       "    .dataframe tbody tr th {\n",
       "        vertical-align: top;\n",
       "    }\n",
       "\n",
       "    .dataframe thead th {\n",
       "        text-align: right;\n",
       "    }\n",
       "</style>\n",
       "<table border=\"1\" class=\"dataframe\">\n",
       "  <thead>\n",
       "    <tr style=\"text-align: right;\">\n",
       "      <th></th>\n",
       "      <th>x</th>\n",
       "    </tr>\n",
       "  </thead>\n",
       "  <tbody>\n",
       "    <tr>\n",
       "      <th>0</th>\n",
       "      <td>82.932486</td>\n",
       "    </tr>\n",
       "    <tr>\n",
       "      <th>1</th>\n",
       "      <td>112.524872</td>\n",
       "    </tr>\n",
       "    <tr>\n",
       "      <th>2</th>\n",
       "      <td>82.735918</td>\n",
       "    </tr>\n",
       "    <tr>\n",
       "      <th>3</th>\n",
       "      <td>91.196065</td>\n",
       "    </tr>\n",
       "    <tr>\n",
       "      <th>4</th>\n",
       "      <td>98.017180</td>\n",
       "    </tr>\n",
       "  </tbody>\n",
       "</table>\n",
       "</div>"
      ],
      "text/plain": [
       "            x\n",
       "0   82.932486\n",
       "1  112.524872\n",
       "2   82.735918\n",
       "3   91.196065\n",
       "4   98.017180"
      ]
     },
     "execution_count": 6,
     "metadata": {},
     "output_type": "execute_result"
    }
   ],
   "source": [
    "df1 = pd.read_csv('data/Cuestionario 2/varianza_01.csv', header=0)\n",
    "df1.head()"
   ]
  },
  {
   "cell_type": "code",
   "execution_count": 7,
   "id": "278a37de",
   "metadata": {},
   "outputs": [
    {
     "name": "stdout",
     "output_type": "stream",
     "text": [
      "Varianza:  612.1122343249077\n"
     ]
    }
   ],
   "source": [
    "print(\"Varianza: \", df1['x'].var())"
   ]
  },
  {
   "cell_type": "markdown",
   "id": "a1ee85b4",
   "metadata": {},
   "source": [
    "## Pregunta 2: ¿Cuánto vale la desviación típica (muestral) de los valores contenidos en el fichero desviacionTipica_01.csv?"
   ]
  },
  {
   "cell_type": "code",
   "execution_count": 8,
   "id": "b8aef86f",
   "metadata": {},
   "outputs": [
    {
     "data": {
      "text/html": [
       "<div>\n",
       "<style scoped>\n",
       "    .dataframe tbody tr th:only-of-type {\n",
       "        vertical-align: middle;\n",
       "    }\n",
       "\n",
       "    .dataframe tbody tr th {\n",
       "        vertical-align: top;\n",
       "    }\n",
       "\n",
       "    .dataframe thead th {\n",
       "        text-align: right;\n",
       "    }\n",
       "</style>\n",
       "<table border=\"1\" class=\"dataframe\">\n",
       "  <thead>\n",
       "    <tr style=\"text-align: right;\">\n",
       "      <th></th>\n",
       "      <th>x</th>\n",
       "    </tr>\n",
       "  </thead>\n",
       "  <tbody>\n",
       "    <tr>\n",
       "      <th>0</th>\n",
       "      <td>85.000332</td>\n",
       "    </tr>\n",
       "    <tr>\n",
       "      <th>1</th>\n",
       "      <td>75.871523</td>\n",
       "    </tr>\n",
       "    <tr>\n",
       "      <th>2</th>\n",
       "      <td>108.775077</td>\n",
       "    </tr>\n",
       "    <tr>\n",
       "      <th>3</th>\n",
       "      <td>51.818157</td>\n",
       "    </tr>\n",
       "    <tr>\n",
       "      <th>4</th>\n",
       "      <td>37.325369</td>\n",
       "    </tr>\n",
       "  </tbody>\n",
       "</table>\n",
       "</div>"
      ],
      "text/plain": [
       "            x\n",
       "0   85.000332\n",
       "1   75.871523\n",
       "2  108.775077\n",
       "3   51.818157\n",
       "4   37.325369"
      ]
     },
     "execution_count": 8,
     "metadata": {},
     "output_type": "execute_result"
    }
   ],
   "source": [
    "df2 = pd.read_csv('data/Cuestionario 2/desviacionTipica_01.csv', header=0)\n",
    "df2.head()"
   ]
  },
  {
   "cell_type": "code",
   "execution_count": 9,
   "id": "01b6760f",
   "metadata": {},
   "outputs": [
    {
     "name": "stdout",
     "output_type": "stream",
     "text": [
      "Standard deviation (Varianza):  28.335141400395575\n"
     ]
    }
   ],
   "source": [
    "print(\"Standard deviation (Varianza): \", df2['x'].std())"
   ]
  },
  {
   "cell_type": "markdown",
   "id": "5ee2227d",
   "metadata": {},
   "source": [
    "## Pregunta 3: ¿Cuál es el IQR de los elementos del vector datos? (Rango intercuartilico)"
   ]
  },
  {
   "cell_type": "code",
   "execution_count": 10,
   "id": "b8786056",
   "metadata": {},
   "outputs": [
    {
     "name": "stdout",
     "output_type": "stream",
     "text": [
      "[0.76106013 0.58005202 2.83343687 ... 2.68449758 2.39975578 3.21860031]\n",
      "1.2020912189063417\n"
     ]
    }
   ],
   "source": [
    "mu = 3.01 \n",
    "sigma = 0.896\n",
    "N = 10000\n",
    "datos = np.random.default_rng(125).normal(loc = mu, scale = sigma, size = N)\n",
    "print(datos)\n",
    "\n",
    "print(stats.iqr(datos))"
   ]
  },
  {
   "cell_type": "markdown",
   "id": "53e0490f",
   "metadata": {},
   "source": [
    "## Pregunta 4: ¿Cuál es la proporción muestral del valor w?"
   ]
  },
  {
   "cell_type": "code",
   "execution_count": 12,
   "id": "9fea1897",
   "metadata": {},
   "outputs": [
    {
     "name": "stdout",
     "output_type": "stream",
     "text": [
      "  clase\n",
      "0     u\n",
      "1     g\n",
      "2     m\n",
      "3     w\n",
      "4     p\n"
     ]
    },
    {
     "data": {
      "text/plain": [
       "0.1989247311827957"
      ]
     },
     "execution_count": 12,
     "metadata": {},
     "output_type": "execute_result"
    }
   ],
   "source": [
    "df2 = pd.read_csv('data/Cuestionario 2/proporcionMuestral_01.csv', header=0)\n",
    "print(df2.head())\n",
    "# Contamos el numero de veces que aparece w y lo dividimos entre el total de datos\n",
    "df2.value_counts()[\"c\"]/df2.shape[0]"
   ]
  },
  {
   "cell_type": "markdown",
   "id": "cbd49d59",
   "metadata": {},
   "source": [
    "## Pregunta 5: ¿cuál de las siguientes afirmaciones describe más acertadamente la distribución de esos datos?"
   ]
  },
  {
   "cell_type": "code",
   "execution_count": 13,
   "id": "197686f0",
   "metadata": {},
   "outputs": [
    {
     "name": "stdout",
     "output_type": "stream",
     "text": [
      "          x\n",
      "0  2.653938\n",
      "1  5.702253\n",
      "2  2.620262\n",
      "3  4.153124\n",
      "4  2.670323\n"
     ]
    },
    {
     "data": {
      "text/plain": [
       "<AxesSubplot:ylabel='Density'>"
      ]
     },
     "execution_count": 13,
     "metadata": {},
     "output_type": "execute_result"
    },
    {
     "data": {
      "image/png": "[encoded data removed]",
      "text/plain": [
       "<Figure size 640x480 with 1 Axes>"
      ]
     },
     "metadata": {},
     "output_type": "display_data"
    }
   ],
   "source": [
    "df3 = pd.read_csv('data/Cuestionario 2/distribuciones_01.csv', header=0)\n",
    "print(df3.head())\n",
    "df3.plot.density()# Bimodal"
   ]
  },
  {
   "cell_type": "markdown",
   "id": "9ad5ff7a",
   "metadata": {},
   "source": [
    "## Pregunta 6: El vector pob contiene los datos de una población. Toma un número alto de muestras de tamaño 18 de esa población y calcula sus medias muestrales (usa replicate, por ejemplo). ¿Cuál es la desviación típica de esas medias muestrales?"
   ]
  },
  {
   "cell_type": "code",
   "execution_count": 12,
   "id": "e1a2dea1",
   "metadata": {},
   "outputs": [
    {
     "name": "stdout",
     "output_type": "stream",
     "text": [
      "[4.74108232 3.35836852 4.44688139 4.51527783 5.18106506 4.4082781\n",
      " 4.51863914 4.11931747 4.1044914  5.17813249]\n",
      "0    0.198347\n",
      "dtype: float64\n"
     ]
    }
   ],
   "source": [
    "mu = 4.71\n",
    "sigma = 0.787\n",
    "N = 539\n",
    "pob = np.random.default_rng(129).normal(loc = mu, scale = sigma, size = N)\n",
    "print(pob[:10])\n",
    "n = 18\n",
    "N_samples = 10000\n",
    "pob = pd.DataFrame(pob)\n",
    "sample_means = pd.DataFrame([pob.sample(n, replace=True).mean() for item in range(N_samples)]) \n",
    "print(sample_means.std(ddof=0))"
   ]
  },
  {
   "cell_type": "markdown",
   "id": "1109133c",
   "metadata": {},
   "source": [
    "## Pregunta 7: La variable aleatoria X es binomial, de tipo B(6,0.7). Calcula la probabilidad P(X=2)."
   ]
  },
  {
   "cell_type": "code",
   "execution_count": 139,
   "id": "22761458",
   "metadata": {},
   "outputs": [
    {
     "data": {
      "text/plain": [
       "0.12386304000000004"
      ]
     },
     "execution_count": 139,
     "metadata": {},
     "output_type": "execute_result"
    }
   ],
   "source": [
    "n = 6 # tamaño de la muestra\n",
    "p = 0.7 # Probabilidad de exito\n",
    "k = 2 # Numero dentro del tamaño de la muestra. Del que quieres observar la prob \n",
    "stats.binom.pmf(k, n, p) # probability mass function (tabla de probabilidades)"
   ]
  },
  {
   "cell_type": "code",
   "execution_count": 13,
   "id": "62bf1242",
   "metadata": {},
   "outputs": [
    {
     "data": {
      "text/plain": [
       "0.0768"
      ]
     },
     "execution_count": 13,
     "metadata": {},
     "output_type": "execute_result"
    }
   ],
   "source": [
    "n = 5 # tamaño de la muestra\n",
    "p = 0.4 # Probabilidad de hipertenso\n",
    "k = 4 #- Numero del 0 al 7. Cuantos pacientes hipertensos dentro de esos siete. Tiene que estar dentro del tamaño de la muestra. \n",
    "stats.binom.pmf(k, n, p) # probability mass function (tabla de probabilidades)"
   ]
  },
  {
   "cell_type": "markdown",
   "id": "b5a846dd",
   "metadata": {},
   "source": [
    "## Pregunta 8: La variable aleatoria X es binomial, de tipo B(7,0.3). Calcula la probabilidad P(3<X<6). "
   ]
  },
  {
   "cell_type": "code",
   "execution_count": 24,
   "id": "c2b155bb",
   "metadata": {},
   "outputs": [
    {
     "data": {
      "text/plain": [
       "0.12224519999999996"
      ]
     },
     "execution_count": 24,
     "metadata": {},
     "output_type": "execute_result"
    }
   ],
   "source": [
    "# generalizado\n",
    "\n",
    "n = 7 # tamaño de la muestra\n",
    "p = 0.3 # Probabilidad de hipertenso\n",
    "\n",
    "inicio = 3\n",
    "fin = 6\n",
    "rango = np.arange(inicio+1,fin)\n",
    "p_total = 0\n",
    "\n",
    "for i in rango:\n",
    "    p_total += stats.binom.pmf(i, n, p)\n",
    "\n",
    "p_total"
   ]
  },
  {
   "cell_type": "markdown",
   "id": "b3463ba7",
   "metadata": {},
   "source": [
    "## Pregunta 9: La variable aleatoria X es binomial, de tipo B(5,0.6). Calcula la probabilidad P(2≤X<3)."
   ]
  },
  {
   "cell_type": "code",
   "execution_count": 26,
   "id": "c04a8bc2",
   "metadata": {},
   "outputs": [
    {
     "name": "stdout",
     "output_type": "stream",
     "text": [
      "[2]\n"
     ]
    },
    {
     "data": {
      "text/plain": [
       "0.23040000000000002"
      ]
     },
     "execution_count": 26,
     "metadata": {},
     "output_type": "execute_result"
    }
   ],
   "source": [
    "n = 5 # tamaño de la muestra\n",
    "p = 0.6 # Probabilidad de hipertenso\n",
    " \n",
    "inicio = 2\n",
    "fin = 3\n",
    "rango = np.arange(inicio,fin)\n",
    "print(rango)\n",
    "p_total = 0\n",
    "\n",
    "for i in rango:\n",
    "    p_total += stats.binom.pmf(i, n, p) # probability mass function (tabla de probabilidades)\n",
    "\n",
    "p_total"
   ]
  },
  {
   "cell_type": "markdown",
   "id": "9ac50523",
   "metadata": {},
   "source": [
    "## Pregunta 10:La variable aleatoria X es binomial, de tipo B(8,0.3). Calcula la probabilidad P(4<X≤5)"
   ]
  },
  {
   "cell_type": "code",
   "execution_count": 28,
   "id": "cec514ed",
   "metadata": {},
   "outputs": [
    {
     "name": "stdout",
     "output_type": "stream",
     "text": [
      "[5]\n"
     ]
    },
    {
     "data": {
      "text/plain": [
       "0.04667543999999994"
      ]
     },
     "execution_count": 28,
     "metadata": {},
     "output_type": "execute_result"
    }
   ],
   "source": [
    "n = 8 # tamaño de la muestra\n",
    "p = 0.3 # Probabilidad de hipertenso\n",
    " \n",
    "inicio = 4\n",
    "fin = 5\n",
    "rango = np.arange(inicio+1,fin+1)\n",
    "print(rango)\n",
    "p_total = 0\n",
    "\n",
    "for i in rango:\n",
    "    p_total += stats.binom.pmf(i, n, p) # probability mass function (tabla de probabilidades)\n",
    "\n",
    "p_total"
   ]
  },
  {
   "cell_type": "markdown",
   "id": "be855045",
   "metadata": {},
   "source": [
    "## Pregunta 11: La variable aleatoria X es binomial, de tipo B(5,0.3). Calcula la probabilidad P(3≤X≤4)."
   ]
  },
  {
   "cell_type": "code",
   "execution_count": 38,
   "id": "17645441",
   "metadata": {},
   "outputs": [
    {
     "name": "stdout",
     "output_type": "stream",
     "text": [
      "[3 4]\n",
      "0.16064999999999988\n"
     ]
    },
    {
     "data": {
      "text/plain": [
       "0.16064999999999988"
      ]
     },
     "execution_count": 38,
     "metadata": {},
     "output_type": "execute_result"
    }
   ],
   "source": [
    "n = 5 # tamaño de la muestra\n",
    "p = 0.3 # Probabilidad de hipertenso\n",
    "\n",
    "inicio = 3\n",
    "fin = 4\n",
    "rango = np.arange(inicio,fin+1)\n",
    "print(rango)\n",
    "p_total = 0\n",
    "\n",
    "print(sum(stats.binom.pmf(rango, n, p)))\n",
    "\n",
    "for i in rango:\n",
    "    p_total += stats.binom.pmf(i, n, p)\n",
    "\n",
    "p_total"
   ]
  },
  {
   "cell_type": "markdown",
   "id": "7ba2a44d",
   "metadata": {},
   "source": [
    "## Pregunta 12: La variable aleatoria X es binomial, de tipo B(8,0.5). Calcula la probabilidad P(X>3). CON CDF\n"
   ]
  },
  {
   "cell_type": "code",
   "execution_count": 32,
   "id": "b1e0fb74",
   "metadata": {},
   "outputs": [
    {
     "data": {
      "text/plain": [
       "0.63671875"
      ]
     },
     "execution_count": 32,
     "metadata": {},
     "output_type": "execute_result"
    }
   ],
   "source": [
    "n = 8 # tamaño de la muestra\n",
    "p = 0.5 # Probabilidad de hipertenso\n",
    "\n",
    "prob = stats.binom.sf(3, n, p)\n",
    "\n",
    "prob"
   ]
  },
  {
   "cell_type": "markdown",
   "id": "1190c103",
   "metadata": {},
   "source": [
    "## Pregunta 13: La variable aleatoria X es binomial, de tipo B(9,0.3). Calcula la probabilidad P(X≥3)."
   ]
  },
  {
   "cell_type": "code",
   "execution_count": 40,
   "id": "0dc81e98",
   "metadata": {},
   "outputs": [
    {
     "name": "stdout",
     "output_type": "stream",
     "text": [
      "[3 4 5 6 7 8 9]\n"
     ]
    },
    {
     "data": {
      "text/plain": [
       "0.5371688339999998"
      ]
     },
     "execution_count": 40,
     "metadata": {},
     "output_type": "execute_result"
    }
   ],
   "source": [
    "n = 9 # tamaño de la muestra\n",
    "p = 0.3 # Probabilidad de hipertenso\n",
    "\n",
    "inicio = 3\n",
    "rango = np.arange(inicio,n+1)\n",
    "print(rango)\n",
    "prob = sum(stats.binom.pmf(rango, n, p))\n",
    "prob"
   ]
  },
  {
   "cell_type": "markdown",
   "id": "11513c4c",
   "metadata": {},
   "source": [
    "## Pregunta 14: La variable aleatoria X es binomial, de tipo B(15,0.4). Calcula la probabilidad P(X<3)."
   ]
  },
  {
   "cell_type": "code",
   "execution_count": 41,
   "id": "aaca8e56",
   "metadata": {},
   "outputs": [
    {
     "name": "stdout",
     "output_type": "stream",
     "text": [
      "[0 1 2]\n"
     ]
    },
    {
     "data": {
      "text/plain": [
       "0.027114000777216003"
      ]
     },
     "execution_count": 41,
     "metadata": {},
     "output_type": "execute_result"
    }
   ],
   "source": [
    "n = 15 # tamaño de la muestra\n",
    "p = 0.4 # Probabilidad de hipertenso\n",
    "\n",
    "fin = 3\n",
    "rango = np.arange(0,fin)\n",
    "print(rango)\n",
    "# Existe tambien la p0!! No olvidar\n",
    "prob = sum(stats.binom.pmf(rango, n, p))\n",
    "prob"
   ]
  },
  {
   "cell_type": "markdown",
   "id": "dda47743",
   "metadata": {},
   "source": [
    "## Pregunta 15: La variable aleatoria X es binomial, de tipo B(14,0.6). Calcula la probabilidad P(X≤6)."
   ]
  },
  {
   "cell_type": "code",
   "execution_count": 43,
   "id": "54473fa1",
   "metadata": {},
   "outputs": [
    {
     "name": "stdout",
     "output_type": "stream",
     "text": [
      "[0 1 2 3 4 5 6]\n"
     ]
    },
    {
     "data": {
      "text/plain": [
       "0.15014010290176005"
      ]
     },
     "execution_count": 43,
     "metadata": {},
     "output_type": "execute_result"
    }
   ],
   "source": [
    "n = 14 # tamaño de la muestra\n",
    "p = 0.6 # Probabilidad de hipertenso\n",
    " \n",
    "fin = 6\n",
    "rango = np.arange(0,fin+1)\n",
    "print(rango)\n",
    "\n",
    "prob = sum(stats.binom.pmf(rango, n, p))\n",
    "prob"
   ]
  },
  {
   "cell_type": "markdown",
   "id": "78377bb4",
   "metadata": {},
   "source": [
    "## Pregunta 16: La variable aleatoria X es normal de tipo N(3,0.6). Calcula la probabilidad P(2.4<X<3.6)."
   ]
  },
  {
   "cell_type": "code",
   "execution_count": 44,
   "id": "77e1c222",
   "metadata": {},
   "outputs": [
    {
     "name": "stdout",
     "output_type": "stream",
     "text": [
      "0.6827\n"
     ]
    },
    {
     "data": {
      "text/plain": [
       "0.6826894921370861"
      ]
     },
     "execution_count": 44,
     "metadata": {},
     "output_type": "execute_result"
    }
   ],
   "source": [
    "mu = 3\n",
    "sigma = 0.6\n",
    "\n",
    "a = 2.4\n",
    "b = 3.6\n",
    "\n",
    "res = stats.norm.cdf(b, loc = mu, scale = sigma) - stats.norm.cdf(a, loc = mu, scale = sigma)\n",
    "print(\"{:.4f}\".format(res))\n",
    "res"
   ]
  },
  {
   "cell_type": "markdown",
   "id": "6185088b",
   "metadata": {},
   "source": [
    "## Pregunta 17: La variable aleatoria X es normal de tipo N(0,0.6). Calcula la probabilidad P(X<0.9)."
   ]
  },
  {
   "cell_type": "code",
   "execution_count": 45,
   "id": "c76dcb29",
   "metadata": {},
   "outputs": [
    {
     "name": "stdout",
     "output_type": "stream",
     "text": [
      "0.9332\n"
     ]
    },
    {
     "data": {
      "text/plain": [
       "0.9331927987311419"
      ]
     },
     "execution_count": 45,
     "metadata": {},
     "output_type": "execute_result"
    }
   ],
   "source": [
    "mu = 0\n",
    "sigma = 0.6\n",
    "\n",
    "a = 0.9\n",
    "\n",
    "res = stats.norm.cdf(a, loc = mu, scale = sigma)\n",
    "print(\"{:.4f}\".format(res))\n",
    "res"
   ]
  },
  {
   "cell_type": "markdown",
   "id": "8eaf9d52",
   "metadata": {},
   "source": [
    "## Pregunta 18: La variable aleatoria X es normal de tipo N(4,1). Calcula la probabilidad P(X>3)."
   ]
  },
  {
   "cell_type": "code",
   "execution_count": 46,
   "id": "8ad52308",
   "metadata": {},
   "outputs": [
    {
     "name": "stdout",
     "output_type": "stream",
     "text": [
      "0.8413\n"
     ]
    },
    {
     "data": {
      "text/plain": [
       "0.8413447460685429"
      ]
     },
     "execution_count": 46,
     "metadata": {},
     "output_type": "execute_result"
    }
   ],
   "source": [
    "mu = 4\n",
    "sigma = 1\n",
    "\n",
    "a = 3\n",
    "\n",
    "resul = stats.norm.sf(a, loc = mu, scale = sigma)\n",
    "print(\"{:.4f}\".format(resul))\n",
    "resul\n"
   ]
  },
  {
   "cell_type": "markdown",
   "id": "d6f844ad",
   "metadata": {},
   "source": [
    "## Pregunta 19: La variable aleatoria X es normal de tipo N(1,0.5). Calcula el valor x∗ tal que P(X<x∗)=0.4."
   ]
  },
  {
   "cell_type": "code",
   "execution_count": 48,
   "id": "30c3cabf",
   "metadata": {},
   "outputs": [
    {
     "name": "stdout",
     "output_type": "stream",
     "text": [
      "0.8733\n"
     ]
    },
    {
     "data": {
      "text/plain": [
       "0.8733264484321002"
      ]
     },
     "execution_count": 48,
     "metadata": {},
     "output_type": "execute_result"
    }
   ],
   "source": [
    "# En continuas, menor o igual es exactamente igual que menor. Por eso en el cuestionario ha dado bien. EN discretas no se cumple\n",
    "mu = 1\n",
    "sigma = 0.5\n",
    "\n",
    "#x = ?\n",
    "p = 0.4\n",
    "print(\"{:.4f}\".format(stats.norm.ppf(p, loc = mu, scale = sigma)))\n",
    "\n",
    "stats.norm.ppf(p, loc = mu, scale = sigma)\n"
   ]
  },
  {
   "cell_type": "markdown",
   "id": "0e1cfeb3",
   "metadata": {},
   "source": [
    "## Pregunta 20: La variable aleatoria X es normal de tipo N(1,0.3). Calcula el valor x∗ tal que P(X>x∗)=0.7."
   ]
  },
  {
   "cell_type": "code",
   "execution_count": 49,
   "id": "5ee5bd76",
   "metadata": {},
   "outputs": [
    {
     "name": "stdout",
     "output_type": "stream",
     "text": [
      "0.8427\n"
     ]
    },
    {
     "data": {
      "text/plain": [
       "0.8426798461875878"
      ]
     },
     "execution_count": 49,
     "metadata": {},
     "output_type": "execute_result"
    }
   ],
   "source": [
    "mu = 1\n",
    "sigma = 0.3\n",
    "\n",
    "#x = ?\n",
    "p = 0.7\n",
    "\n",
    "print(\"{:.4f}\".format(stats.norm.isf(p, loc = mu, scale = sigma)))\n",
    "# isf inversa de sf ( que es la que se usa para > )\n",
    "stats.norm.isf(p, loc = mu, scale = sigma)"
   ]
  }
 ],
 "metadata": {
  "kernelspec": {
   "display_name": "Python 3 (ipykernel)",
   "language": "python",
   "name": "python3"
  },
  "language_info": {
   "codemirror_mode": {
    "name": "ipython",
    "version": 3
   },
   "file_extension": ".py",
   "mimetype": "text/x-python",
   "name": "python",
   "nbconvert_exporter": "python",
   "pygments_lexer": "ipython3",
   "version": "3.10.4"
  }
 },
 "nbformat": 4,
 "nbformat_minor": 5
}
