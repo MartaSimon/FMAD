{
 "cells": [
  {
   "cell_type": "markdown",
   "id": "dae0ff8f",
   "metadata": {},
   "source": [
    "<img src='./fig/vertical_COMILLAS_COLOR.jpg' style= 'width:70mm'>\n",
    "<h1 style='font-family: Optima;color:#ecac00'>\n",
    "Máster en Big Data. Tecnología y Analítica Avanzada (MBD).\n",
    "<a class=\"tocSkip\">\n",
    "</h1>\n",
    "\n",
    "<h1 style='font-family: Optima;color:#ecac00'>\n",
    "Fundamentos Matemáticos del Análisis de Datos (FMAD). 2022-2023.\n",
    "<a class=\"tocSkip\">\n",
    "</h1>\n",
    "\n",
    "<h1 style='font-family: Optima;color:#ecac00'>\n",
    "Resúmenes examen Unidad 3\n",
    "<a class=\"tocSkip\">    \n",
    "</h1> "
   ]
  },
  {
   "cell_type": "markdown",
   "id": "048ae913",
   "metadata": {},
   "source": [
    "# Imports section"
   ]
  },
  {
   "cell_type": "code",
   "execution_count": 19,
   "id": "4edb58a2",
   "metadata": {},
   "outputs": [],
   "source": [
    "import numpy as np\n",
    "import pandas as pd\n",
    "import matplotlib.pyplot as plt\n",
    "import seaborn as sns\n",
    "import scipy as scp"
   ]
  },
  {
   "cell_type": "markdown",
   "id": "49572907",
   "metadata": {},
   "source": [
    "# Populations and samples"
   ]
  },
  {
   "cell_type": "code",
   "execution_count": 20,
   "id": "ff2f2d66",
   "metadata": {},
   "outputs": [
    {
     "name": "stdout",
     "output_type": "stream",
     "text": [
      "Ages    26.039519\n",
      "dtype: float64\n"
     ]
    },
    {
     "data": {
      "text/html": [
       "<div>\n",
       "<style scoped>\n",
       "    .dataframe tbody tr th:only-of-type {\n",
       "        vertical-align: middle;\n",
       "    }\n",
       "\n",
       "    .dataframe tbody tr th {\n",
       "        vertical-align: top;\n",
       "    }\n",
       "\n",
       "    .dataframe thead th {\n",
       "        text-align: right;\n",
       "    }\n",
       "</style>\n",
       "<table border=\"1\" class=\"dataframe\">\n",
       "  <thead>\n",
       "    <tr style=\"text-align: right;\">\n",
       "      <th></th>\n",
       "      <th>Ages</th>\n",
       "    </tr>\n",
       "  </thead>\n",
       "  <tbody>\n",
       "    <tr>\n",
       "      <th>0</th>\n",
       "      <td>62</td>\n",
       "    </tr>\n",
       "    <tr>\n",
       "      <th>1</th>\n",
       "      <td>52</td>\n",
       "    </tr>\n",
       "    <tr>\n",
       "      <th>2</th>\n",
       "      <td>29</td>\n",
       "    </tr>\n",
       "    <tr>\n",
       "      <th>3</th>\n",
       "      <td>7</td>\n",
       "    </tr>\n",
       "    <tr>\n",
       "      <th>4</th>\n",
       "      <td>31</td>\n",
       "    </tr>\n",
       "    <tr>\n",
       "      <th>5</th>\n",
       "      <td>13</td>\n",
       "    </tr>\n",
       "    <tr>\n",
       "      <th>6</th>\n",
       "      <td>31</td>\n",
       "    </tr>\n",
       "    <tr>\n",
       "      <th>7</th>\n",
       "      <td>15</td>\n",
       "    </tr>\n",
       "    <tr>\n",
       "      <th>8</th>\n",
       "      <td>30</td>\n",
       "    </tr>\n",
       "    <tr>\n",
       "      <th>9</th>\n",
       "      <td>17</td>\n",
       "    </tr>\n",
       "  </tbody>\n",
       "</table>\n",
       "</div>"
      ],
      "text/plain": [
       "   Ages\n",
       "0    62\n",
       "1    52\n",
       "2    29\n",
       "3     7\n",
       "4    31\n",
       "5    13\n",
       "6    31\n",
       "7    15\n",
       "8    30\n",
       "9    17"
      ]
     },
     "execution_count": 20,
     "metadata": {},
     "output_type": "execute_result"
    }
   ],
   "source": [
    "# Vamos a crear una poblacion ficticia de 158000 individuos y sus edades, \n",
    "# para ver cómo podemos coger la muestra de forma que todos los individuos\n",
    "# estén representados\n",
    "sns.set(rc={'figure.figsize':(12, 8.5)})\n",
    "\n",
    "rng = np.random.default_rng(2022) # seed for reproducibility\n",
    "\n",
    "N = 158000\n",
    "Ages = np.rint(2 * rng.chisquare(df = 13, size = N)).astype(int)\n",
    "Population = pd.DataFrame({'Ages':Ages})\n",
    "\n",
    "print(Population.mean())\n",
    "Population.head(10)"
   ]
  },
  {
   "cell_type": "code",
   "execution_count": 21,
   "id": "f0dcbd6c",
   "metadata": {},
   "outputs": [
    {
     "name": "stdout",
     "output_type": "stream",
     "text": [
      "Media de la muestra:  Ages    22.85\n",
      "dtype: float64\n"
     ]
    },
    {
     "data": {
      "text/html": [
       "<div>\n",
       "<style scoped>\n",
       "    .dataframe tbody tr th:only-of-type {\n",
       "        vertical-align: middle;\n",
       "    }\n",
       "\n",
       "    .dataframe tbody tr th {\n",
       "        vertical-align: top;\n",
       "    }\n",
       "\n",
       "    .dataframe thead th {\n",
       "        text-align: right;\n",
       "    }\n",
       "</style>\n",
       "<table border=\"1\" class=\"dataframe\">\n",
       "  <thead>\n",
       "    <tr style=\"text-align: right;\">\n",
       "      <th></th>\n",
       "      <th>Ages</th>\n",
       "    </tr>\n",
       "  </thead>\n",
       "  <tbody>\n",
       "    <tr>\n",
       "      <th>80593</th>\n",
       "      <td>39</td>\n",
       "    </tr>\n",
       "    <tr>\n",
       "      <th>57578</th>\n",
       "      <td>11</td>\n",
       "    </tr>\n",
       "    <tr>\n",
       "      <th>156092</th>\n",
       "      <td>20</td>\n",
       "    </tr>\n",
       "    <tr>\n",
       "      <th>21128</th>\n",
       "      <td>15</td>\n",
       "    </tr>\n",
       "    <tr>\n",
       "      <th>26929</th>\n",
       "      <td>28</td>\n",
       "    </tr>\n",
       "    <tr>\n",
       "      <th>84488</th>\n",
       "      <td>22</td>\n",
       "    </tr>\n",
       "    <tr>\n",
       "      <th>91393</th>\n",
       "      <td>30</td>\n",
       "    </tr>\n",
       "    <tr>\n",
       "      <th>3947</th>\n",
       "      <td>26</td>\n",
       "    </tr>\n",
       "    <tr>\n",
       "      <th>67380</th>\n",
       "      <td>15</td>\n",
       "    </tr>\n",
       "    <tr>\n",
       "      <th>124494</th>\n",
       "      <td>24</td>\n",
       "    </tr>\n",
       "    <tr>\n",
       "      <th>74708</th>\n",
       "      <td>32</td>\n",
       "    </tr>\n",
       "    <tr>\n",
       "      <th>82651</th>\n",
       "      <td>18</td>\n",
       "    </tr>\n",
       "    <tr>\n",
       "      <th>25145</th>\n",
       "      <td>22</td>\n",
       "    </tr>\n",
       "    <tr>\n",
       "      <th>154560</th>\n",
       "      <td>18</td>\n",
       "    </tr>\n",
       "    <tr>\n",
       "      <th>121370</th>\n",
       "      <td>19</td>\n",
       "    </tr>\n",
       "    <tr>\n",
       "      <th>30833</th>\n",
       "      <td>16</td>\n",
       "    </tr>\n",
       "    <tr>\n",
       "      <th>147017</th>\n",
       "      <td>24</td>\n",
       "    </tr>\n",
       "    <tr>\n",
       "      <th>3956</th>\n",
       "      <td>21</td>\n",
       "    </tr>\n",
       "    <tr>\n",
       "      <th>113076</th>\n",
       "      <td>26</td>\n",
       "    </tr>\n",
       "    <tr>\n",
       "      <th>52295</th>\n",
       "      <td>31</td>\n",
       "    </tr>\n",
       "  </tbody>\n",
       "</table>\n",
       "</div>"
      ],
      "text/plain": [
       "        Ages\n",
       "80593     39\n",
       "57578     11\n",
       "156092    20\n",
       "21128     15\n",
       "26929     28\n",
       "84488     22\n",
       "91393     30\n",
       "3947      26\n",
       "67380     15\n",
       "124494    24\n",
       "74708     32\n",
       "82651     18\n",
       "25145     22\n",
       "154560    18\n",
       "121370    19\n",
       "30833     16\n",
       "147017    24\n",
       "3956      21\n",
       "113076    26\n",
       "52295     31"
      ]
     },
     "execution_count": 21,
     "metadata": {},
     "output_type": "execute_result"
    }
   ],
   "source": [
    "# Ahora cogemos una muestra para ver si más o menos la distribución se mantiene\n",
    "n = 20 # tamaño de la muestra\n",
    "\n",
    "sample = Population.sample(n)\n",
    "\n",
    "print(\"Media de la muestra: \", sample.mean())\n",
    "\n",
    "sample # The index reflects the row lines in the original data set"
   ]
  },
  {
   "cell_type": "code",
   "execution_count": 22,
   "id": "eee94619",
   "metadata": {},
   "outputs": [
    {
     "data": {
      "text/html": [
       "<div>\n",
       "<style scoped>\n",
       "    .dataframe tbody tr th:only-of-type {\n",
       "        vertical-align: middle;\n",
       "    }\n",
       "\n",
       "    .dataframe tbody tr th {\n",
       "        vertical-align: top;\n",
       "    }\n",
       "\n",
       "    .dataframe thead th {\n",
       "        text-align: right;\n",
       "    }\n",
       "</style>\n",
       "<table border=\"1\" class=\"dataframe\">\n",
       "  <thead>\n",
       "    <tr style=\"text-align: right;\">\n",
       "      <th></th>\n",
       "      <th>Ages</th>\n",
       "    </tr>\n",
       "  </thead>\n",
       "  <tbody>\n",
       "    <tr>\n",
       "      <th>0</th>\n",
       "      <td>25.706667</td>\n",
       "    </tr>\n",
       "    <tr>\n",
       "      <th>1</th>\n",
       "      <td>27.053333</td>\n",
       "    </tr>\n",
       "    <tr>\n",
       "      <th>2</th>\n",
       "      <td>26.320000</td>\n",
       "    </tr>\n",
       "    <tr>\n",
       "      <th>3</th>\n",
       "      <td>25.666667</td>\n",
       "    </tr>\n",
       "    <tr>\n",
       "      <th>4</th>\n",
       "      <td>26.433333</td>\n",
       "    </tr>\n",
       "    <tr>\n",
       "      <th>...</th>\n",
       "      <td>...</td>\n",
       "    </tr>\n",
       "    <tr>\n",
       "      <th>9995</th>\n",
       "      <td>25.193333</td>\n",
       "    </tr>\n",
       "    <tr>\n",
       "      <th>9996</th>\n",
       "      <td>25.793333</td>\n",
       "    </tr>\n",
       "    <tr>\n",
       "      <th>9997</th>\n",
       "      <td>26.240000</td>\n",
       "    </tr>\n",
       "    <tr>\n",
       "      <th>9998</th>\n",
       "      <td>25.940000</td>\n",
       "    </tr>\n",
       "    <tr>\n",
       "      <th>9999</th>\n",
       "      <td>25.840000</td>\n",
       "    </tr>\n",
       "  </tbody>\n",
       "</table>\n",
       "<p>10000 rows × 1 columns</p>\n",
       "</div>"
      ],
      "text/plain": [
       "           Ages\n",
       "0     25.706667\n",
       "1     27.053333\n",
       "2     26.320000\n",
       "3     25.666667\n",
       "4     26.433333\n",
       "...         ...\n",
       "9995  25.193333\n",
       "9996  25.793333\n",
       "9997  26.240000\n",
       "9998  25.940000\n",
       "9999  25.840000\n",
       "\n",
       "[10000 rows x 1 columns]"
      ]
     },
     "execution_count": 22,
     "metadata": {},
     "output_type": "execute_result"
    }
   ],
   "source": [
    "# Cogemos varias muestras del mismo tamaño y calculamos la media de cada una de las muestras\n",
    "n = 150 # Tamaño de las muestras\n",
    "\n",
    "n_samples = 10000 # numero de muestras que tomaremos (todas de tamaño 20)\n",
    "\n",
    "# Cogemos muestras aleatorias y calculamos sus medias.\n",
    "sample_means = pd.DataFrame([Population.sample(n, replace=True).mean() for item in range(n_samples)], \n",
    "                            columns=['Ages'])\n",
    "\n",
    "# El df que obtenemos es:\n",
    "sample_means"
   ]
  },
  {
   "cell_type": "markdown",
   "id": "a418478e",
   "metadata": {},
   "source": [
    "## Método de Laplace"
   ]
  },
  {
   "cell_type": "code",
   "execution_count": 44,
   "id": "f1a8e8c7",
   "metadata": {},
   "outputs": [
    {
     "name": "stdout",
     "output_type": "stream",
     "text": [
      "[0.24742606 0.09299006 0.61176337 0.06066207 0.66103343 0.75515778\n",
      " 0.1108689  0.04305584 0.41441747 0.98862926 0.96919869 0.25697153\n",
      " 0.55876211 0.24234798 0.32202029 0.89135975 0.94611366 0.72253931\n",
      " 0.92847437 0.99608701]\n",
      "------------------------------ \n",
      "\n",
      "[False False  True False  True False False False  True False False False\n",
      "  True False False False False False False False]\n",
      "------------------------------ \n",
      "\n",
      "The relative frequency (or proportion) of x between 1/3 and 2/3 is  0.33375\n"
     ]
    }
   ],
   "source": [
    "# Se trata de hacer un conteo de las veces que se cumple nuestro suceso\n",
    "# esto nos dará un array booleano (true = se cumple).\n",
    "# Haciendo la media de nuetro array, podemos sacar la probabilidad.\n",
    "# EJ: Prob 1/3≤ x ≤2/3\n",
    "\n",
    "# Semilla para el random\n",
    "rng = np.random.default_rng(2022) \n",
    "\n",
    "# Generamos el array de sucesos\n",
    "N = 100000\n",
    "\n",
    "x = rng.random(size = N)\n",
    "print(x[0:20])\n",
    "print(\"-\" * 30, \"\\n\")\n",
    "\n",
    "# Comprobamos nuestro suceso, x en [1/3, 2/3]\n",
    "x_in_A = (x >= 1/3) & (x <= 2/3)\n",
    "print(x_in_A[0:20]) # Array booleano\n",
    "print(\"-\" * 30, \"\\n\")\n",
    "\n",
    "# Para encontrar la frecuencia relativa (prob) hacemos la media del array\n",
    "print(\"The relative frequency (or proportion) of x between 1/3 and 2/3 is \",  x_in_A.mean())"
   ]
  },
  {
   "cell_type": "markdown",
   "id": "e8380496",
   "metadata": {},
   "source": [
    "## Teorema de bayes"
   ]
  },
  {
   "cell_type": "code",
   "execution_count": 48,
   "id": "1e65c736",
   "metadata": {},
   "outputs": [
    {
     "name": "stdout",
     "output_type": "stream",
     "text": [
      "The probability that the report corresponds to a procedure conducted in OR_1 is : 0.8333333333333333\n"
     ]
    }
   ],
   "source": [
    "#Fórmula escrita en python:\n",
    "# Probability of incident for each OR\n",
    "prob_ors = [0.2,0.04]\n",
    "# OR of which we want to know the probability\n",
    "or_to_check = 1\n",
    "\n",
    "def calculate_prob_or_inc(num_or):\n",
    "    p_or = 1/len(prob_ors)\n",
    "    p_inc = sum(np.multiply(p_or,prob_ors))\n",
    "    p_inc_or = prob_ors[num_or-1] \n",
    "    prob_or_inc = (p_inc_or*p_or)/p_inc\n",
    "    return prob_or_inc\n",
    "\n",
    "p = calculate_prob_or_inc(or_to_check)\n",
    "print(f\"The probability that the report corresponds to a procedure conducted in OR_{or_to_check} is : {p}\")"
   ]
  },
  {
   "cell_type": "markdown",
   "id": "e6efe8ec",
   "metadata": {},
   "source": [
    "# Gráficos\n"
   ]
  },
  {
   "cell_type": "code",
   "execution_count": 18,
   "id": "b1200110",
   "metadata": {},
   "outputs": [
    {
     "data": {
      "image/png": "[encoded data removed]",
      "text/plain": [
       "<Figure size 1200x850 with 1 Axes>"
      ]
     },
     "metadata": {},
     "output_type": "display_data"
    }
   ],
   "source": [
    "# Pintamos una poblacion ficticia y sus edades.\n",
    "sns.histplot(data = Population, x = 'Ages', bins=15, color = \"orange\")\n",
    "# Para pintar la media de la población.\n",
    "getPlot = plt.axvline(x = Population.Ages.mean(), linewidth = 3, linestyle='--')"
   ]
  },
  {
   "cell_type": "code",
   "execution_count": 23,
   "id": "cf96f2a9",
   "metadata": {},
   "outputs": [
    {
     "data": {
      "image/png": "[encoded data removed]",
      "text/plain": [
       "<Figure size 800x800 with 1 Axes>"
      ]
     },
     "metadata": {},
     "output_type": "display_data"
    }
   ],
   "source": [
    "# Pintamos la distribución de las medias de las N muestras aleatorias \n",
    "sns.set(rc={'figure.figsize':(8, 8)})\n",
    "sample_means.plot.density()# Curva azul, imprimimos la muestra que hemos tomado, al tomarla de la forma que hemos hecho arriba, está cerca de la media.\n",
    "Population.Ages.plot.density()# Curva naranja, imprimimos la poblacion completa\n",
    "plt.axvline(x = Population.Ages.mean(), linewidth = 2, linestyle='--')\n",
    "getPlot = plt.xlim((0, 100))\n",
    "# Con las medias muestrales, siempre aparece la curva normal."
   ]
  },
  {
   "cell_type": "markdown",
   "id": "28af55ac",
   "metadata": {},
   "source": [
    "# Ejercicios\n",
    "\n",
    "### Generar una poblacion y pintar la curva de la poblacion y la de las medias"
   ]
  },
  {
   "cell_type": "code",
   "execution_count": 32,
   "id": "e4194261",
   "metadata": {},
   "outputs": [
    {
     "name": "stdout",
     "output_type": "stream",
     "text": [
      "           x\n",
      "0  -1.763000\n",
      "1  -1.342294\n",
      "2  -1.126859\n",
      "3  -1.544897\n",
      "4  -1.396201\n",
      "..       ...\n",
      "95 -1.068952\n",
      "96 -1.217071\n",
      "97 -1.721149\n",
      "98 -1.399646\n",
      "99 -2.126706\n",
      "\n",
      "[100 rows x 1 columns]\n"
     ]
    },
    {
     "data": {
      "image/png": "[encoded data removed]",
      "text/plain": [
       "<Figure size 800x800 with 1 Axes>"
      ]
     },
     "metadata": {},
     "output_type": "display_data"
    },
    {
     "data": {
      "image/png": "[encoded data removed]",
      "text/plain": [
       "<Figure size 800x800 with 1 Axes>"
      ]
     },
     "metadata": {},
     "output_type": "display_data"
    }
   ],
   "source": [
    "# Generar una poblacion y pintar la curva de la poblacion y la de las medias\n",
    "# Exercise S03-001\n",
    "\n",
    "sns.set(rc={'figure.figsize':(8, 8)})\n",
    "\n",
    "# Create the population\n",
    "rng = np.random.default_rng(2022) # seed for reproducibility\n",
    "N = 100000\n",
    "x = np.concatenate((1.5 * rng.normal(loc = -2, size = N), rng.normal(loc = 0.5, size = N)))\n",
    "Population2 = pd.DataFrame({'x':x})\n",
    "\n",
    "# Curva de densidad de la poblacion\n",
    "#plot0 = plt.figure(0)\n",
    "plot0 = Population2.plot.density(color='Orange')\n",
    "\n",
    "# Ahora cogemos muestras con remplazamiento\n",
    "n = 20 #Tamaño de la muestra\n",
    "n_samples = 100 # numero de muestras\n",
    "\n",
    "sample_means = pd.DataFrame([Population2.sample(n, replace=True).mean() for _ in range(n_samples)],\n",
    "                           columns=[\"x\"])\n",
    "\n",
    "# Ahora pintamos las medias de las muestras, sobre la poblacion inicial y su media\n",
    "#plot1 = plt.figure(1)\n",
    "sample_means.plot.density()# Curva azul, imprimimos la muestra que hemos tomado, al tomarla de la forma que hemos hecho arriba, está cerca de la media.\n",
    "Population2.x.plot.density()# Curva naranja, imprimimos la poblacion completa\n",
    "plt.axvline(x = Population2.x.mean(), linewidth = 2, linestyle='--')\n",
    "getPlot = plt.xlim((-15, 10))"
   ]
  },
  {
   "cell_type": "markdown",
   "id": "037dd1df",
   "metadata": {},
   "source": [
    "### The problems of the Chevalier de Méré"
   ]
  },
  {
   "cell_type": "code",
   "execution_count": 36,
   "id": "ebbf5681",
   "metadata": {},
   "outputs": [
    {
     "name": "stdout",
     "output_type": "stream",
     "text": [
      "Primeros juegos: \n",
      "[[5 2 5 1]\n",
      " [2 4 6 1]\n",
      " [1 4 6 5]\n",
      " [5 1 4 1]\n",
      " [1 3 6 6]\n",
      " [3 6 1 2]\n",
      " [4 4 3 2]\n",
      " [1 2 2 6]\n",
      " [3 6 6 5]\n",
      " [1 6 5 6]]\n",
      "------------------------------ \n",
      "\n",
      "Comprobacion de 6: \n",
      "[[False False False False]\n",
      " [False False  True False]\n",
      " [False False  True False]\n",
      " [False False False False]\n",
      " [False False  True  True]\n",
      " [False  True False False]\n",
      " [False False False False]\n",
      " [False False False  True]\n",
      " [False  True  True False]\n",
      " [False  True False  True]]\n",
      "------------------------------ \n",
      "\n",
      "Conteo de 6 por fila: \n",
      "[0 1 1 0 2 1 0 1 2 2]\n",
      "------------------------------ \n",
      "\n",
      "Recuento de veces ganadas: \n",
      "[False  True  True False  True  True False  True  True  True]\n",
      "------------------------------ \n",
      "\n",
      "51559\n",
      "The relative frequency of winning the first game is  0.51559\n",
      "while 2 / 3 =  0.6666  approx.\n"
     ]
    }
   ],
   "source": [
    "# Exercise S03-002a -- To get at least one six in four rolls of a single dice\n",
    "\n",
    "# Semilla del random \n",
    "rng = np.random.default_rng(2022) \n",
    "\n",
    "# Numero de tiradas\n",
    "N = 100000\n",
    "\n",
    "# Generamos un array de numpy para cada una de las tiradas (N) con 4 cols.\n",
    "# Cada fila representa un \"juego\", cada columna una tirada en el juego.\n",
    "game1 = rng.integers(low = 1, high = 7, size = (N, 4))\n",
    "\n",
    "\n",
    "# These are the first few games\n",
    "print(\"Primeros juegos: \")\n",
    "print(game1[0:10, :])\n",
    "print(\"-\" * 30, \"\\n\")\n",
    "\n",
    "# Comprobamos cada tirada para ver si hemos obtenido algun 6\n",
    "game1_is_6 = (game1 == 6)\n",
    "# The first part of the output of this step is\n",
    "print(\"Comprobacion de 6: \")\n",
    "print(game1_is_6[0:10, :])\n",
    "print(\"-\" * 30, \"\\n\")\n",
    "\n",
    "# Contamos el numero de apariciones del 6 en cada uno de los juegos (filas)\n",
    "game1_number_of_6 = game1_is_6.sum(axis=1)\n",
    "# Compare with the previous step to check that the count is ok\n",
    "print(\"Conteo de 6 por fila: \")\n",
    "print(game1_number_of_6[0:10])\n",
    "print(\"-\" * 30, \"\\n\")\n",
    "\n",
    "# Ahora se puede hacer un recuento de cuántas veces se ha ganado el juego \n",
    "game1_win = game1_number_of_6 > 0 \n",
    "print(\"Recuento de veces ganadas: \")\n",
    "print(game1_win[0:10])\n",
    "print(\"-\" * 30, \"\\n\")\n",
    "\n",
    "# We can finally get the relative frequencies of win and lose at this game\n",
    "table = np.array(np.unique(game1_win, return_counts=True)) # para tener partidas ganafdas y perdidas, si hacemos un sum del array game1_win obtendremos el mismo resultado, ya que es el valor que nos interesa\n",
    "relfreqLose = table[1, 0] / N\n",
    "relfreqWin = table[1, 1] / N\n",
    "print(\"The relative frequency of winning the first game is \", relfreqWin)\n",
    "print(\"while 2 / 3 = \", 0.6666, \" approx.\")"
   ]
  },
  {
   "cell_type": "code",
   "execution_count": 39,
   "id": "ad7bf351",
   "metadata": {},
   "outputs": [
    {
     "name": "stdout",
     "output_type": "stream",
     "text": [
      "Resultado de los primeros juegos\n",
      "[[26  9 27  4  7 23 34  3  3 24 32 28 30  4 21  2  4 15 32 36 14 35  1 10]\n",
      " [23 21 14  9  4 12 12 33 13 35 33 27  2 34 26 36  1  9 23  3 17 35 24 24]\n",
      " [26 12  4  4  2  8 32  4 22  2 35  8  5  3 32 13 20  5  1 22 33  1 31 11]\n",
      " [ 6  7  9  6  5 36  6 11 17 17  5 11 16 35  8 22 11 18 16 26 24 16 24  1]\n",
      " [30 26 20 24  9  4  1 10 13 21 28 26 23 22 36  4  1 25 31 26 32 24 35 17]\n",
      " [33  2 33 19 29 18  5 18 17 33 28 19  4 20 10 18 31  4 34 17  7  6 22  1]\n",
      " [31 11  9 21  8 32 12  8 28 19 16 19 34  2 22 33 15 24 25 33  8  5 35 36]\n",
      " [ 8 20 26 24 18 14 15 27  9 24 16 31 19  4 31 23 30 30 35 26 14 32  1 27]\n",
      " [10 20 18 15  1 28 28 33 25  9 21 27 22 21 28 24 21 28 34 13 28 31 30 24]\n",
      " [35  2 24 22 11 22  9  3  4  3  3 17 19 19 17  2 22 33 19 36 19 29 16 13]]\n",
      "------------------------------ \n",
      "\n",
      "¿Hay doble 6 (36)?\n",
      "[[False False False False False False False False False False False False\n",
      "  False False False False False False False  True False False False False]\n",
      " [False False False False False False False False False False False False\n",
      "  False False False  True False False False False False False False False]\n",
      " [False False False False False False False False False False False False\n",
      "  False False False False False False False False False False False False]\n",
      " [False False False False False  True False False False False False False\n",
      "  False False False False False False False False False False False False]\n",
      " [False False False False False False False False False False False False\n",
      "  False False  True False False False False False False False False False]\n",
      " [False False False False False False False False False False False False\n",
      "  False False False False False False False False False False False False]\n",
      " [False False False False False False False False False False False False\n",
      "  False False False False False False False False False False False  True]\n",
      " [False False False False False False False False False False False False\n",
      "  False False False False False False False False False False False False]\n",
      " [False False False False False False False False False False False False\n",
      "  False False False False False False False False False False False False]\n",
      " [False False False False False False False False False False False False\n",
      "  False False False False False False False  True False False False False]]\n",
      "------------------------------ \n",
      "\n",
      "Conteo de doble 6 por fila\n",
      "[1 1 0 1 1 0 1 0 0 1]\n",
      "------------------------------ \n",
      "\n",
      "Recuento de veces ganadas (1 o más dobles 6)\n",
      "[ True  True False  True  True False  True False False  True]\n",
      "------------------------------ \n",
      "\n",
      "The relative frequency of winning the second game is  0.49081\n",
      "while 2 / 3 =  0.6666  approx.\n"
     ]
    }
   ],
   "source": [
    "# to get at least a double six in 24 rolls of two dice\n",
    "# Exercise S03-002b\n",
    "\n",
    "# Semilla del random \n",
    "rng = np.random.default_rng(2022) \n",
    "\n",
    "# NUmero de juegos para la simulacion\n",
    "N = 100000\n",
    "\n",
    "# We generate the 24 * N games as a NumPy array of N rows and 24 columns.\n",
    "# Each row represents a game, each column the roll of two dice.\n",
    "# Rolling two dice results are coded from 1 to 36, with 36 is a double 6.\n",
    "game2 = rng.integers(low = 1, high = 37, size = (N, 24))\n",
    "\n",
    "# These are the first few games\n",
    "print(\"Resultado de los primeros juegos\")\n",
    "print(game2[0:10, :])\n",
    "print(\"-\" * 30, \"\\n\")\n",
    "\n",
    "# Next we check every dice roll to see if we got a six\n",
    "game2_is_36 = (game2 == 36)\n",
    "# The first part of the output of this step is\n",
    "print(\"¿Hay doble 6 (36)?\")\n",
    "print(game2_is_36[0:10, :])\n",
    "print(\"-\" * 30, \"\\n\")\n",
    "\n",
    "# Now we count the number of appearances of six in each row/game\n",
    "game2_number_of_36 = game2_is_36.sum(axis=1)\n",
    "# Compare with the previous step to check that the count is ok\n",
    "print(\"Conteo de doble 6 por fila\")\n",
    "print(game2_number_of_36[0:10])\n",
    "print(\"-\" * 30, \"\\n\")\n",
    "\n",
    "# And now we can see if the game is win or lose (0 appearances of 6) \n",
    "game2_win = game2_number_of_36 > 0 \n",
    "print(\"Recuento de veces ganadas (1 o más dobles 6)\")\n",
    "print(game2_win[0:10])\n",
    "print(\"-\" * 30, \"\\n\")\n",
    "\n",
    "# We can finally get the relative frequencies of win and lose at this game\n",
    "table = np.array(np.unique(game2_win, return_counts=True))\n",
    "relfreqLose = table[1, 0] / N\n",
    "relfreqWin = table[1, 1] / N\n",
    "print(\"The relative frequency of winning the second game is \", relfreqWin)\n",
    "print(\"while 2 / 3 = \", 0.6666, \" approx.\")"
   ]
  },
  {
   "cell_type": "markdown",
   "id": "e6b7f80c",
   "metadata": {},
   "source": [
    "### Birthday paradox"
   ]
  },
  {
   "cell_type": "code",
   "execution_count": 43,
   "id": "35ca513c",
   "metadata": {},
   "outputs": [
    {
     "name": "stdout",
     "output_type": "stream",
     "text": [
      "With  150  people in the room the relative frequency of two or more birthdays coincidence is:  1.0\n"
     ]
    }
   ],
   "source": [
    "\n",
    "# Semilla para random\n",
    "rng = np.random.default_rng(2022) \n",
    "\n",
    "# number of people in the room\n",
    "n = 150\n",
    "\n",
    "# We will repeat the experiment a large number of times \n",
    "# Think of N different rooms, each with n people in i\n",
    "N = 10\n",
    "\n",
    "max_coincidence = np.array([], dtype = np.int64)\n",
    "for i in range(N):\n",
    "    room = rng.integers(low = 1, high = 367, size = n)\n",
    "    day, brthd_count = np.unique(room, return_counts=True) # Hacemos una tabla de frecuencias de los días y sus apariciones, para ver si alguna es mayor que 1 (lo que significaría que se repite el cumpleaños)\n",
    "    max_coincidence = np.append(max_coincidence, brthd_count.max()) # Nos guardamos el máximo de la tabla de frecuencias\n",
    "    coincide_2 = max_coincidence > 1 # si el maximo es mayor que 1, significa que hay al menos un cumple que se repite\n",
    "    \n",
    "    \n",
    "\n",
    "print(\"With \", n, \" people in the room the relative frequency of two or more birthdays \\\n",
    "coincidence is: \", coincide_2.mean())"
   ]
  },
  {
   "cell_type": "markdown",
   "id": "12511c16",
   "metadata": {},
   "source": [
    "### Prob de pin de 4 digitos con  nums repetidos"
   ]
  },
  {
   "cell_type": "code",
   "execution_count": 45,
   "id": "e22e1242",
   "metadata": {},
   "outputs": [
    {
     "name": "stdout",
     "output_type": "stream",
     "text": [
      "0.496\n",
      "---------- \n",
      "\n",
      "These are the first few pins:\n",
      "[[0 0 0 0]\n",
      " [0 0 0 1]\n",
      " [0 0 0 2]\n",
      " [0 0 0 3]]\n",
      "and these are the last ones:\n",
      "[[9 9 9 6]\n",
      " [9 9 9 7]\n",
      " [9 9 9 8]\n",
      " [9 9 9 9]]\n",
      "---------- \n",
      "\n",
      "We look for the greatest frequency in each pin\n",
      "\n",
      "[[0 5 5 0]\n",
      " [0 5 5 1]\n",
      " [0 5 5 2]\n",
      " [0 5 5 3]\n",
      " [0 5 5 4]\n",
      " [0 5 5 5]\n",
      " [0 5 5 6]\n",
      " [0 5 5 7]\n",
      " [0 5 5 8]\n",
      " [0 5 5 9]\n",
      " [0 5 6 0]\n",
      " [0 5 6 1]\n",
      " [0 5 6 2]\n",
      " [0 5 6 3]\n",
      " [0 5 6 4]\n",
      " [0 5 6 5]\n",
      " [0 5 6 6]\n",
      " [0 5 6 7]\n",
      " [0 5 6 8]\n",
      " [0 5 6 9]]\n",
      "\n",
      "\n",
      "[2, 2, 2, 2, 2, 3, 2, 2, 2, 2, 2, 1, 1, 1, 1, 2, 2, 1, 1, 1]\n",
      "---------- \n",
      "\n",
      "If this is bigger than one, there are repeated digits\n",
      "\n",
      "[True, True, True, True, True, True, True, True, True, True, True, False, False, False, False, True, True, False, False, False]\n",
      "---------- \n",
      "\n",
      "Finally, the probability is\n"
     ]
    },
    {
     "data": {
      "text/plain": [
       "0.496"
      ]
     },
     "execution_count": 45,
     "metadata": {},
     "output_type": "execute_result"
    }
   ],
   "source": [
    "# Solucion del profesor\n",
    "# 1 - P(no repeats) = 1 - (10 · 9 · 8 · 7) / 10000)\n",
    "\n",
    "\n",
    "theoretical_prob = 1 - (10 * 9 * 8 * 7) / 10000\n",
    "print(theoretical_prob)\n",
    "print(\"--\"*5, \"\\n\")\n",
    "\n",
    "# Now we use Python to *enumerate* the elementary events (pins) with repeated digits.\n",
    "pins = np.array([[a, b, c, d] for a in range(0, 10) \\\n",
    "        for b in range(0, 10) \\\n",
    "        for c in range(0, 10) \\\n",
    "        for d in range(0, 10)])\n",
    "\n",
    "print(\"These are the first few pins:\")\n",
    "print(pins[0:4])\n",
    "print(\"and these are the last ones:\")\n",
    "print(pins[-4:])\n",
    "print(\"--\"*5, \"\\n\")\n",
    "\n",
    "print(\"We look for the greatest frequency in each pin\\n\")\n",
    "digits_max_freq = [np.unique(pin, return_counts=True)[1].max() for pin in pins]\n",
    "print(pins[550:570])\n",
    "print(\"\\n\")\n",
    "print(digits_max_freq[550:570])\n",
    "print(\"--\"*5, \"\\n\")\n",
    "\n",
    "print(\"If this is bigger than one, there are repeated digits\\n\")\n",
    "pin_has_repeats = [rpt > 1 for rpt in digits_max_freq]\n",
    "print(pin_has_repeats[550:570])\n",
    "print(\"--\"*5, \"\\n\")\n",
    "\n",
    "print(\"Finally, the probability is\")\n",
    "np.mean(pin_has_repeats)"
   ]
  },
  {
   "cell_type": "code",
   "execution_count": 46,
   "id": "7d6e35eb",
   "metadata": {},
   "outputs": [
    {
     "name": "stdout",
     "output_type": "stream",
     "text": [
      "The probability that a pin has one or more repeated digits is 0.54.\n"
     ]
    }
   ],
   "source": [
    "# Mi solución\n",
    "# Number of times the experiment is repeated\n",
    "M = 100\n",
    "# We generate a dataframe with 4 columns, corresponding to each pin number, and M rows, corresponding to each experiment.\n",
    "df = pd.DataFrame(np.random.default_rng(1234).integers(low = 1, high = 9, size = (M,4)))\n",
    "\n",
    "# We count the number of times a number is repeated in each experiment.\n",
    "df2 = df.apply(pd.Series.duplicated, axis=1)\n",
    "df3 = df2.any(axis=1)\n",
    "\n",
    "# By calculating the mean of a Boolean array we can get the probability\n",
    "p = df3.mean()\n",
    "print(f\"The probability that a pin has one or more repeated digits is {p}.\")"
   ]
  }
 ],
 "metadata": {
  "kernelspec": {
   "display_name": "Python 3 (ipykernel)",
   "language": "python",
   "name": "python3"
  },
  "language_info": {
   "codemirror_mode": {
    "name": "ipython",
    "version": 3
   },
   "file_extension": ".py",
   "mimetype": "text/x-python",
   "name": "python",
   "nbconvert_exporter": "python",
   "pygments_lexer": "ipython3",
   "version": "3.10.4"
  }
 },
 "nbformat": 4,
 "nbformat_minor": 5
}
