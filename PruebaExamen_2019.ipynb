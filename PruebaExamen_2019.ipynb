{
 "cells": [
  {
   "cell_type": "markdown",
   "id": "1db747c8",
   "metadata": {},
   "source": [
    "<img src='./fig/vertical_COMILLAS_COLOR.jpg' style= 'width:70mm'>\n",
    "<h1 style='font-family: Optima;color:#ecac00'>\n",
    "Máster en Big Data. Tecnología y Analítica Avanzada (MBD).\n",
    "<a class=\"tocSkip\">\n",
    "</h1>\n",
    "\n",
    "<h1 style='font-family: Optima;color:#ecac00'>\n",
    "Fundamentos Matemáticos del Análisis de Datos (FMAD). 2022-2023.\n",
    "<a class=\"tocSkip\">\n",
    "</h1>\n",
    "\n",
    "<h1 style='font-family: Optima;color:#ecac00'>\n",
    "Prueba Examen Marta Simón\n",
    "<a class=\"tocSkip\">    \n",
    "</h1> "
   ]
  },
  {
   "cell_type": "markdown",
   "id": "45ff9736",
   "metadata": {},
   "source": [
    "## Carga de las librerías estándar de Data Science con Python "
   ]
  },
  {
   "cell_type": "code",
   "execution_count": 1,
   "id": "97086601",
   "metadata": {},
   "outputs": [],
   "source": [
    "import numpy as np\n",
    "import pandas as pd\n",
    "import matplotlib.pyplot as plt\n",
    "import scipy as scp\n",
    "import seaborn as sns\n",
    "import scipy.stats as stats\n",
    "import statsmodels.api as sm\n",
    "\n",
    "sns.set()"
   ]
  },
  {
   "cell_type": "markdown",
   "id": "9e8fde5b",
   "metadata": {},
   "source": [
    "# Preguntas del examen\n",
    "## Apartado 1\n",
    "+ Lee el fichero de datos y crea un data.frame de R llamado frami, que usaremos para el resto del examen.\n"
   ]
  },
  {
   "cell_type": "code",
   "execution_count": 2,
   "id": "11b5820d",
   "metadata": {},
   "outputs": [
    {
     "data": {
      "text/html": [
       "<div>\n",
       "<style scoped>\n",
       "    .dataframe tbody tr th:only-of-type {\n",
       "        vertical-align: middle;\n",
       "    }\n",
       "\n",
       "    .dataframe tbody tr th {\n",
       "        vertical-align: top;\n",
       "    }\n",
       "\n",
       "    .dataframe thead th {\n",
       "        text-align: right;\n",
       "    }\n",
       "</style>\n",
       "<table border=\"1\" class=\"dataframe\">\n",
       "  <thead>\n",
       "    <tr style=\"text-align: right;\">\n",
       "      <th></th>\n",
       "      <th>male</th>\n",
       "      <th>age</th>\n",
       "      <th>education</th>\n",
       "      <th>currentSmoker</th>\n",
       "      <th>cigsPerDay</th>\n",
       "      <th>BPMeds</th>\n",
       "      <th>prevalentStroke</th>\n",
       "      <th>prevalentHyp</th>\n",
       "      <th>diabetes</th>\n",
       "      <th>totChol</th>\n",
       "      <th>sysBP</th>\n",
       "      <th>diaBP</th>\n",
       "      <th>BMI</th>\n",
       "      <th>heartRate</th>\n",
       "      <th>glucose</th>\n",
       "      <th>TenYearCHD</th>\n",
       "    </tr>\n",
       "  </thead>\n",
       "  <tbody>\n",
       "    <tr>\n",
       "      <th>0</th>\n",
       "      <td>1</td>\n",
       "      <td>39</td>\n",
       "      <td>4.0</td>\n",
       "      <td>0</td>\n",
       "      <td>0.0</td>\n",
       "      <td>0.0</td>\n",
       "      <td>0</td>\n",
       "      <td>0</td>\n",
       "      <td>0</td>\n",
       "      <td>195.0</td>\n",
       "      <td>106.0</td>\n",
       "      <td>70.0</td>\n",
       "      <td>26.97</td>\n",
       "      <td>80.0</td>\n",
       "      <td>77.0</td>\n",
       "      <td>0</td>\n",
       "    </tr>\n",
       "    <tr>\n",
       "      <th>1</th>\n",
       "      <td>0</td>\n",
       "      <td>46</td>\n",
       "      <td>2.0</td>\n",
       "      <td>0</td>\n",
       "      <td>0.0</td>\n",
       "      <td>0.0</td>\n",
       "      <td>0</td>\n",
       "      <td>0</td>\n",
       "      <td>0</td>\n",
       "      <td>250.0</td>\n",
       "      <td>121.0</td>\n",
       "      <td>81.0</td>\n",
       "      <td>28.73</td>\n",
       "      <td>95.0</td>\n",
       "      <td>76.0</td>\n",
       "      <td>0</td>\n",
       "    </tr>\n",
       "    <tr>\n",
       "      <th>2</th>\n",
       "      <td>1</td>\n",
       "      <td>48</td>\n",
       "      <td>1.0</td>\n",
       "      <td>1</td>\n",
       "      <td>20.0</td>\n",
       "      <td>0.0</td>\n",
       "      <td>0</td>\n",
       "      <td>0</td>\n",
       "      <td>0</td>\n",
       "      <td>245.0</td>\n",
       "      <td>127.5</td>\n",
       "      <td>80.0</td>\n",
       "      <td>25.34</td>\n",
       "      <td>75.0</td>\n",
       "      <td>70.0</td>\n",
       "      <td>0</td>\n",
       "    </tr>\n",
       "    <tr>\n",
       "      <th>3</th>\n",
       "      <td>0</td>\n",
       "      <td>61</td>\n",
       "      <td>3.0</td>\n",
       "      <td>1</td>\n",
       "      <td>30.0</td>\n",
       "      <td>0.0</td>\n",
       "      <td>0</td>\n",
       "      <td>1</td>\n",
       "      <td>0</td>\n",
       "      <td>225.0</td>\n",
       "      <td>150.0</td>\n",
       "      <td>95.0</td>\n",
       "      <td>28.58</td>\n",
       "      <td>65.0</td>\n",
       "      <td>103.0</td>\n",
       "      <td>1</td>\n",
       "    </tr>\n",
       "    <tr>\n",
       "      <th>4</th>\n",
       "      <td>0</td>\n",
       "      <td>46</td>\n",
       "      <td>3.0</td>\n",
       "      <td>1</td>\n",
       "      <td>23.0</td>\n",
       "      <td>0.0</td>\n",
       "      <td>0</td>\n",
       "      <td>0</td>\n",
       "      <td>0</td>\n",
       "      <td>285.0</td>\n",
       "      <td>130.0</td>\n",
       "      <td>84.0</td>\n",
       "      <td>23.10</td>\n",
       "      <td>85.0</td>\n",
       "      <td>85.0</td>\n",
       "      <td>0</td>\n",
       "    </tr>\n",
       "  </tbody>\n",
       "</table>\n",
       "</div>"
      ],
      "text/plain": [
       "   male  age  education  currentSmoker  cigsPerDay  BPMeds  prevalentStroke  \\\n",
       "0     1   39        4.0              0         0.0     0.0                0   \n",
       "1     0   46        2.0              0         0.0     0.0                0   \n",
       "2     1   48        1.0              1        20.0     0.0                0   \n",
       "3     0   61        3.0              1        30.0     0.0                0   \n",
       "4     0   46        3.0              1        23.0     0.0                0   \n",
       "\n",
       "   prevalentHyp  diabetes  totChol  sysBP  diaBP    BMI  heartRate  glucose  \\\n",
       "0             0         0    195.0  106.0   70.0  26.97       80.0     77.0   \n",
       "1             0         0    250.0  121.0   81.0  28.73       95.0     76.0   \n",
       "2             0         0    245.0  127.5   80.0  25.34       75.0     70.0   \n",
       "3             1         0    225.0  150.0   95.0  28.58       65.0    103.0   \n",
       "4             0         0    285.0  130.0   84.0  23.10       85.0     85.0   \n",
       "\n",
       "   TenYearCHD  \n",
       "0           0  \n",
       "1           0  \n",
       "2           0  \n",
       "3           1  \n",
       "4           0  "
      ]
     },
     "execution_count": 2,
     "metadata": {},
     "output_type": "execute_result"
    }
   ],
   "source": [
    "# Leemos el fichero de datos\n",
    "frami = pd.read_csv(\"data/Prueba Examen/frami.csv\")\n",
    "frami.head()"
   ]
  },
  {
   "cell_type": "markdown",
   "id": "75305691",
   "metadata": {},
   "source": [
    "+ **C1: ¿Cuántas observaciones hay en la tabla? ¿Cuántas variables?**"
   ]
  },
  {
   "cell_type": "code",
   "execution_count": 3,
   "id": "ebfabbd9",
   "metadata": {},
   "outputs": [
    {
     "name": "stdout",
     "output_type": "stream",
     "text": [
      "El numero de observaciones que hay en la tabla es de (filas, columnas): (4240, 16)\n"
     ]
    }
   ],
   "source": [
    "print(f\"El numero de observaciones que hay en la tabla es de (filas, columnas): {frami.shape}\")"
   ]
  },
  {
   "cell_type": "code",
   "execution_count": 4,
   "id": "438c5058",
   "metadata": {},
   "outputs": [
    {
     "name": "stdout",
     "output_type": "stream",
     "text": [
      "Las columnas(variables) que componen la tabla son: Index(['male', 'age', 'education', 'currentSmoker', 'cigsPerDay', 'BPMeds',\n",
      "       'prevalentStroke', 'prevalentHyp', 'diabetes', 'totChol', 'sysBP',\n",
      "       'diaBP', 'BMI', 'heartRate', 'glucose', 'TenYearCHD'],\n",
      "      dtype='object')\n"
     ]
    }
   ],
   "source": [
    "print(f\"Las columnas(variables) que componen la tabla son: {frami.columns}\")"
   ]
  },
  {
   "cell_type": "markdown",
   "id": "a2162e6b",
   "metadata": {},
   "source": [
    "+ **C2: ¿Hay datos ausentes? ¿De qué tipo son las variables?**"
   ]
  },
  {
   "cell_type": "code",
   "execution_count": 5,
   "id": "7a4d9ddd",
   "metadata": {},
   "outputs": [
    {
     "name": "stdout",
     "output_type": "stream",
     "text": [
      "¿Hay datos ausentes?: True\n"
     ]
    }
   ],
   "source": [
    "# Localizamos los datos ausentes\n",
    "Nan = frami.isnull().values.any()\n",
    "print(f\"¿Hay datos ausentes?: {Nan}\")"
   ]
  },
  {
   "cell_type": "code",
   "execution_count": 6,
   "id": "1d90e93b",
   "metadata": {},
   "outputs": [
    {
     "name": "stdout",
     "output_type": "stream",
     "text": [
      "El numero de valores nulos que hay en cada columna es de:\n",
      "male                 0\n",
      "age                  0\n",
      "education          105\n",
      "currentSmoker        0\n",
      "cigsPerDay          29\n",
      "BPMeds              53\n",
      "prevalentStroke      0\n",
      "prevalentHyp         0\n",
      "diabetes             0\n",
      "totChol             50\n",
      "sysBP                0\n",
      "diaBP                0\n",
      "BMI                 19\n",
      "heartRate            1\n",
      "glucose            388\n",
      "TenYearCHD           0\n",
      "dtype: int64\n"
     ]
    }
   ],
   "source": [
    "por_columna=frami.isna().sum()\n",
    "print(f\"El numero de valores nulos que hay en cada columna es de:\\n{por_columna}\")"
   ]
  },
  {
   "cell_type": "markdown",
   "id": "8f7b7bd5",
   "metadata": {},
   "source": [
    "Podemos ver que hay valores nulos en las columnas de `education`, `cigsPerDay`, `BPMeds`, `totChol`, `BMI`, `heartRate` y `glucose` .\n",
    "\n",
    "Localizamos en qué fila se encuentra cada uno de ellos:"
   ]
  },
  {
   "cell_type": "code",
   "execution_count": 7,
   "id": "5845bf5a",
   "metadata": {},
   "outputs": [
    {
     "name": "stdout",
     "output_type": "stream",
     "text": [
      "Las filas en las que hay valores nulos para la variable 'education' son: Int64Index([  33,   36,   72,  184,  213,  293,  305,  306,  319,  400,\n",
      "            ...\n",
      "            3764, 3868, 3873, 3943, 4012, 4082, 4098, 4121, 4122, 4138],\n",
      "           dtype='int64', length=105)\n",
      "Las filas en las que hay valores nulos para la variable 'cigsPerDay' son: Int64Index([ 131,  139, 1046, 1292, 1347, 1451, 1497, 1610, 1625, 1870, 1963,\n",
      "            1980, 2405, 2513, 2542, 3021, 3034, 3094, 3106, 3108, 3156, 3177,\n",
      "            3309, 3432, 3579, 3715, 3847, 3924, 3942],\n",
      "           dtype='int64')\n",
      "Las filas en las que hay valores nulos para la variable 'BPMeds' son: Int64Index([  49,   77,  193,  245,  314,  395,  421,  765,  769,  797,  998,\n",
      "            1002, 1044, 1104, 1122, 1177, 1206, 1284, 1301, 1566, 1573, 1616,\n",
      "            1721, 1857, 1861, 1913, 1983, 1985, 1986, 2002, 2074, 2120, 2173,\n",
      "            2181, 2367, 2608, 2645, 2738, 2835, 2943, 3226, 3313, 3373, 3375,\n",
      "            3526, 3644, 3737, 3791, 3816, 4008, 4139, 4162, 4235],\n",
      "           dtype='int64')\n",
      "Las filas en las que hay valores nulos para la variable 'totChol' son: Int64Index([  42,  154,  247,  429,  567,  577,  609,  673,  822,  834,  871,\n",
      "             951, 1105, 1122, 1317, 1354, 1359, 1448, 1575, 1744, 1747, 1785,\n",
      "            1879, 1940, 2003, 2008, 2079, 2209, 2263, 2340, 2341, 2417, 2583,\n",
      "            2589, 2612, 2805, 2872, 2902, 3110, 3111, 3149, 3285, 3576, 3607,\n",
      "            3630, 3660, 3960, 3961, 3988, 4185],\n",
      "           dtype='int64')\n",
      "Las filas en las que hay valores nulos para la variable 'BMI' son: Int64Index([  97,  294,  705, 1155, 1161, 1594, 1604, 1624, 1747, 1975, 2048,\n",
      "            2067, 2091, 2177, 2529, 2719, 2925, 3090, 3339],\n",
      "           dtype='int64')\n",
      "Las filas en las que hay valores nulos para la variable 'heartRate' son: Int64Index([689], dtype='int64')\n",
      "Las filas en las que hay valores nulos para la variable 'glucose' son: Int64Index([  14,   21,   26,   42,   54,   70,  111,  114,  131,  154,\n",
      "            ...\n",
      "            4061, 4086, 4121, 4153, 4160, 4170, 4208, 4229, 4230, 4236],\n",
      "           dtype='int64', length=388)\n"
     ]
    }
   ],
   "source": [
    "vars_with_nan = ['education', 'cigsPerDay', 'BPMeds', 'totChol', 'BMI', 'heartRate' , 'glucose']\n",
    "for var in vars_with_nan:\n",
    "    nan_var_row = frami.loc[frami[var].isna()].index\n",
    "    print(f\"Las filas en las que hay valores nulos para la variable '{var}' son: {nan_var_row}\")\n"
   ]
  },
  {
   "cell_type": "code",
   "execution_count": 8,
   "id": "0fae041f",
   "metadata": {},
   "outputs": [
    {
     "name": "stdout",
     "output_type": "stream",
     "text": [
      "<class 'pandas.core.frame.DataFrame'>\n",
      "RangeIndex: 4240 entries, 0 to 4239\n",
      "Data columns (total 16 columns):\n",
      " #   Column           Non-Null Count  Dtype  \n",
      "---  ------           --------------  -----  \n",
      " 0   male             4240 non-null   int64  \n",
      " 1   age              4240 non-null   int64  \n",
      " 2   education        4135 non-null   float64\n",
      " 3   currentSmoker    4240 non-null   int64  \n",
      " 4   cigsPerDay       4211 non-null   float64\n",
      " 5   BPMeds           4187 non-null   float64\n",
      " 6   prevalentStroke  4240 non-null   int64  \n",
      " 7   prevalentHyp     4240 non-null   int64  \n",
      " 8   diabetes         4240 non-null   int64  \n",
      " 9   totChol          4190 non-null   float64\n",
      " 10  sysBP            4240 non-null   float64\n",
      " 11  diaBP            4240 non-null   float64\n",
      " 12  BMI              4221 non-null   float64\n",
      " 13  heartRate        4239 non-null   float64\n",
      " 14  glucose          3852 non-null   float64\n",
      " 15  TenYearCHD       4240 non-null   int64  \n",
      "dtypes: float64(9), int64(7)\n",
      "memory usage: 530.1 KB\n"
     ]
    }
   ],
   "source": [
    "# el tipo de las variables las podemos ver con el método info:\n",
    "frami.info()"
   ]
  },
  {
   "cell_type": "markdown",
   "id": "40334a72",
   "metadata": {},
   "source": [
    "En esta tabla, se puede ver que hay variables de varios tipos\n",
    "+ **int64**: Como la edad o el nivel del trabajo\n",
    "+ **float64**: Como DistanceFromHome\n",
    "+ **Object** (factores): Como Education_Field\n",
    "\n",
    "\n",
    "+ **C3: Antes de seguir adelante vamos a eliminar todas las observaciones que contienen datos ausentes. Asegúrate de que el conjunto de datos resultante se sigue llamando frami. ¿Cuántas observaciones han quedado en la tabla tras eliminar los datos ausentes?**\n",
    "\n"
   ]
  },
  {
   "cell_type": "code",
   "execution_count": 9,
   "id": "0f0d5cb5",
   "metadata": {},
   "outputs": [
    {
     "name": "stdout",
     "output_type": "stream",
     "text": [
      "Valores nulos eliminados\n"
     ]
    },
    {
     "data": {
      "text/plain": [
       "False"
      ]
     },
     "execution_count": 9,
     "metadata": {},
     "output_type": "execute_result"
    }
   ],
   "source": [
    "# Una vez localizamos los eliminamos\n",
    "frami.dropna(inplace=True)\n",
    "print(\"Valores nulos eliminados\")\n",
    "np.any(frami.isna())"
   ]
  },
  {
   "cell_type": "code",
   "execution_count": 15,
   "id": "7fd7cb73",
   "metadata": {},
   "outputs": [
    {
     "name": "stdout",
     "output_type": "stream",
     "text": [
      "La tabla tiene 3658 observaciones tras eliminar los nulos.\n"
     ]
    }
   ],
   "source": [
    "print(f\"La tabla tiene {frami.shape[0]} observaciones tras eliminar los nulos.\")"
   ]
  },
  {
   "cell_type": "markdown",
   "id": "761ed9c1",
   "metadata": {},
   "source": [
    "## Apartado 2\n",
    "+ **C4: Vamos a analizar la posible relación entre el factor género (variable male) y el factor fumador (variable currentSmoker). Haz un análisis mediante gráficos de esa relación. Calcula la tabla de probabilidad, con probabilidades marginales, asociada a la relación entre estos dos factores.**"
   ]
  },
  {
   "cell_type": "code",
   "execution_count": 16,
   "id": "30f0555d",
   "metadata": {},
   "outputs": [
    {
     "data": {
      "text/html": [
       "<div>\n",
       "<style scoped>\n",
       "    .dataframe tbody tr th:only-of-type {\n",
       "        vertical-align: middle;\n",
       "    }\n",
       "\n",
       "    .dataframe tbody tr th {\n",
       "        vertical-align: top;\n",
       "    }\n",
       "\n",
       "    .dataframe thead th {\n",
       "        text-align: right;\n",
       "    }\n",
       "</style>\n",
       "<table border=\"1\" class=\"dataframe\">\n",
       "  <thead>\n",
       "    <tr style=\"text-align: right;\">\n",
       "      <th>currentSmoker</th>\n",
       "      <th>0</th>\n",
       "      <th>1</th>\n",
       "    </tr>\n",
       "    <tr>\n",
       "      <th>male</th>\n",
       "      <th></th>\n",
       "      <th></th>\n",
       "    </tr>\n",
       "  </thead>\n",
       "  <tbody>\n",
       "    <tr>\n",
       "      <th>0</th>\n",
       "      <td>1227</td>\n",
       "      <td>808</td>\n",
       "    </tr>\n",
       "    <tr>\n",
       "      <th>1</th>\n",
       "      <td>642</td>\n",
       "      <td>981</td>\n",
       "    </tr>\n",
       "  </tbody>\n",
       "</table>\n",
       "</div>"
      ],
      "text/plain": [
       "currentSmoker     0    1\n",
       "male                    \n",
       "0              1227  808\n",
       "1               642  981"
      ]
     },
     "execution_count": 16,
     "metadata": {},
     "output_type": "execute_result"
    }
   ],
   "source": [
    "CT = pd.crosstab(frami['male'], frami['currentSmoker'])\n",
    "CT"
   ]
  },
  {
   "cell_type": "code",
   "execution_count": 17,
   "id": "bda16a78",
   "metadata": {},
   "outputs": [
    {
     "data": {
      "image/png": "[encoded data removed]",
      "text/plain": [
       "<Figure size 640x480 with 1 Axes>"
      ]
     },
     "metadata": {},
     "output_type": "display_data"
    }
   ],
   "source": [
    "# Calculamos los totales\n",
    "# We add to the table the totals for each row\n",
    "CT['total'] = CT.sum(axis=1)\n",
    "# Sort the table using those totals\n",
    "CT.sort_values('total', inplace=True)\n",
    "# Remove them so thay do not interfere with the graphic\n",
    "CT2= CT.drop(columns='total')\n",
    "# And plot the bar plot\n",
    "# Para pintar lo mismo con porcentajes\n",
    "percents = CT2.div(CT.total, axis = 0).mul(100).round(2)\n",
    "\n",
    "percents.iloc[:, 0]\n",
    "\n",
    "ax = CT2.plot.bar(stacked = True, rot = 0)\n",
    "\n",
    "for i in range(len(ax.containers)):\n",
    "    \n",
    "    c = ax.containers[i]  \n",
    "    # percent labels (or empty string below a threshold for close to 0%)\n",
    "    labels = [f'{v:2.2f}%' if (v > 1) else '' for v in percents.iloc[:, i]]  \n",
    "    # add labels to bars\n",
    "    ax.bar_label(c, labels=labels, label_type='center',   fontsize=15)\n",
    "\n",
    "\n",
    "plt.show() "
   ]
  },
  {
   "cell_type": "markdown",
   "id": "a7629793",
   "metadata": {},
   "source": [
    "+ **C5: ¿Cuál es la probabilidad de que un fumador sea mujer?**"
   ]
  },
  {
   "cell_type": "code",
   "execution_count": 25,
   "id": "333a09e3",
   "metadata": {},
   "outputs": [
    {
     "name": "stdout",
     "output_type": "stream",
     "text": [
      "La P(mujer | fumador) = 0.45164896590273895\n"
     ]
    }
   ],
   "source": [
    "#p(mujer|fumador)\n",
    "probs = frami[frami.currentSmoker == 1].male.value_counts(normalize = True)\n",
    "print(f\"La P(mujer | fumador) = {probs[0]}\")"
   ]
  },
  {
   "cell_type": "markdown",
   "id": "c20c21ce",
   "metadata": {},
   "source": [
    "+ **C6: ¿Y cuál es la probabilidad de que un hombre sea fumador?**"
   ]
  },
  {
   "cell_type": "code",
   "execution_count": 39,
   "id": "a6da2822",
   "metadata": {},
   "outputs": [
    {
     "name": "stdout",
     "output_type": "stream",
     "text": [
      "P(Hombre y fumador) = 0.26817933296883545\n"
     ]
    }
   ],
   "source": [
    "p_hombre_fumador = len(frami[(frami.male == 1) & (frami.currentSmoker == 1)])/len(frami)\n",
    "print(f\"P(Hombre y fumador) = {p_hombre_fumador}\")"
   ]
  },
  {
   "cell_type": "markdown",
   "id": "c6cd877e",
   "metadata": {},
   "source": [
    "+ **C7: ¿Cuál es la probabilidad de que una persona elegida al azar sea fumadora? ¿Y de que sea a la vez hombre y no fumador?**"
   ]
  },
  {
   "cell_type": "code",
   "execution_count": 40,
   "id": "9708b7c3",
   "metadata": {},
   "outputs": [
    {
     "name": "stdout",
     "output_type": "stream",
     "text": [
      "P(fumador) = 0.48906506287588847\n",
      "P(Hombre y No fumador) = 0.17550574084199017\n"
     ]
    }
   ],
   "source": [
    "# Prob fumador\n",
    "p_fumador = len(frami[frami.currentSmoker == 1])/len(frami)\n",
    "print(f\"P(fumador) = {p_fumador}\")\n",
    "\n",
    "# Prob hombre y no fumador\n",
    "p = len(frami[(frami.male == 1) & (frami.currentSmoker == 0)])/len(frami)\n",
    "print(f\"P(Hombre y No fumador) = {p}\")"
   ]
  },
  {
   "cell_type": "markdown",
   "id": "a53a9201",
   "metadata": {},
   "source": [
    "+ **C8: Si las dos variables aleatorias género male y condición de fumador currentSmoker fueran independientes se cumpliría exactamente:**\n",
    "\n",
    "$$P(hombre y fumador ) = P(hombre) · P(fumador )$$\n",
    "\n",
    "**Pero los datos que tenemos son muestrales, así que lo más que podemos esperar es una igualdad\n",
    "aproximada. ¿Se cumple esa igualdad aproximada en nuestros datos? ¿Qué opinas sobre la independencia\n",
    "de estas variables?**"
   ]
  },
  {
   "cell_type": "code",
   "execution_count": 42,
   "id": "b0bc3dfe",
   "metadata": {},
   "outputs": [
    {
     "name": "stdout",
     "output_type": "stream",
     "text": [
      "P(Hombre y fumador) = 0.26817933296883545 = P(hombre)*P(Fumador) = 0.21699086852038466\n"
     ]
    }
   ],
   "source": [
    "p_hombre = len(frami[frami.male == 1])/len(frami)\n",
    "print(f\"P(Hombre y fumador) = {p_hombre_fumador} = P(hombre)*P(Fumador) = {p_hombre * p_fumador}\")"
   ]
  },
  {
   "cell_type": "markdown",
   "id": "f4c123a9",
   "metadata": {},
   "source": [
    "La desigualdad aproximada se cumple en nuestras variables por lo que podemos comprobar que son independientes."
   ]
  },
  {
   "cell_type": "markdown",
   "id": "b0dca13f",
   "metadata": {},
   "source": [
    "+ **C9: Si elegimos de forma independiente (con remplazamiento) 10 personas de esta muestra, ¿cuál es la probabilidad de que 4 de ellas sean fumadoras? ¿Y cuál es la probabilidad de que lo sean 4 o menos?**"
   ]
  },
  {
   "cell_type": "code",
   "execution_count": 48,
   "id": "4354a067",
   "metadata": {},
   "outputs": [
    {
     "name": "stdout",
     "output_type": "stream",
     "text": [
      "La media de fumadores es de: 0.48906506287588847\n",
      "La probabilidad de B(X=4) = 0.21373687425981308)\n",
      "La probabilidad de B(X<=4) = 0.4041401479531159)\n"
     ]
    }
   ],
   "source": [
    "# Binomial\n",
    "# En primer lugar debemos calcular la media\n",
    "p_binom = np.mean(frami['currentSmoker'] == 1)\n",
    "print(f\"La media de fumadores es de: {p_binom}\")\n",
    "\n",
    "# Una vez hecho esto ya podemos calcular la binomial B(X=4)\n",
    "p_4 = stats.binom.pmf(4, n = 10, p = p_binom)\n",
    "print(f\"La probabilidad de B(X=4) = {p_4})\")\n",
    "\n",
    "#B(X<= 4) --> Cola izquierda\n",
    "p_4_menor = stats.binom.cdf(4, n = 10, p = p_binom)\n",
    "print(f\"La probabilidad de B(X<=4) = {p_4_menor})\")"
   ]
  },
  {
   "cell_type": "markdown",
   "id": "e3fd8599",
   "metadata": {},
   "source": [
    "## Apartado 3\n",
    "+ **C10: En este apartado trabajamos con la variable heartRate, la frecuencia cardiaca. Haz un resumen numérico básico. ¿Es representativa la media? Represénta la variable gráficamente (puuedes usar más de un tipo de gráfico). Se valorará especialmente el uso de ggplot.**"
   ]
  },
  {
   "cell_type": "code",
   "execution_count": 53,
   "id": "2ef0dbcf",
   "metadata": {},
   "outputs": [
    {
     "data": {
      "text/plain": [
       "count    3658.000000\n",
       "mean       75.730727\n",
       "std        11.981525\n",
       "min        44.000000\n",
       "25%        68.000000\n",
       "50%        75.000000\n",
       "75%        82.000000\n",
       "max       143.000000\n",
       "Name: heartRate, dtype: float64"
      ]
     },
     "execution_count": 53,
     "metadata": {},
     "output_type": "execute_result"
    }
   ],
   "source": [
    "frami['heartRate'].describe()"
   ]
  },
  {
   "cell_type": "code",
   "execution_count": 60,
   "id": "3395cabb",
   "metadata": {},
   "outputs": [
    {
     "data": {
      "image/png": "[encoded data removed]",
      "text/plain": [
       "<Figure size 1200x800 with 1 Axes>"
      ]
     },
     "metadata": {},
     "output_type": "display_data"
    }
   ],
   "source": [
    "# Para representar variables continuas, podemos usar el histograma y la curva de densidad\n",
    "# Se pueden pintar juntos histograma y curva de densidad\n",
    "# KDE pinta la linea de densidad (sin ello solo pinta el histograma)\n",
    "# data = Estructura/datos de entrada\n",
    "# x, y = vectores o claves que especifican los ejes\n",
    "# stat = density --> para normalizar el eje y, el area total suma 1 (rel_freq)\n",
    "dens_plot = sns.histplot(data = frami, x = 'heartRate', kde=True, bins = 20)#, stat='density')\n",
    "# Editamos el color y grosor de la curva de densidad\n",
    "dens_plot.lines[0].set_color('red')\n",
    "dens_plot.lines[0].set_linewidth(3)"
   ]
  },
  {
   "cell_type": "markdown",
   "id": "7868c5a6",
   "metadata": {},
   "source": [
    "+ **C11: ¿Hay datos atípicos? ¿Cuántos? ¿Sabes qué posiciones (número de fila) ocupan en la tabla?**"
   ]
  },
  {
   "cell_type": "code",
   "execution_count": 61,
   "id": "aa902aa2",
   "metadata": {},
   "outputs": [
    {
     "data": {
      "image/png": "[encoded data removed]",
      "text/plain": [
       "<Figure size 600x800 with 1 Axes>"
      ]
     },
     "metadata": {},
     "output_type": "display_data"
    }
   ],
   "source": [
    "# Para revisar los datos atipicos podemos representar la variable con boxplot\n",
    "getPlot = frami.boxplot(column='heartRate', figsize=(6, 8))\n",
    "# La gráfica nos muestra que sí que hay valores atípicos"
   ]
  },
  {
   "cell_type": "code",
   "execution_count": 66,
   "id": "5a1d266f",
   "metadata": {},
   "outputs": [
    {
     "name": "stdout",
     "output_type": "stream",
     "text": [
      "Rango intercuartílico: 14.0\n",
      "Lower and upper outlier limits: 47.0 ,  103.0\n",
      "The outliers are located in rows:  Int64Index([ 162,  270,  339,  358,  409,  492,  523,  562,  630,  639,  697,\n",
      "             722,  740,  742,  824,  833,  909,  911,  913,  923,  983, 1008,\n",
      "            1022, 1182, 1233, 1462, 1570, 1728, 1783, 1790, 1807, 1844, 1881,\n",
      "            1902, 2041, 2162, 2180, 2237, 2242, 2275, 2299, 2382, 2388, 2434,\n",
      "            2459, 2482, 2492, 2646, 2663, 2733, 2750, 2922, 3037, 3112, 3142,\n",
      "            3164, 3194, 3225, 3231, 3233, 3242, 3343, 3391, 3425, 3495, 3505,\n",
      "            3585, 3740, 3747, 3800, 3819, 3844, 3862, 3875, 3912, 3964, 4053,\n",
      "            4070, 4164, 4195],\n",
      "           dtype='int64')\n"
     ]
    },
    {
     "data": {
      "text/html": [
       "<div>\n",
       "<style scoped>\n",
       "    .dataframe tbody tr th:only-of-type {\n",
       "        vertical-align: middle;\n",
       "    }\n",
       "\n",
       "    .dataframe tbody tr th {\n",
       "        vertical-align: top;\n",
       "    }\n",
       "\n",
       "    .dataframe thead th {\n",
       "        text-align: right;\n",
       "    }\n",
       "</style>\n",
       "<table border=\"1\" class=\"dataframe\">\n",
       "  <thead>\n",
       "    <tr style=\"text-align: right;\">\n",
       "      <th></th>\n",
       "      <th>male</th>\n",
       "      <th>age</th>\n",
       "      <th>education</th>\n",
       "      <th>currentSmoker</th>\n",
       "      <th>cigsPerDay</th>\n",
       "      <th>BPMeds</th>\n",
       "      <th>prevalentStroke</th>\n",
       "      <th>prevalentHyp</th>\n",
       "      <th>diabetes</th>\n",
       "      <th>totChol</th>\n",
       "      <th>sysBP</th>\n",
       "      <th>diaBP</th>\n",
       "      <th>BMI</th>\n",
       "      <th>heartRate</th>\n",
       "      <th>glucose</th>\n",
       "      <th>TenYearCHD</th>\n",
       "    </tr>\n",
       "  </thead>\n",
       "  <tbody>\n",
       "    <tr>\n",
       "      <th>162</th>\n",
       "      <td>0</td>\n",
       "      <td>47</td>\n",
       "      <td>2.0</td>\n",
       "      <td>0</td>\n",
       "      <td>0.0</td>\n",
       "      <td>0.0</td>\n",
       "      <td>0</td>\n",
       "      <td>0</td>\n",
       "      <td>0</td>\n",
       "      <td>174.0</td>\n",
       "      <td>118.0</td>\n",
       "      <td>86.5</td>\n",
       "      <td>26.15</td>\n",
       "      <td>110.0</td>\n",
       "      <td>86.0</td>\n",
       "      <td>0</td>\n",
       "    </tr>\n",
       "    <tr>\n",
       "      <th>270</th>\n",
       "      <td>0</td>\n",
       "      <td>54</td>\n",
       "      <td>1.0</td>\n",
       "      <td>0</td>\n",
       "      <td>0.0</td>\n",
       "      <td>0.0</td>\n",
       "      <td>0</td>\n",
       "      <td>1</td>\n",
       "      <td>0</td>\n",
       "      <td>273.0</td>\n",
       "      <td>139.0</td>\n",
       "      <td>98.0</td>\n",
       "      <td>29.06</td>\n",
       "      <td>110.0</td>\n",
       "      <td>73.0</td>\n",
       "      <td>1</td>\n",
       "    </tr>\n",
       "    <tr>\n",
       "      <th>339</th>\n",
       "      <td>0</td>\n",
       "      <td>64</td>\n",
       "      <td>1.0</td>\n",
       "      <td>0</td>\n",
       "      <td>0.0</td>\n",
       "      <td>0.0</td>\n",
       "      <td>0</td>\n",
       "      <td>1</td>\n",
       "      <td>0</td>\n",
       "      <td>312.0</td>\n",
       "      <td>160.0</td>\n",
       "      <td>82.0</td>\n",
       "      <td>27.59</td>\n",
       "      <td>140.0</td>\n",
       "      <td>94.0</td>\n",
       "      <td>0</td>\n",
       "    </tr>\n",
       "    <tr>\n",
       "      <th>358</th>\n",
       "      <td>0</td>\n",
       "      <td>40</td>\n",
       "      <td>3.0</td>\n",
       "      <td>1</td>\n",
       "      <td>20.0</td>\n",
       "      <td>0.0</td>\n",
       "      <td>0</td>\n",
       "      <td>0</td>\n",
       "      <td>0</td>\n",
       "      <td>210.0</td>\n",
       "      <td>118.0</td>\n",
       "      <td>79.0</td>\n",
       "      <td>21.21</td>\n",
       "      <td>130.0</td>\n",
       "      <td>84.0</td>\n",
       "      <td>0</td>\n",
       "    </tr>\n",
       "    <tr>\n",
       "      <th>409</th>\n",
       "      <td>1</td>\n",
       "      <td>44</td>\n",
       "      <td>1.0</td>\n",
       "      <td>1</td>\n",
       "      <td>10.0</td>\n",
       "      <td>0.0</td>\n",
       "      <td>0</td>\n",
       "      <td>1</td>\n",
       "      <td>0</td>\n",
       "      <td>229.0</td>\n",
       "      <td>177.5</td>\n",
       "      <td>120.0</td>\n",
       "      <td>39.88</td>\n",
       "      <td>104.0</td>\n",
       "      <td>78.0</td>\n",
       "      <td>0</td>\n",
       "    </tr>\n",
       "    <tr>\n",
       "      <th>...</th>\n",
       "      <td>...</td>\n",
       "      <td>...</td>\n",
       "      <td>...</td>\n",
       "      <td>...</td>\n",
       "      <td>...</td>\n",
       "      <td>...</td>\n",
       "      <td>...</td>\n",
       "      <td>...</td>\n",
       "      <td>...</td>\n",
       "      <td>...</td>\n",
       "      <td>...</td>\n",
       "      <td>...</td>\n",
       "      <td>...</td>\n",
       "      <td>...</td>\n",
       "      <td>...</td>\n",
       "      <td>...</td>\n",
       "    </tr>\n",
       "    <tr>\n",
       "      <th>3964</th>\n",
       "      <td>0</td>\n",
       "      <td>39</td>\n",
       "      <td>3.0</td>\n",
       "      <td>0</td>\n",
       "      <td>0.0</td>\n",
       "      <td>0.0</td>\n",
       "      <td>0</td>\n",
       "      <td>0</td>\n",
       "      <td>0</td>\n",
       "      <td>213.0</td>\n",
       "      <td>125.0</td>\n",
       "      <td>87.0</td>\n",
       "      <td>16.73</td>\n",
       "      <td>110.0</td>\n",
       "      <td>75.0</td>\n",
       "      <td>0</td>\n",
       "    </tr>\n",
       "    <tr>\n",
       "      <th>4053</th>\n",
       "      <td>0</td>\n",
       "      <td>44</td>\n",
       "      <td>1.0</td>\n",
       "      <td>0</td>\n",
       "      <td>0.0</td>\n",
       "      <td>0.0</td>\n",
       "      <td>0</td>\n",
       "      <td>0</td>\n",
       "      <td>0</td>\n",
       "      <td>160.0</td>\n",
       "      <td>107.0</td>\n",
       "      <td>69.0</td>\n",
       "      <td>18.63</td>\n",
       "      <td>125.0</td>\n",
       "      <td>78.0</td>\n",
       "      <td>0</td>\n",
       "    </tr>\n",
       "    <tr>\n",
       "      <th>4070</th>\n",
       "      <td>0</td>\n",
       "      <td>40</td>\n",
       "      <td>3.0</td>\n",
       "      <td>0</td>\n",
       "      <td>0.0</td>\n",
       "      <td>0.0</td>\n",
       "      <td>0</td>\n",
       "      <td>1</td>\n",
       "      <td>0</td>\n",
       "      <td>202.0</td>\n",
       "      <td>158.0</td>\n",
       "      <td>103.0</td>\n",
       "      <td>28.35</td>\n",
       "      <td>125.0</td>\n",
       "      <td>80.0</td>\n",
       "      <td>0</td>\n",
       "    </tr>\n",
       "    <tr>\n",
       "      <th>4164</th>\n",
       "      <td>1</td>\n",
       "      <td>39</td>\n",
       "      <td>2.0</td>\n",
       "      <td>1</td>\n",
       "      <td>20.0</td>\n",
       "      <td>0.0</td>\n",
       "      <td>0</td>\n",
       "      <td>0</td>\n",
       "      <td>0</td>\n",
       "      <td>287.0</td>\n",
       "      <td>136.0</td>\n",
       "      <td>86.0</td>\n",
       "      <td>19.00</td>\n",
       "      <td>112.0</td>\n",
       "      <td>83.0</td>\n",
       "      <td>0</td>\n",
       "    </tr>\n",
       "    <tr>\n",
       "      <th>4195</th>\n",
       "      <td>0</td>\n",
       "      <td>40</td>\n",
       "      <td>2.0</td>\n",
       "      <td>1</td>\n",
       "      <td>9.0</td>\n",
       "      <td>0.0</td>\n",
       "      <td>0</td>\n",
       "      <td>0</td>\n",
       "      <td>0</td>\n",
       "      <td>207.0</td>\n",
       "      <td>124.0</td>\n",
       "      <td>78.0</td>\n",
       "      <td>22.90</td>\n",
       "      <td>46.0</td>\n",
       "      <td>66.0</td>\n",
       "      <td>0</td>\n",
       "    </tr>\n",
       "  </tbody>\n",
       "</table>\n",
       "<p>80 rows × 16 columns</p>\n",
       "</div>"
      ],
      "text/plain": [
       "      male  age  education  currentSmoker  cigsPerDay  BPMeds  \\\n",
       "162      0   47        2.0              0         0.0     0.0   \n",
       "270      0   54        1.0              0         0.0     0.0   \n",
       "339      0   64        1.0              0         0.0     0.0   \n",
       "358      0   40        3.0              1        20.0     0.0   \n",
       "409      1   44        1.0              1        10.0     0.0   \n",
       "...    ...  ...        ...            ...         ...     ...   \n",
       "3964     0   39        3.0              0         0.0     0.0   \n",
       "4053     0   44        1.0              0         0.0     0.0   \n",
       "4070     0   40        3.0              0         0.0     0.0   \n",
       "4164     1   39        2.0              1        20.0     0.0   \n",
       "4195     0   40        2.0              1         9.0     0.0   \n",
       "\n",
       "      prevalentStroke  prevalentHyp  diabetes  totChol  sysBP  diaBP    BMI  \\\n",
       "162                 0             0         0    174.0  118.0   86.5  26.15   \n",
       "270                 0             1         0    273.0  139.0   98.0  29.06   \n",
       "339                 0             1         0    312.0  160.0   82.0  27.59   \n",
       "358                 0             0         0    210.0  118.0   79.0  21.21   \n",
       "409                 0             1         0    229.0  177.5  120.0  39.88   \n",
       "...               ...           ...       ...      ...    ...    ...    ...   \n",
       "3964                0             0         0    213.0  125.0   87.0  16.73   \n",
       "4053                0             0         0    160.0  107.0   69.0  18.63   \n",
       "4070                0             1         0    202.0  158.0  103.0  28.35   \n",
       "4164                0             0         0    287.0  136.0   86.0  19.00   \n",
       "4195                0             0         0    207.0  124.0   78.0  22.90   \n",
       "\n",
       "      heartRate  glucose  TenYearCHD  \n",
       "162       110.0     86.0           0  \n",
       "270       110.0     73.0           1  \n",
       "339       140.0     94.0           0  \n",
       "358       130.0     84.0           0  \n",
       "409       104.0     78.0           0  \n",
       "...         ...      ...         ...  \n",
       "3964      110.0     75.0           0  \n",
       "4053      125.0     78.0           0  \n",
       "4070      125.0     80.0           0  \n",
       "4164      112.0     83.0           0  \n",
       "4195       46.0     66.0           0  \n",
       "\n",
       "[80 rows x 16 columns]"
      ]
     },
     "execution_count": 66,
     "metadata": {},
     "output_type": "execute_result"
    }
   ],
   "source": [
    "#Para calcular los valores atípicos:\n",
    " # Calculo de los valores atípicos --> Menores que el primer cuartil - 1,5*rango intercuartílico, mayores que el tercer cuartil +1,5*rango_intercuartíloco\n",
    "# Calculamos el rango intercuartílico\n",
    "heartRate_iqr = stats.iqr(frami.heartRate)\n",
    "print(f\"Rango intercuartílico: {heartRate_iqr}\")\n",
    "\n",
    "# Para localizar el primer y tercer cuartil.\n",
    "heartRate_q1, heartRate_q3 = np.quantile(frami.heartRate, [0.25, 0.75])\n",
    "\n",
    "# Limites de los valores atípicos\n",
    "cut_low = heartRate_q1 - 1.5 * heartRate_iqr\n",
    "cut_high = heartRate_q3 + 1.5 * heartRate_iqr\n",
    "\n",
    "print(\"Lower and upper outlier limits:\", cut_low, \", \", cut_high)\n",
    "\n",
    "# Obtenemos de nuestro dataset todos los valores atípicos segun los limites calculados\n",
    "price_outliers = frami.loc[(frami.heartRate < cut_low) | (frami.heartRate > cut_high)]\n",
    "\n",
    "print(\"The outliers are located in rows: \", price_outliers.index)\n",
    "\n",
    "price_outliers\n",
    "# Representación mediante boxpots (sección gráficos)"
   ]
  },
  {
   "cell_type": "markdown",
   "id": "612fd134",
   "metadata": {},
   "source": [
    "+ **C12: ¿Crees que está variable es aproximadamente normal? Justifica tu conclusión basándote en los gráficos del apartado anterior o en algún gráfico adicional.**\n",
    "\n",
    "Dado el gráfico de la densidad de la variable, podemos concluir que es aproximadamente normal. Para asegurarnos de ello, vamos a hacer un qqplot de la variable para ver si se ajusta a la normal."
   ]
  },
  {
   "cell_type": "code",
   "execution_count": 68,
   "id": "a102556a",
   "metadata": {},
   "outputs": [
    {
     "data": {
      "image/png": "[encoded data removed]",
      "text/plain": [
       "<Figure size 1200x800 with 1 Axes>"
      ]
     },
     "metadata": {},
     "output_type": "display_data"
    }
   ],
   "source": [
    "getPlot = sm.qqplot(frami.heartRate, line=\"s\")"
   ]
  },
  {
   "cell_type": "markdown",
   "id": "01b17c24",
   "metadata": {},
   "source": [
    "+ **C13: *Asumiendo que es aproximadamente normal (sea cual sea tu conclusión del apartado anterior)* construye un intervalo de confianza al 95% para la media de esta variable,**"
   ]
  },
  {
   "cell_type": "code",
   "execution_count": 75,
   "id": "b72b4a59",
   "metadata": {},
   "outputs": [
    {
     "name": "stdout",
     "output_type": "stream",
     "text": [
      "El numero de empleados de la muestra es de: 3658\n",
      "La media muestral es de:  75.73072717331875\n",
      "La varianza es de:  11.981525363310121\n",
      "El intervalo de confianza es  [75.34245314 76.11900121]\n",
      "Redondeamos a 4 digitos: [75.34, 76.12]\n"
     ]
    }
   ],
   "source": [
    "n = len(frami)\n",
    "print(\"El numero de empleados de la muestra es de:\" ,n)\n",
    "barX = frami.heartRate.mean()\n",
    "print(\"La media muestral es de: \", barX)\n",
    "s = frami.heartRate.std()\n",
    "print(\"La varianza es de: \", s)\n",
    "\n",
    "sl = 0.95\n",
    "alpha = 1 - sl\n",
    "\n",
    "crit_point = stats.norm.isf(alpha/2, loc = 0, scale = 1)\n",
    "# Formula de los intervalos de confianza (x barra +- crit_point*var/raiz de n)\n",
    "conf_int = barX + np.array([-1, 1]) * crit_point * s / np.sqrt(n)\n",
    "print(\"El intervalo de confianza es \", conf_int)\n",
    "print(\"Redondeamos a 4 digitos: [{:.4}, {:.4}]\".format(conf_int[0], conf_int[1]))"
   ]
  },
  {
   "cell_type": "markdown",
   "id": "5b60d7ca",
   "metadata": {},
   "source": [
    "## Apartado 4\n",
    "+ **C14: ¿Cuántas personas padecen diabetes? Para las personas que padecen diabetes y que tienen edades superiores a 50 años ¿cuál es su nivel medio de colesterol?**"
   ]
  },
  {
   "cell_type": "code",
   "execution_count": 79,
   "id": "70459414",
   "metadata": {},
   "outputs": [
    {
     "name": "stdout",
     "output_type": "stream",
     "text": [
      "Hay 99 personas que padecen diabetes.\n",
      "El nivel medio de colesterol en personas con diabetes y mayores de 50 años es de 257.6619718309859\n"
     ]
    }
   ],
   "source": [
    "print(f\"Hay {frami.diabetes.value_counts()[1]} personas que padecen diabetes.\")\n",
    "media_chol = frami[(frami.diabetes == 1) & (frami.age >50)].totChol.mean()\n",
    "print(f\"El nivel medio de colesterol en personas con diabetes y mayores de 50 años es de {media_chol}\")"
   ]
  },
  {
   "cell_type": "markdown",
   "id": "99a6805e",
   "metadata": {},
   "source": [
    "+ **C15: Haced una tabla cruzada en la que parezca el nivel medio de colesterol para cada combinación posible de las variables nivel de educación y género (male).**"
   ]
  },
  {
   "cell_type": "code",
   "execution_count": 85,
   "id": "249b664c",
   "metadata": {},
   "outputs": [
    {
     "data": {
      "text/plain": [
       "education  male\n",
       "1.0        0       241.825767\n",
       "           1       233.665260\n",
       "2.0        0       237.378462\n",
       "           1       231.811530\n",
       "3.0        0       239.854271\n",
       "           1       234.480952\n",
       "4.0        0       237.058140\n",
       "           1       234.442231\n",
       "Name: totChol, dtype: float64"
      ]
     },
     "execution_count": 85,
     "metadata": {},
     "output_type": "execute_result"
    }
   ],
   "source": [
    "frami.groupby([\"education\",\"male\"]).totChol.mean()"
   ]
  },
  {
   "cell_type": "markdown",
   "id": "71b0e47d",
   "metadata": {},
   "source": [
    "## Apartado 5\n",
    "+ **C16: Analicemos ahora la posible relación entre las variables presión sistólica sysBP y presión diastólica diaBP. Haz un diagrama de dispersión y un modelo de regresión lineal usando sysBP como variable respuesta y diaBP como variable explicativa. Añade la recta de regresión lineal al diagrama de dispersión.**"
   ]
  },
  {
   "cell_type": "code",
   "execution_count": null,
   "id": "517ec5f2",
   "metadata": {},
   "outputs": [],
   "source": []
  },
  {
   "cell_type": "markdown",
   "id": "1189f151",
   "metadata": {},
   "source": [
    "+ **C17: ¿Crees que el modelo de regresión lineal es adecuado para describir la relación entre esas variables?**"
   ]
  },
  {
   "cell_type": "code",
   "execution_count": null,
   "id": "94e5bc64",
   "metadata": {},
   "outputs": [],
   "source": []
  },
  {
   "cell_type": "markdown",
   "id": "71e75b3a",
   "metadata": {},
   "source": [
    "+ **C18: ¿Qué porcentaje de la variabilidad en diaBP se explica con ese modelo de regresión?**"
   ]
  },
  {
   "cell_type": "code",
   "execution_count": null,
   "id": "ae6374d8",
   "metadata": {},
   "outputs": [],
   "source": []
  },
  {
   "cell_type": "markdown",
   "id": "6e2b1518",
   "metadata": {},
   "source": [
    "+ **C19: ¿Cuál es el valor de diaBP que predice el modelo para alguien con sysBP igual a 160? Se valora el uso de predict.**"
   ]
  },
  {
   "cell_type": "code",
   "execution_count": null,
   "id": "52da12a0",
   "metadata": {},
   "outputs": [],
   "source": []
  },
  {
   "cell_type": "markdown",
   "id": "a56b37af",
   "metadata": {},
   "source": [
    "+ **C20: ¿Cuál es el residuo de la primera observación de la tabla?**"
   ]
  },
  {
   "cell_type": "code",
   "execution_count": null,
   "id": "4c2c31e4",
   "metadata": {},
   "outputs": [],
   "source": []
  },
  {
   "cell_type": "markdown",
   "id": "e14dad87",
   "metadata": {},
   "source": [
    "+ **C21: Pensemos en la variable nivel de colesterol totChol. Sospechamos que el nivel medio de colesterol de las personas de la muestra es mayor que 235. ¿Avalan los datos esta sospecha, con un nivel de significación del 95%?**"
   ]
  },
  {
   "cell_type": "code",
   "execution_count": null,
   "id": "62c72b66",
   "metadata": {},
   "outputs": [],
   "source": []
  },
  {
   "cell_type": "markdown",
   "id": "f0996a7b",
   "metadata": {},
   "source": [
    "+ **C22: Repite el análisis pero ahora solo con observaciones correspondientes a hombres. Y luego con\n",
    "observaciones de mujeres. ¿Qué piensas sobre la relación entre nivel de colesterol y el género?**"
   ]
  },
  {
   "cell_type": "code",
   "execution_count": null,
   "id": "fc6497f5",
   "metadata": {},
   "outputs": [],
   "source": []
  },
  {
   "cell_type": "markdown",
   "id": "ca6610c2",
   "metadata": {},
   "source": [
    "+ **C23: Estudia la normalidad de la variable edad.**"
   ]
  },
  {
   "cell_type": "code",
   "execution_count": null,
   "id": "2536ea0a",
   "metadata": {},
   "outputs": [],
   "source": []
  },
  {
   "cell_type": "markdown",
   "id": "cf0a8e59",
   "metadata": {},
   "source": [
    "+ **C24: Divide la variable edad en 4 subintervalos de longitud 10 años y llama franjaEdad al resultado.\n",
    "Divide el colesterol en intervalos de 100 unidades desde 100 hasta 600 y llama nivelCol al resultado.\n",
    "Ahora estudia la psible relación entre franjaEdad y nivelCol.**"
   ]
  },
  {
   "cell_type": "code",
   "execution_count": null,
   "id": "d337b188",
   "metadata": {},
   "outputs": [],
   "source": []
  }
 ],
 "metadata": {
  "kernelspec": {
   "display_name": "Python 3 (ipykernel)",
   "language": "python",
   "name": "python3"
  },
  "language_info": {
   "codemirror_mode": {
    "name": "ipython",
    "version": 3
   },
   "file_extension": ".py",
   "mimetype": "text/x-python",
   "name": "python",
   "nbconvert_exporter": "python",
   "pygments_lexer": "ipython3",
   "version": "3.10.4"
  }
 },
 "nbformat": 4,
 "nbformat_minor": 5
}
