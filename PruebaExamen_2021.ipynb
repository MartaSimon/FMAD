{
 "cells": [
  {
   "cell_type": "markdown",
   "id": "ab34eff1",
   "metadata": {},
   "source": [
    "<img src='./fig/vertical_COMILLAS_COLOR.jpg' style= 'width:70mm'>\n",
    "<h1 style='font-family: Optima;color:#ecac00'>\n",
    "Máster en Big Data. Tecnología y Analítica Avanzada (MBD).\n",
    "<a class=\"tocSkip\">\n",
    "</h1>\n",
    "\n",
    "<h1 style='font-family: Optima;color:#ecac00'>\n",
    "Fundamentos Matemáticos del Análisis de Datos (FMAD). 2022-2023.\n",
    "<a class=\"tocSkip\">\n",
    "</h1>\n",
    "\n",
    "<h1 style='font-family: Optima;color:#ecac00'>\n",
    "Prueba Examen Marta Simón\n",
    "<a class=\"tocSkip\">    \n",
    "</h1> "
   ]
  },
  {
   "cell_type": "markdown",
   "id": "fb17b0f5",
   "metadata": {},
   "source": [
    "## Carga de las librerías estándar de Data Science con Python "
   ]
  },
  {
   "cell_type": "code",
   "execution_count": 1,
   "id": "170172ca",
   "metadata": {},
   "outputs": [],
   "source": [
    "import numpy as np\n",
    "import pandas as pd\n",
    "import matplotlib.pyplot as plt\n",
    "import scipy as scp\n",
    "import seaborn as sns\n",
    "import scipy.stats as stats\n",
    "import statsmodels.api as sm\n",
    "\n",
    "sns.set()"
   ]
  },
  {
   "cell_type": "markdown",
   "id": "8031074a",
   "metadata": {},
   "source": [
    "# Preguntas del examen\n",
    "## Preliminares\n",
    "+ Lee el fichero de datos y crea un data.frame o tibble de R llamado empleados, que usaremos para el resto del examen."
   ]
  },
  {
   "cell_type": "code",
   "execution_count": 2,
   "id": "aad05c7d",
   "metadata": {},
   "outputs": [
    {
     "data": {
      "text/html": [
       "<div>\n",
       "<style scoped>\n",
       "    .dataframe tbody tr th:only-of-type {\n",
       "        vertical-align: middle;\n",
       "    }\n",
       "\n",
       "    .dataframe tbody tr th {\n",
       "        vertical-align: top;\n",
       "    }\n",
       "\n",
       "    .dataframe thead th {\n",
       "        text-align: right;\n",
       "    }\n",
       "</style>\n",
       "<table border=\"1\" class=\"dataframe\">\n",
       "  <thead>\n",
       "    <tr style=\"text-align: right;\">\n",
       "      <th></th>\n",
       "      <th>Age</th>\n",
       "      <th>Attrition</th>\n",
       "      <th>BusinessTravel</th>\n",
       "      <th>Department</th>\n",
       "      <th>DistanceFromHome</th>\n",
       "      <th>Gender</th>\n",
       "      <th>JobLevel</th>\n",
       "      <th>JobRole</th>\n",
       "      <th>JobSatisfaction</th>\n",
       "      <th>MaritalStatus</th>\n",
       "      <th>...</th>\n",
       "      <th>NumCompaniesWorked</th>\n",
       "      <th>OverTime</th>\n",
       "      <th>PerformanceRating</th>\n",
       "      <th>TotalWorkingYears</th>\n",
       "      <th>TrainingTimesLastYear</th>\n",
       "      <th>YearsAtCompany</th>\n",
       "      <th>YearsInCurrentRole</th>\n",
       "      <th>RateType</th>\n",
       "      <th>Rate</th>\n",
       "      <th>Education_Field</th>\n",
       "    </tr>\n",
       "  </thead>\n",
       "  <tbody>\n",
       "    <tr>\n",
       "      <th>0</th>\n",
       "      <td>31</td>\n",
       "      <td>No</td>\n",
       "      <td>Travel_Rarely</td>\n",
       "      <td>Research_Development</td>\n",
       "      <td>23.0</td>\n",
       "      <td>Male</td>\n",
       "      <td>2</td>\n",
       "      <td>Healthcare_Representative</td>\n",
       "      <td>Very_High</td>\n",
       "      <td>Married</td>\n",
       "      <td>...</td>\n",
       "      <td>0.0</td>\n",
       "      <td>No</td>\n",
       "      <td>Outstanding</td>\n",
       "      <td>10</td>\n",
       "      <td>2</td>\n",
       "      <td>9</td>\n",
       "      <td>0</td>\n",
       "      <td>DailyRate</td>\n",
       "      <td>1463</td>\n",
       "      <td>Bachelor//Medical</td>\n",
       "    </tr>\n",
       "    <tr>\n",
       "      <th>1</th>\n",
       "      <td>31</td>\n",
       "      <td>No</td>\n",
       "      <td>Travel_Rarely</td>\n",
       "      <td>Research_Development</td>\n",
       "      <td>23.0</td>\n",
       "      <td>Male</td>\n",
       "      <td>2</td>\n",
       "      <td>Healthcare_Representative</td>\n",
       "      <td>Very_High</td>\n",
       "      <td>Married</td>\n",
       "      <td>...</td>\n",
       "      <td>0.0</td>\n",
       "      <td>No</td>\n",
       "      <td>Outstanding</td>\n",
       "      <td>10</td>\n",
       "      <td>2</td>\n",
       "      <td>9</td>\n",
       "      <td>0</td>\n",
       "      <td>HourlyRate</td>\n",
       "      <td>64</td>\n",
       "      <td>Bachelor//Medical</td>\n",
       "    </tr>\n",
       "    <tr>\n",
       "      <th>2</th>\n",
       "      <td>31</td>\n",
       "      <td>No</td>\n",
       "      <td>Travel_Rarely</td>\n",
       "      <td>Research_Development</td>\n",
       "      <td>23.0</td>\n",
       "      <td>Male</td>\n",
       "      <td>2</td>\n",
       "      <td>Healthcare_Representative</td>\n",
       "      <td>Very_High</td>\n",
       "      <td>Married</td>\n",
       "      <td>...</td>\n",
       "      <td>0.0</td>\n",
       "      <td>No</td>\n",
       "      <td>Outstanding</td>\n",
       "      <td>10</td>\n",
       "      <td>2</td>\n",
       "      <td>9</td>\n",
       "      <td>0</td>\n",
       "      <td>MonthlyRate</td>\n",
       "      <td>14408</td>\n",
       "      <td>Bachelor//Medical</td>\n",
       "    </tr>\n",
       "    <tr>\n",
       "      <th>3</th>\n",
       "      <td>31</td>\n",
       "      <td>Yes</td>\n",
       "      <td>Travel_Frequently</td>\n",
       "      <td>Research_Development</td>\n",
       "      <td>15.0</td>\n",
       "      <td>Male</td>\n",
       "      <td>1</td>\n",
       "      <td>Laboratory_Technician</td>\n",
       "      <td>High</td>\n",
       "      <td>Married</td>\n",
       "      <td>...</td>\n",
       "      <td>1.0</td>\n",
       "      <td>No</td>\n",
       "      <td>Excellent</td>\n",
       "      <td>2</td>\n",
       "      <td>5</td>\n",
       "      <td>2</td>\n",
       "      <td>2</td>\n",
       "      <td>DailyRate</td>\n",
       "      <td>874</td>\n",
       "      <td>Bachelor//Medical</td>\n",
       "    </tr>\n",
       "    <tr>\n",
       "      <th>4</th>\n",
       "      <td>31</td>\n",
       "      <td>Yes</td>\n",
       "      <td>Travel_Frequently</td>\n",
       "      <td>Research_Development</td>\n",
       "      <td>15.0</td>\n",
       "      <td>Male</td>\n",
       "      <td>1</td>\n",
       "      <td>Laboratory_Technician</td>\n",
       "      <td>High</td>\n",
       "      <td>Married</td>\n",
       "      <td>...</td>\n",
       "      <td>1.0</td>\n",
       "      <td>No</td>\n",
       "      <td>Excellent</td>\n",
       "      <td>2</td>\n",
       "      <td>5</td>\n",
       "      <td>2</td>\n",
       "      <td>2</td>\n",
       "      <td>HourlyRate</td>\n",
       "      <td>72</td>\n",
       "      <td>Bachelor//Medical</td>\n",
       "    </tr>\n",
       "  </tbody>\n",
       "</table>\n",
       "<p>5 rows × 21 columns</p>\n",
       "</div>"
      ],
      "text/plain": [
       "   Age Attrition     BusinessTravel            Department  DistanceFromHome  \\\n",
       "0   31        No      Travel_Rarely  Research_Development              23.0   \n",
       "1   31        No      Travel_Rarely  Research_Development              23.0   \n",
       "2   31        No      Travel_Rarely  Research_Development              23.0   \n",
       "3   31       Yes  Travel_Frequently  Research_Development              15.0   \n",
       "4   31       Yes  Travel_Frequently  Research_Development              15.0   \n",
       "\n",
       "  Gender  JobLevel                    JobRole JobSatisfaction MaritalStatus  \\\n",
       "0   Male         2  Healthcare_Representative       Very_High       Married   \n",
       "1   Male         2  Healthcare_Representative       Very_High       Married   \n",
       "2   Male         2  Healthcare_Representative       Very_High       Married   \n",
       "3   Male         1      Laboratory_Technician            High       Married   \n",
       "4   Male         1      Laboratory_Technician            High       Married   \n",
       "\n",
       "   ...  NumCompaniesWorked  OverTime PerformanceRating TotalWorkingYears  \\\n",
       "0  ...                 0.0        No       Outstanding                10   \n",
       "1  ...                 0.0        No       Outstanding                10   \n",
       "2  ...                 0.0        No       Outstanding                10   \n",
       "3  ...                 1.0        No         Excellent                 2   \n",
       "4  ...                 1.0        No         Excellent                 2   \n",
       "\n",
       "   TrainingTimesLastYear  YearsAtCompany  YearsInCurrentRole     RateType  \\\n",
       "0                      2               9                   0    DailyRate   \n",
       "1                      2               9                   0   HourlyRate   \n",
       "2                      2               9                   0  MonthlyRate   \n",
       "3                      5               2                   2    DailyRate   \n",
       "4                      5               2                   2   HourlyRate   \n",
       "\n",
       "    Rate    Education_Field  \n",
       "0   1463  Bachelor//Medical  \n",
       "1     64  Bachelor//Medical  \n",
       "2  14408  Bachelor//Medical  \n",
       "3    874  Bachelor//Medical  \n",
       "4     72  Bachelor//Medical  \n",
       "\n",
       "[5 rows x 21 columns]"
      ]
     },
     "execution_count": 2,
     "metadata": {},
     "output_type": "execute_result"
    }
   ],
   "source": [
    "# Leemos el fichero de datos\n",
    "empleados = pd.read_csv(\"data/Prueba Examen/empleados.csv\")\n",
    "empleados.head()\n",
    "#empleados.Department.value_counts()"
   ]
  },
  {
   "cell_type": "markdown",
   "id": "9ece0a18",
   "metadata": {},
   "source": [
    "# Apartado1\n",
    "+ **C1¿Cuántas observaciones hay en la tabla? ¿Cuántas variables? ¿Hay datos ausentes? Si la respuesta a la última pregunta es afirmativa, localiza esos datos ausentes indicando en qué filas y columnas se encuentran. Después, antes de seguir adelante, elimina de la tabla las filas que contienen esos datos.**"
   ]
  },
  {
   "cell_type": "code",
   "execution_count": 3,
   "id": "8b65734c",
   "metadata": {},
   "outputs": [
    {
     "name": "stdout",
     "output_type": "stream",
     "text": [
      "El numero de observaciones que hay en la tabla es de (filas, columnas): (3528, 21)\n"
     ]
    }
   ],
   "source": [
    "print(f\"El numero de observaciones que hay en la tabla es de (filas, columnas): {empleados.shape}\")"
   ]
  },
  {
   "cell_type": "code",
   "execution_count": 4,
   "id": "eb1e5a5b",
   "metadata": {},
   "outputs": [
    {
     "name": "stdout",
     "output_type": "stream",
     "text": [
      "<class 'pandas.core.frame.DataFrame'>\n",
      "RangeIndex: 3528 entries, 0 to 3527\n",
      "Data columns (total 21 columns):\n",
      " #   Column                 Non-Null Count  Dtype  \n",
      "---  ------                 --------------  -----  \n",
      " 0   Age                    3528 non-null   int64  \n",
      " 1   Attrition              3528 non-null   object \n",
      " 2   BusinessTravel         3528 non-null   object \n",
      " 3   Department             3528 non-null   object \n",
      " 4   DistanceFromHome       3519 non-null   float64\n",
      " 5   Gender                 3528 non-null   object \n",
      " 6   JobLevel               3528 non-null   int64  \n",
      " 7   JobRole                3528 non-null   object \n",
      " 8   JobSatisfaction        3528 non-null   object \n",
      " 9   MaritalStatus          3528 non-null   object \n",
      " 10  MonthlyIncome          3528 non-null   int64  \n",
      " 11  NumCompaniesWorked     3522 non-null   float64\n",
      " 12  OverTime               3528 non-null   object \n",
      " 13  PerformanceRating      3528 non-null   object \n",
      " 14  TotalWorkingYears      3528 non-null   int64  \n",
      " 15  TrainingTimesLastYear  3528 non-null   int64  \n",
      " 16  YearsAtCompany         3528 non-null   int64  \n",
      " 17  YearsInCurrentRole     3528 non-null   int64  \n",
      " 18  RateType               3528 non-null   object \n",
      " 19  Rate                   3528 non-null   int64  \n",
      " 20  Education_Field        3528 non-null   object \n",
      "dtypes: float64(2), int64(8), object(11)\n",
      "memory usage: 578.9+ KB\n",
      "Las columnas(variables) que componen la tabla son: None\n"
     ]
    }
   ],
   "source": [
    "print(f\"Las columnas(variables) que componen la tabla son: {empleados.info()}\")"
   ]
  },
  {
   "cell_type": "markdown",
   "id": "26e29f7f",
   "metadata": {},
   "source": [
    "En esta tabla, se puede ver que hay variables de varios tipos\n",
    "+ **int64**: Como la edad o el nivel del trabajo\n",
    "+ **float64**: Como DistanceFromHome\n",
    "+ **Object** (factores): Como Education_Field"
   ]
  },
  {
   "cell_type": "code",
   "execution_count": 5,
   "id": "7d30b865",
   "metadata": {},
   "outputs": [
    {
     "name": "stdout",
     "output_type": "stream",
     "text": [
      "¿Hay algún valor nulo?: True\n"
     ]
    }
   ],
   "source": [
    "# Localizamos los datos ausentes\n",
    "Nan = empleados.isnull().values.any()\n",
    "print(f\"¿Hay algún valor nulo?: {Nan}\")"
   ]
  },
  {
   "cell_type": "code",
   "execution_count": 6,
   "id": "fc848ed6",
   "metadata": {},
   "outputs": [
    {
     "name": "stdout",
     "output_type": "stream",
     "text": [
      "El numero de valores nulos que hay en cada columna es de:\n",
      "Age                      0\n",
      "Attrition                0\n",
      "BusinessTravel           0\n",
      "Department               0\n",
      "DistanceFromHome         9\n",
      "Gender                   0\n",
      "JobLevel                 0\n",
      "JobRole                  0\n",
      "JobSatisfaction          0\n",
      "MaritalStatus            0\n",
      "MonthlyIncome            0\n",
      "NumCompaniesWorked       6\n",
      "OverTime                 0\n",
      "PerformanceRating        0\n",
      "TotalWorkingYears        0\n",
      "TrainingTimesLastYear    0\n",
      "YearsAtCompany           0\n",
      "YearsInCurrentRole       0\n",
      "RateType                 0\n",
      "Rate                     0\n",
      "Education_Field          0\n",
      "dtype: int64\n"
     ]
    }
   ],
   "source": [
    "por_columna=empleados.isna().sum()\n",
    "print(f\"El numero de valores nulos que hay en cada columna es de:\\n{por_columna}\")"
   ]
  },
  {
   "cell_type": "markdown",
   "id": "ee82a731",
   "metadata": {},
   "source": [
    "Podemos ver que hay valores nulos en las columnas de `DistanceFromHome` y `NumCompaniesWorked`.\n",
    "\n",
    "Localizamos en qué fila se encuentra cada uno de ellos:"
   ]
  },
  {
   "cell_type": "code",
   "execution_count": 7,
   "id": "a7efc3da",
   "metadata": {},
   "outputs": [
    {
     "name": "stdout",
     "output_type": "stream",
     "text": [
      "Las filas en las que hay valores nulos para la variable 'DistanceFromHome' son: Int64Index([30, 31, 32, 897, 898, 899, 1593, 1594, 1595], dtype='int64')\n",
      "Las filas en las que hay valores nulos para la variable 'NumCompaniesWorked' son: Int64Index([147, 148, 149, 1092, 1093, 1094], dtype='int64')\n"
     ]
    }
   ],
   "source": [
    "Nan_distanceFromHome = empleados.loc[empleados.DistanceFromHome.isna()].index\n",
    "Nan_NumCompaniesWorked = empleados.loc[empleados.NumCompaniesWorked.isna()].index\n",
    "\n",
    "print(f\"Las filas en las que hay valores nulos para la variable 'DistanceFromHome' son: {Nan_distanceFromHome}\")\n",
    "print(f\"Las filas en las que hay valores nulos para la variable 'NumCompaniesWorked' son: {Nan_NumCompaniesWorked}\")"
   ]
  },
  {
   "cell_type": "code",
   "execution_count": 8,
   "id": "3c93d0ac",
   "metadata": {},
   "outputs": [
    {
     "name": "stdout",
     "output_type": "stream",
     "text": [
      "Valores nulos eliminados\n"
     ]
    }
   ],
   "source": [
    "# Una vez localizamos los eliminamos\n",
    "empleados.dropna(inplace=True)\n",
    "print(\"Valores nulos eliminados\")"
   ]
  },
  {
   "cell_type": "code",
   "execution_count": 9,
   "id": "ebfc94e2",
   "metadata": {},
   "outputs": [
    {
     "data": {
      "text/plain": [
       "False"
      ]
     },
     "execution_count": 9,
     "metadata": {},
     "output_type": "execute_result"
    }
   ],
   "source": [
    "# Una vez eliminados, podemos comprobar si se ha hecho correctamente\n",
    "np.any(empleados.isna())"
   ]
  },
  {
   "cell_type": "markdown",
   "id": "99c3e9b7",
   "metadata": {},
   "source": [
    " + **C2:\n",
    "Vamos a fijarnos en las tres últimas columnas de la tabla, que son:**\n",
    "    ```\n",
    "    RateType,     Rate,     Education_Field\n",
    "    ```  \n",
    "\n",
    "**En particular verás que las columnas `Rate` y `RateType` incumplen una de las condiciones que definen a los conjuntos de datos limpios (*tidy*), porque la columna `Rate` mezcla los valores de más de una variable. La variable correspondiente se indica en la columna `Rate_type`.  Por otro lado, `Education_Field` incumple otra de esas condiciones, porque cada fila de esa tabla combina los valores de dos variable. En este apartado debes limpiar el conjunto de datos utilizando las herramientas del `tidyverse`. Visualiza el resultado usando `select` para que la salida del código muestre exclusivamente las variables que se han modificado en este apartado (¡cuidado, no modifiques los datos al hacer esto!**\n",
    "\n",
    "\n",
    "**NOTA IMPORTANTE (2022):** este apartado estaba diseñado para usar funciones de la librería `tidyR` de R, que se había practicado en clase. Este curso no hemos visto un análogo en Python y por tanto un apartado como este no aparecería en nuestro examen para este año. Pero por si fuera de interés, incluimos aquí una solución para el apartado usando herramientas de Python. Si no quieres entretetenerte, mira como queda la tabla al final de este apartado y pasa a la siguiente pregunta"
   ]
  },
  {
   "cell_type": "code",
   "execution_count": 10,
   "id": "ebf56541",
   "metadata": {},
   "outputs": [],
   "source": [
    "# TODO: como extra"
   ]
  },
  {
   "cell_type": "markdown",
   "id": "078fd9c4",
   "metadata": {},
   "source": [
    "+ **C3: Una vez limpios los datos: ¿de qué tipo son las variables del conjunto de datos? Usa la función `mutate_if` de `dplyr` (o alternativamente usa `across`) para asegurarte de que todas las variables de esta tabla que se han leído como `character` se convierten en factores. Mira la ayuda de `mutate_if` para hacer esto si lo necesitas. Después haz una lista de variables cuantitativas y otra de variables cualitativas (factores). ¿Cuáles, dentro de estas últimas, son factores ordenados (no es necesario incluir el orden en el proceso de transformación de estos factores)?**"
   ]
  },
  {
   "cell_type": "code",
   "execution_count": 11,
   "id": "bf3f06ed",
   "metadata": {},
   "outputs": [
    {
     "data": {
      "text/plain": [
       "Age                        int64\n",
       "Attrition                 object\n",
       "BusinessTravel            object\n",
       "Department                object\n",
       "DistanceFromHome         float64\n",
       "Gender                    object\n",
       "JobLevel                   int64\n",
       "JobRole                   object\n",
       "JobSatisfaction           object\n",
       "MaritalStatus             object\n",
       "MonthlyIncome              int64\n",
       "NumCompaniesWorked       float64\n",
       "OverTime                  object\n",
       "PerformanceRating         object\n",
       "TotalWorkingYears          int64\n",
       "TrainingTimesLastYear      int64\n",
       "YearsAtCompany             int64\n",
       "YearsInCurrentRole         int64\n",
       "RateType                  object\n",
       "Rate                       int64\n",
       "Education_Field           object\n",
       "dtype: object"
      ]
     },
     "execution_count": 11,
     "metadata": {},
     "output_type": "execute_result"
    }
   ],
   "source": [
    "# Observamos los tipos de las variables\n",
    "empleados.dtypes"
   ]
  },
  {
   "cell_type": "code",
   "execution_count": 12,
   "id": "22e4977c",
   "metadata": {},
   "outputs": [
    {
     "data": {
      "text/plain": [
       "Index(['Attrition', 'BusinessTravel', 'Department', 'Gender', 'JobRole',\n",
       "       'JobSatisfaction', 'MaritalStatus', 'OverTime', 'PerformanceRating',\n",
       "       'RateType', 'Education_Field'],\n",
       "      dtype='object')"
      ]
     },
     "execution_count": 12,
     "metadata": {},
     "output_type": "execute_result"
    }
   ],
   "source": [
    "# Las variables de tipo object son factores\n",
    "empleados.columns[empleados.dtypes == object]"
   ]
  },
  {
   "cell_type": "code",
   "execution_count": 13,
   "id": "a43774c9",
   "metadata": {},
   "outputs": [
    {
     "data": {
      "text/plain": [
       "Index(['Age', 'DistanceFromHome', 'JobLevel', 'MonthlyIncome',\n",
       "       'NumCompaniesWorked', 'TotalWorkingYears', 'TrainingTimesLastYear',\n",
       "       'YearsAtCompany', 'YearsInCurrentRole', 'Rate'],\n",
       "      dtype='object')"
      ]
     },
     "execution_count": 13,
     "metadata": {},
     "output_type": "execute_result"
    }
   ],
   "source": [
    "# el resto de variables son numéricas\n",
    "empleados.columns[empleados.dtypes != 'object']"
   ]
  },
  {
   "cell_type": "code",
   "execution_count": 14,
   "id": "e5ff3344",
   "metadata": {},
   "outputs": [
    {
     "data": {
      "text/html": [
       "<div>\n",
       "<style scoped>\n",
       "    .dataframe tbody tr th:only-of-type {\n",
       "        vertical-align: middle;\n",
       "    }\n",
       "\n",
       "    .dataframe tbody tr th {\n",
       "        vertical-align: top;\n",
       "    }\n",
       "\n",
       "    .dataframe thead th {\n",
       "        text-align: right;\n",
       "    }\n",
       "</style>\n",
       "<table border=\"1\" class=\"dataframe\">\n",
       "  <thead>\n",
       "    <tr style=\"text-align: right;\">\n",
       "      <th></th>\n",
       "      <th>Attrition</th>\n",
       "      <th>BusinessTravel</th>\n",
       "      <th>Department</th>\n",
       "      <th>Gender</th>\n",
       "      <th>JobRole</th>\n",
       "      <th>JobSatisfaction</th>\n",
       "      <th>MaritalStatus</th>\n",
       "      <th>OverTime</th>\n",
       "      <th>PerformanceRating</th>\n",
       "      <th>RateType</th>\n",
       "      <th>Education_Field</th>\n",
       "    </tr>\n",
       "  </thead>\n",
       "  <tbody>\n",
       "    <tr>\n",
       "      <th>0</th>\n",
       "      <td>No</td>\n",
       "      <td>Travel_Rarely</td>\n",
       "      <td>Research_Development</td>\n",
       "      <td>Male</td>\n",
       "      <td>Healthcare_Representative</td>\n",
       "      <td>Very_High</td>\n",
       "      <td>Married</td>\n",
       "      <td>No</td>\n",
       "      <td>Outstanding</td>\n",
       "      <td>DailyRate</td>\n",
       "      <td>Bachelor//Medical</td>\n",
       "    </tr>\n",
       "    <tr>\n",
       "      <th>1</th>\n",
       "      <td>No</td>\n",
       "      <td>Travel_Rarely</td>\n",
       "      <td>Research_Development</td>\n",
       "      <td>Male</td>\n",
       "      <td>Healthcare_Representative</td>\n",
       "      <td>Very_High</td>\n",
       "      <td>Married</td>\n",
       "      <td>No</td>\n",
       "      <td>Outstanding</td>\n",
       "      <td>HourlyRate</td>\n",
       "      <td>Bachelor//Medical</td>\n",
       "    </tr>\n",
       "    <tr>\n",
       "      <th>2</th>\n",
       "      <td>No</td>\n",
       "      <td>Travel_Rarely</td>\n",
       "      <td>Research_Development</td>\n",
       "      <td>Male</td>\n",
       "      <td>Healthcare_Representative</td>\n",
       "      <td>Very_High</td>\n",
       "      <td>Married</td>\n",
       "      <td>No</td>\n",
       "      <td>Outstanding</td>\n",
       "      <td>MonthlyRate</td>\n",
       "      <td>Bachelor//Medical</td>\n",
       "    </tr>\n",
       "    <tr>\n",
       "      <th>3</th>\n",
       "      <td>Yes</td>\n",
       "      <td>Travel_Frequently</td>\n",
       "      <td>Research_Development</td>\n",
       "      <td>Male</td>\n",
       "      <td>Laboratory_Technician</td>\n",
       "      <td>High</td>\n",
       "      <td>Married</td>\n",
       "      <td>No</td>\n",
       "      <td>Excellent</td>\n",
       "      <td>DailyRate</td>\n",
       "      <td>Bachelor//Medical</td>\n",
       "    </tr>\n",
       "    <tr>\n",
       "      <th>4</th>\n",
       "      <td>Yes</td>\n",
       "      <td>Travel_Frequently</td>\n",
       "      <td>Research_Development</td>\n",
       "      <td>Male</td>\n",
       "      <td>Laboratory_Technician</td>\n",
       "      <td>High</td>\n",
       "      <td>Married</td>\n",
       "      <td>No</td>\n",
       "      <td>Excellent</td>\n",
       "      <td>HourlyRate</td>\n",
       "      <td>Bachelor//Medical</td>\n",
       "    </tr>\n",
       "    <tr>\n",
       "      <th>...</th>\n",
       "      <td>...</td>\n",
       "      <td>...</td>\n",
       "      <td>...</td>\n",
       "      <td>...</td>\n",
       "      <td>...</td>\n",
       "      <td>...</td>\n",
       "      <td>...</td>\n",
       "      <td>...</td>\n",
       "      <td>...</td>\n",
       "      <td>...</td>\n",
       "      <td>...</td>\n",
       "    </tr>\n",
       "    <tr>\n",
       "      <th>3523</th>\n",
       "      <td>No</td>\n",
       "      <td>Travel_Frequently</td>\n",
       "      <td>Sales</td>\n",
       "      <td>Female</td>\n",
       "      <td>Sales_Representative</td>\n",
       "      <td>Very_High</td>\n",
       "      <td>Married</td>\n",
       "      <td>No</td>\n",
       "      <td>Excellent</td>\n",
       "      <td>HourlyRate</td>\n",
       "      <td>College//Medical</td>\n",
       "    </tr>\n",
       "    <tr>\n",
       "      <th>3524</th>\n",
       "      <td>No</td>\n",
       "      <td>Travel_Frequently</td>\n",
       "      <td>Sales</td>\n",
       "      <td>Female</td>\n",
       "      <td>Sales_Representative</td>\n",
       "      <td>Very_High</td>\n",
       "      <td>Married</td>\n",
       "      <td>No</td>\n",
       "      <td>Excellent</td>\n",
       "      <td>MonthlyRate</td>\n",
       "      <td>College//Medical</td>\n",
       "    </tr>\n",
       "    <tr>\n",
       "      <th>3525</th>\n",
       "      <td>No</td>\n",
       "      <td>Travel_Rarely</td>\n",
       "      <td>Sales</td>\n",
       "      <td>Male</td>\n",
       "      <td>Sales_Executive</td>\n",
       "      <td>High</td>\n",
       "      <td>Married</td>\n",
       "      <td>No</td>\n",
       "      <td>Excellent</td>\n",
       "      <td>DailyRate</td>\n",
       "      <td>Bachelor//Life_Sciences</td>\n",
       "    </tr>\n",
       "    <tr>\n",
       "      <th>3526</th>\n",
       "      <td>No</td>\n",
       "      <td>Travel_Rarely</td>\n",
       "      <td>Sales</td>\n",
       "      <td>Male</td>\n",
       "      <td>Sales_Executive</td>\n",
       "      <td>High</td>\n",
       "      <td>Married</td>\n",
       "      <td>No</td>\n",
       "      <td>Excellent</td>\n",
       "      <td>HourlyRate</td>\n",
       "      <td>Bachelor//Life_Sciences</td>\n",
       "    </tr>\n",
       "    <tr>\n",
       "      <th>3527</th>\n",
       "      <td>No</td>\n",
       "      <td>Travel_Rarely</td>\n",
       "      <td>Sales</td>\n",
       "      <td>Male</td>\n",
       "      <td>Sales_Executive</td>\n",
       "      <td>High</td>\n",
       "      <td>Married</td>\n",
       "      <td>No</td>\n",
       "      <td>Excellent</td>\n",
       "      <td>MonthlyRate</td>\n",
       "      <td>Bachelor//Life_Sciences</td>\n",
       "    </tr>\n",
       "  </tbody>\n",
       "</table>\n",
       "<p>3513 rows × 11 columns</p>\n",
       "</div>"
      ],
      "text/plain": [
       "     Attrition     BusinessTravel            Department  Gender  \\\n",
       "0           No      Travel_Rarely  Research_Development    Male   \n",
       "1           No      Travel_Rarely  Research_Development    Male   \n",
       "2           No      Travel_Rarely  Research_Development    Male   \n",
       "3          Yes  Travel_Frequently  Research_Development    Male   \n",
       "4          Yes  Travel_Frequently  Research_Development    Male   \n",
       "...        ...                ...                   ...     ...   \n",
       "3523        No  Travel_Frequently                 Sales  Female   \n",
       "3524        No  Travel_Frequently                 Sales  Female   \n",
       "3525        No      Travel_Rarely                 Sales    Male   \n",
       "3526        No      Travel_Rarely                 Sales    Male   \n",
       "3527        No      Travel_Rarely                 Sales    Male   \n",
       "\n",
       "                        JobRole JobSatisfaction MaritalStatus OverTime  \\\n",
       "0     Healthcare_Representative       Very_High       Married       No   \n",
       "1     Healthcare_Representative       Very_High       Married       No   \n",
       "2     Healthcare_Representative       Very_High       Married       No   \n",
       "3         Laboratory_Technician            High       Married       No   \n",
       "4         Laboratory_Technician            High       Married       No   \n",
       "...                         ...             ...           ...      ...   \n",
       "3523       Sales_Representative       Very_High       Married       No   \n",
       "3524       Sales_Representative       Very_High       Married       No   \n",
       "3525            Sales_Executive            High       Married       No   \n",
       "3526            Sales_Executive            High       Married       No   \n",
       "3527            Sales_Executive            High       Married       No   \n",
       "\n",
       "     PerformanceRating     RateType          Education_Field  \n",
       "0          Outstanding    DailyRate        Bachelor//Medical  \n",
       "1          Outstanding   HourlyRate        Bachelor//Medical  \n",
       "2          Outstanding  MonthlyRate        Bachelor//Medical  \n",
       "3            Excellent    DailyRate        Bachelor//Medical  \n",
       "4            Excellent   HourlyRate        Bachelor//Medical  \n",
       "...                ...          ...                      ...  \n",
       "3523         Excellent   HourlyRate         College//Medical  \n",
       "3524         Excellent  MonthlyRate         College//Medical  \n",
       "3525         Excellent    DailyRate  Bachelor//Life_Sciences  \n",
       "3526         Excellent   HourlyRate  Bachelor//Life_Sciences  \n",
       "3527         Excellent  MonthlyRate  Bachelor//Life_Sciences  \n",
       "\n",
       "[3513 rows x 11 columns]"
      ]
     },
     "execution_count": 14,
     "metadata": {},
     "output_type": "execute_result"
    }
   ],
   "source": [
    "# Para convertir las variables object (facctores) a categóricas, hacemos lo siguiente\n",
    "empleados_objects = empleados.columns[empleados.dtypes == 'object']\n",
    "empleados[empleados_objects] = empleados[empleados_objects].astype('category')\n",
    "# comprobamos que se han convertido a categoría correctamente y buscamos los ordenados\n",
    "empleados_cat = empleados.columns[empleados.dtypes == 'category']\n",
    "empleados.loc[:,empleados_cat]\n",
    "# Los ordenados son JobSatisfaction, Performance Rating y Educational_Field"
   ]
  },
  {
   "cell_type": "code",
   "execution_count": null,
   "id": "0dc6df02",
   "metadata": {},
   "outputs": [],
   "source": []
  },
  {
   "cell_type": "markdown",
   "id": "24695179",
   "metadata": {},
   "source": [
    "## Apartado 2\n",
    "\n",
    "+ **C4: Representa gráficamente la distribución de la variable edad `Age` mediante un histograma con la curva de densidad de la variable superpuesta. Recuerda que en este y otros apartados se valorará positivamente el uso de ggplot. Representa también un boxplot de la variable edad. Opcionalmente puedes usar un violinpot o añadir los puntos de la muestra (asegúrate en ese caso de que no impiden ver el boxplot).** \n"
   ]
  },
  {
   "cell_type": "code",
   "execution_count": 15,
   "id": "ef03c5d7",
   "metadata": {},
   "outputs": [
    {
     "data": {
      "image/png": "[encoded data removed]",
      "text/plain": [
       "<Figure size 640x480 with 1 Axes>"
      ]
     },
     "metadata": {},
     "output_type": "display_data"
    }
   ],
   "source": [
    "# En primer lugar, representamos el histograma y curva de densidad de la variable edad\n",
    "# KDE pinta la linea de densidad (sin ello solo pinta el histograma)\n",
    "# data = Estructura/datos de entrada\n",
    "# x, y = vectores o claves que especifican los ejes\n",
    "# stat = density --> para normalizar el eje y, el area total suma 1 (rel_freq)\n",
    "dens_plot = sns.histplot(data = empleados, x = 'Age', kde=True)#, stat='density')\n",
    "# Editamos el color y grosor de la curva de densidad\n",
    "dens_plot.lines[0].set_color('red')\n",
    "dens_plot.lines[0].set_linewidth(3)\n",
    "getPlot = plt.title(\"Representacion de la distribución de la variable edad\")"
   ]
  },
  {
   "cell_type": "code",
   "execution_count": 16,
   "id": "7daac1a2",
   "metadata": {},
   "outputs": [
    {
     "data": {
      "image/png": "[encoded data removed]",
      "text/plain": [
       "<Figure size 640x480 with 1 Axes>"
      ]
     },
     "metadata": {},
     "output_type": "display_data"
    }
   ],
   "source": [
    "# Vamos a representar un violinplot, y sobre ello un boxplot, pintando tambien un scatterplot de los puntos de la variable,\n",
    "# para observar mejor su distribucion\n",
    "sns.violinplot(y= empleados.Age, alpha = 0.3, color = \"skyblue\", width=0.25)\n",
    "sns.stripplot(y='Age', data=empleados, color=\"red\", alpha = 0.15, jitter=0.1)\n",
    "sns.boxplot(y= empleados.Age, width=0.5, color = \"tan\")\n",
    "plt.show()"
   ]
  },
  {
   "cell_type": "markdown",
   "id": "403d5a6c",
   "metadata": {},
   "source": [
    "+ **C5: Estudia gráficamente (por ejemplo con boxplots) la relación entre la variable `Age` y la variable `Attrition`. ¿Influye el género en esa relación? Usa los recursos gráficos de ggplot para discutir la respuesta, lo que se busca es un juicio inicial basado en una  exploración gráfica.**\n",
    "\n",
    "+ El siguiente gráfico de boxplots paralelos por niveles muestra que el valor de `Age` es más bajo entre aquellos empleados para los que `Attrition` es `Yes`. Es decir, que los empleados de menor edad tienen más probabilidad de dejar la compañía. Pero no podemos deducir a partir de este gráfico si esa diferencia de edad entre los dos grupos es significativa."
   ]
  },
  {
   "cell_type": "code",
   "execution_count": 17,
   "id": "ed47e884",
   "metadata": {},
   "outputs": [
    {
     "data": {
      "image/png": "[encoded data removed]",
      "text/plain": [
       "<Figure size 640x480 with 1 Axes>"
      ]
     },
     "metadata": {},
     "output_type": "display_data"
    }
   ],
   "source": [
    "# Vamos a pintar las variables Age y attrition con boxplots\n",
    "# esta es la lista de clases ordenada\n",
    "class_order_by_age = list(empleados[['Age', 'Attrition']].groupby('Attrition').median().sort_values('Age').index)\n",
    "\n",
    "# con el parámetro order podemos especificar el orden en el que queremos pintarlo\n",
    "sns.boxplot(x='Attrition', y='Age', data=empleados, order=class_order_by_age)\n",
    "plt.show()"
   ]
  },
  {
   "cell_type": "code",
   "execution_count": 18,
   "id": "bfa1e932",
   "metadata": {},
   "outputs": [
    {
     "data": {
      "image/png": "[encoded data removed]",
      "text/plain": [
       "<Figure size 640x480 with 1 Axes>"
      ]
     },
     "metadata": {},
     "output_type": "display_data"
    }
   ],
   "source": [
    "# Ahora vamos a separar cada uno de los plots por género, para ver si influye o no\n",
    "# esta es la lista de clases ordenada\n",
    "class_order_by_age = list(empleados[['Age', 'Attrition']].groupby('Attrition').median().sort_values('Age').index)\n",
    "\n",
    "# con el parámetro order podemos especificar el orden en el que queremos pintarlo\n",
    "sns.boxplot(x='Attrition', y='Age', data=empleados, hue='Gender', order=class_order_by_age)\n",
    "plt.show()"
   ]
  },
  {
   "cell_type": "markdown",
   "id": "5d7fc256",
   "metadata": {},
   "source": [
    "+ Para estudiar gráficamente el posible efecto del género en esta relación usamos el argumento `hue`. Los boxplots paralelos en este caso muestran que la diferencia de edad entre los dos grupos es, en el caso de las mujeres, más acusada que en general. "
   ]
  },
  {
   "cell_type": "markdown",
   "id": "1ff3a93d",
   "metadata": {},
   "source": [
    "+ **C6: Haz la tabla de frecuencias absolutas del factor `JobSatisfaction`. Después haz una representación gráfica adecuada de esa tabla. Opcionales:** \n",
    "    - **juega con los argumentos `fill` y `position` de `ggplot` para incorporar al gráfico la información de `Attrition` mediante colores.** \n",
    "    - **ten en cuenta que `JobSatisfaction` es un factor ordenado y trata de incorporar esa ordenación a la representación gráfica. Indicación: usa la función `factor` y sus argumentos `levels` y `ordered` para esto.**"
   ]
  },
  {
   "cell_type": "code",
   "execution_count": 19,
   "id": "9d33df44",
   "metadata": {},
   "outputs": [
    {
     "data": {
      "text/plain": [
       "High         1056\n",
       "Low           693\n",
       "Medium        657\n",
       "Very_High    1107\n",
       "Name: JobSatisfaction, dtype: int64"
      ]
     },
     "execution_count": 19,
     "metadata": {},
     "output_type": "execute_result"
    }
   ],
   "source": [
    "# tabla de frecuencias absolutas\n",
    "AbsFreq_JobSatisfaction = empleados.JobSatisfaction.value_counts().sort_index()\n",
    "AbsFreq_JobSatisfaction"
   ]
  },
  {
   "cell_type": "code",
   "execution_count": 20,
   "id": "ab4f9a81",
   "metadata": {},
   "outputs": [
    {
     "data": {
      "image/png": "[encoded data removed]",
      "text/plain": [
       "<Figure size 640x480 with 1 Axes>"
      ]
     },
     "metadata": {},
     "output_type": "display_data"
    }
   ],
   "source": [
    "# Para representar gráficamente la tabla de frecuencias usaremos un diagrama de barras\n",
    "plot = AbsFreq_JobSatisfaction.plot.bar(rot=0, xlabel='JobSatisfaction', ylabel ='Counts')"
   ]
  },
  {
   "cell_type": "code",
   "execution_count": 21,
   "id": "f934305a",
   "metadata": {},
   "outputs": [
    {
     "data": {
      "text/html": [
       "<div>\n",
       "<style scoped>\n",
       "    .dataframe tbody tr th:only-of-type {\n",
       "        vertical-align: middle;\n",
       "    }\n",
       "\n",
       "    .dataframe tbody tr th {\n",
       "        vertical-align: top;\n",
       "    }\n",
       "\n",
       "    .dataframe thead th {\n",
       "        text-align: right;\n",
       "    }\n",
       "</style>\n",
       "<table border=\"1\" class=\"dataframe\">\n",
       "  <thead>\n",
       "    <tr style=\"text-align: right;\">\n",
       "      <th>Attrition</th>\n",
       "      <th>No</th>\n",
       "      <th>Yes</th>\n",
       "    </tr>\n",
       "    <tr>\n",
       "      <th>JobSatisfaction</th>\n",
       "      <th></th>\n",
       "      <th></th>\n",
       "    </tr>\n",
       "  </thead>\n",
       "  <tbody>\n",
       "    <tr>\n",
       "      <th>High</th>\n",
       "      <td>891</td>\n",
       "      <td>165</td>\n",
       "    </tr>\n",
       "    <tr>\n",
       "      <th>Low</th>\n",
       "      <td>534</td>\n",
       "      <td>159</td>\n",
       "    </tr>\n",
       "    <tr>\n",
       "      <th>Medium</th>\n",
       "      <td>555</td>\n",
       "      <td>102</td>\n",
       "    </tr>\n",
       "    <tr>\n",
       "      <th>Very_High</th>\n",
       "      <td>990</td>\n",
       "      <td>117</td>\n",
       "    </tr>\n",
       "  </tbody>\n",
       "</table>\n",
       "</div>"
      ],
      "text/plain": [
       "Attrition         No  Yes\n",
       "JobSatisfaction          \n",
       "High             891  165\n",
       "Low              534  159\n",
       "Medium           555  102\n",
       "Very_High        990  117"
      ]
     },
     "execution_count": 21,
     "metadata": {},
     "output_type": "execute_result"
    }
   ],
   "source": [
    "# Añadimos la informacion de artrition al gráfico apilando la informacion. En primer lugar la ordenamos\n",
    "# Relacion entre dos factores\n",
    "\n",
    "CT = pd.crosstab(empleados['JobSatisfaction'], empleados['Attrition'])\n",
    "CT"
   ]
  },
  {
   "cell_type": "code",
   "execution_count": 22,
   "id": "6334fbf4",
   "metadata": {},
   "outputs": [
    {
     "data": {
      "image/png": "[encoded data removed]",
      "text/plain": [
       "<Figure size 640x480 with 1 Axes>"
      ]
     },
     "metadata": {},
     "output_type": "display_data"
    }
   ],
   "source": [
    "# Calculamos los totales\n",
    "# We add to the table the totals for each row\n",
    "CT['total'] = CT.sum(axis=1)\n",
    "# Sort the table using those totals\n",
    "CT.sort_values('total', inplace=True)\n",
    "# Remove them so thay do not interfere with the graphic\n",
    "CT2= CT.drop(columns='total')\n",
    "# And plot the bar plot\n",
    "# Para pintar lo mismo con porcentajes\n",
    "percents = CT2.div(CT.total, axis = 0).mul(100).round(2)\n",
    "\n",
    "percents.iloc[:, 0]\n",
    "\n",
    "ax = CT2.plot.bar(stacked = True, rot = 0)\n",
    "\n",
    "for i in range(len(ax.containers)):\n",
    "    \n",
    "    c = ax.containers[i]  \n",
    "    # percent labels (or empty string below a threshold for close to 0%)\n",
    "    labels = [f'{v:2.2f}%' if (v > 1) else '' for v in percents.iloc[:, i]]  \n",
    "    # add labels to bars\n",
    "    ax.bar_label(c, labels=labels, label_type='center',   fontsize=15)\n",
    "\n",
    "\n",
    "plt.show() "
   ]
  },
  {
   "cell_type": "markdown",
   "id": "a4fa2533",
   "metadata": {},
   "source": [
    "## Apartado 3\n",
    "\n",
    "+ **C7: Calcula la mediana del salario mensual para cada departamento y cada nivel dentro de ese departamento. Ordena la respuesta de mayor a menor y asegúrate de que en la tabla de salida se muestran las columnas relevantes.** "
   ]
  },
  {
   "cell_type": "code",
   "execution_count": 23,
   "id": "7c0eb4dc",
   "metadata": {},
   "outputs": [
    {
     "data": {
      "text/plain": [
       "Department            JobLevel\n",
       "Research_Development  5           19326.0\n",
       "Human_Resources       5           19189.0\n",
       "Sales                 5           19068.0\n",
       "Human_Resources       4           16799.0\n",
       "Research_Development  4           16413.0\n",
       "Sales                 4           15427.0\n",
       "Research_Development  3           10293.0\n",
       "Human_Resources       3            9756.0\n",
       "Sales                 3            9419.0\n",
       "Human_Resources       2            5910.0\n",
       "Sales                 2            5396.0\n",
       "Research_Development  2            5238.0\n",
       "Human_Resources       1            2706.0\n",
       "Research_Development  1            2700.0\n",
       "Sales                 1            2575.5\n",
       "Name: MonthlyIncome, dtype: float64"
      ]
     },
     "execution_count": 23,
     "metadata": {},
     "output_type": "execute_result"
    }
   ],
   "source": [
    "empleados.groupby(['Department', 'JobLevel']).MonthlyIncome.median().sort_values(ascending=False)\n"
   ]
  },
  {
   "cell_type": "markdown",
   "id": "9df40079",
   "metadata": {},
   "source": [
    "+ **C8: Si elegimos al azar un empleado cuyo nivel de satisfacción en el trabajo `JobSatisfaction` es `VeryHigh`, calcula la probabilidad de que sea soltero. Si elegimos un empleado de la empresa al azar ¿cuál es la probabilidad de que sea una mujer que lleva más de cinco años en la empresa?**"
   ]
  },
  {
   "cell_type": "code",
   "execution_count": 24,
   "id": "1b9c5621",
   "metadata": {},
   "outputs": [
    {
     "data": {
      "text/plain": [
       "Married     0.425474\n",
       "Single      0.355014\n",
       "Divorced    0.219512\n",
       "Name: MaritalStatus, dtype: float64"
      ]
     },
     "execution_count": 24,
     "metadata": {},
     "output_type": "execute_result"
    }
   ],
   "source": [
    "# prob(soltero| jobSatisfaction=Very High)\n",
    "empleados[empleados.JobSatisfaction == 'Very_High'].MaritalStatus.value_counts(normalize = True)"
   ]
  },
  {
   "cell_type": "markdown",
   "id": "fe7466b3",
   "metadata": {},
   "source": [
    "Para ver la probabilidad, normalizamos la tabla de frecuencias para calcular las relativas (probabilidades)\n",
    "Podemos ver que la prob que buscamos es de **p(Soltero | jobSatisfaction=Very High) = 0.355014**"
   ]
  },
  {
   "cell_type": "code",
   "execution_count": 25,
   "id": "4dd017b4",
   "metadata": {},
   "outputs": [
    {
     "name": "stdout",
     "output_type": "stream",
     "text": [
      "La probabilidad de escoger a una mujer que lleve más de 5 años en la empresa es de 0.19726729291204098\n"
     ]
    }
   ],
   "source": [
    "p = len(empleados[(empleados.Gender == 'Female') & (empleados.YearsAtCompany > 5)])/len(empleados)\n",
    "\n",
    "print(f\"La probabilidad de escoger a una mujer que lleve más de 5 años en la empresa es de {p}\")"
   ]
  },
  {
   "cell_type": "markdown",
   "id": "366f4817",
   "metadata": {},
   "source": [
    "+ **C9: Si elegimos 12 empleados de esta compañía al azar y con remplezamiento, ¿cuál es la probabilidad\n",
    "de que 4 de ellos hayan trabajado en 3 o más compañías (NumCompaniesWorked)?**"
   ]
  },
  {
   "cell_type": "code",
   "execution_count": 26,
   "id": "ca962e0b",
   "metadata": {},
   "outputs": [
    {
     "data": {
      "text/plain": [
       "0.41417591801878734"
      ]
     },
     "execution_count": 26,
     "metadata": {},
     "output_type": "execute_result"
    }
   ],
   "source": [
    "# Muestreo con remplazamiento (binomial P(X=4)) Tenemos que calcular la media\n",
    "p_binom = np.mean(empleados['NumCompaniesWorked'] >= 3)\n",
    "p_binom"
   ]
  },
  {
   "cell_type": "code",
   "execution_count": 27,
   "id": "c44ff410",
   "metadata": {},
   "outputs": [
    {
     "data": {
      "text/plain": [
       "0.2020609256259767"
      ]
     },
     "execution_count": 27,
     "metadata": {},
     "output_type": "execute_result"
    }
   ],
   "source": [
    "# Una vez hecho esto ya podemos calcular la binomial\n",
    "stats.binom.pmf(4, n = 12, p = p_binom)"
   ]
  },
  {
   "cell_type": "markdown",
   "id": "574b0f90",
   "metadata": {},
   "source": [
    " **C10: Haz una tabla de contingencia (dos por dos) de `Attrition` frente a `Overtime`, la variable que nos dice si un empleado hace o no horas extras. Supongamos que queremos usar `Overtime` como una especie de *prueba diagnóstica* de los valores de `Attrition`, equiparando enfermo/sano con `Attrition` Yes/No y test positivo/negativo con `Overtime` Yes/No. ¿Cuál es la tasa de falsos positivos de este test? ¿Cuál es la precisión del test? Opcional: ¿cuáles son su sensibilidad y especificidad?**"
   ]
  },
  {
   "cell_type": "code",
   "execution_count": 28,
   "id": "d0548b51",
   "metadata": {},
   "outputs": [
    {
     "data": {
      "text/html": [
       "<div>\n",
       "<style scoped>\n",
       "    .dataframe tbody tr th:only-of-type {\n",
       "        vertical-align: middle;\n",
       "    }\n",
       "\n",
       "    .dataframe tbody tr th {\n",
       "        vertical-align: top;\n",
       "    }\n",
       "\n",
       "    .dataframe thead th {\n",
       "        text-align: right;\n",
       "    }\n",
       "</style>\n",
       "<table border=\"1\" class=\"dataframe\">\n",
       "  <thead>\n",
       "    <tr style=\"text-align: right;\">\n",
       "      <th>OverTime</th>\n",
       "      <th>No</th>\n",
       "      <th>Yes</th>\n",
       "    </tr>\n",
       "    <tr>\n",
       "      <th>Attrition</th>\n",
       "      <th></th>\n",
       "      <th></th>\n",
       "    </tr>\n",
       "  </thead>\n",
       "  <tbody>\n",
       "    <tr>\n",
       "      <th>No</th>\n",
       "      <td>2295</td>\n",
       "      <td>675</td>\n",
       "    </tr>\n",
       "    <tr>\n",
       "      <th>Yes</th>\n",
       "      <td>249</td>\n",
       "      <td>294</td>\n",
       "    </tr>\n",
       "  </tbody>\n",
       "</table>\n",
       "</div>"
      ],
      "text/plain": [
       "OverTime     No  Yes\n",
       "Attrition           \n",
       "No         2295  675\n",
       "Yes         249  294"
      ]
     },
     "execution_count": 28,
     "metadata": {},
     "output_type": "execute_result"
    }
   ],
   "source": [
    "CT = pd.crosstab(empleados.Attrition, empleados.OverTime)\n",
    "CT"
   ]
  },
  {
   "cell_type": "markdown",
   "id": "f10d6190",
   "metadata": {},
   "source": [
    "Esto es como una matriz de confusión, podemos asociarlo con esto:\n",
    "<table>\n",
    "<tbody>\n",
    "<tr class=\"odd\">\n",
    "<td style=\"text-align: left;\"></td>\n",
    "<td style=\"text-align: left;\"></td>\n",
    "<td colspan=\"3\" style=\"text-align: center;\"><u><strong>Real state of the patient</strong></u></td>\n",
    "</tr>\n",
    "<tr class=\"even\">\n",
    "<td style=\"text-align: left;\"></td>\n",
    "<td style=\"text-align: left;\"></td>\n",
    "<td style=\"text-align: center;\"><strong>Positive (condition present)</strong></td>\n",
    "<td style=\"text-align: center;\"><strong>Negative (condition absent)</strong></td>\n",
    "</tr>\n",
    "<tr class=\"odd\">\n",
    "<td style=\"text-align: left;\"><u><strong>Test Result</strong></u></td>\n",
    "<td style=\"text-align: left;\"> <strong>Positive </strong></td>\n",
    "<td style=\"text-align: center;\">TP = True Positive</td>\n",
    "<td style=\"text-align: center;\">FP = False Positive</td>\n",
    "</tr>\n",
    "<tr class=\"even\">\n",
    "<td style=\"text-align: left;\"></td>\n",
    "<td style=\"text-align: left;\"> <strong>Negative </strong></td>\n",
    "<td style=\"text-align: center;\">FN = False Negative</td>\n",
    "<td style=\"text-align: center;\">TN = True Negative</td>\n",
    "</tr>\n",
    "</tbody>\n",
    "</table>  \n"
   ]
  },
  {
   "cell_type": "code",
   "execution_count": 29,
   "id": "0c51987a",
   "metadata": {},
   "outputs": [
    {
     "data": {
      "text/plain": [
       "array([[2295,  675],\n",
       "       [ 249,  294]], dtype=int64)"
      ]
     },
     "execution_count": 29,
     "metadata": {},
     "output_type": "execute_result"
    }
   ],
   "source": [
    "# La pasamos a numpy para hacer mejor los cálculos\n",
    "CT_np = CT.to_numpy()\n",
    "CT_np"
   ]
  },
  {
   "cell_type": "code",
   "execution_count": 30,
   "id": "0198510c",
   "metadata": {},
   "outputs": [
    {
     "data": {
      "text/plain": [
       "0.22727272727272727"
      ]
     },
     "execution_count": 30,
     "metadata": {},
     "output_type": "execute_result"
    }
   ],
   "source": [
    "# Tasa de falsos positivos. Se puede calcular también sobre el total\n",
    "CT_np[0,1]/sum(CT_np[0])"
   ]
  },
  {
   "cell_type": "code",
   "execution_count": 31,
   "id": "114d9df4",
   "metadata": {},
   "outputs": [
    {
     "data": {
      "text/plain": [
       "0.7369769427839453"
      ]
     },
     "execution_count": 31,
     "metadata": {},
     "output_type": "execute_result"
    }
   ],
   "source": [
    "# Precision del test: Sumamos la diagonal y dividimos entre el total\n",
    "precission = np.diagonal(CT_np).sum()/CT_np.sum()\n",
    "precission"
   ]
  },
  {
   "cell_type": "markdown",
   "id": "8388ae9b",
   "metadata": {},
   "source": [
    "+ **C11: Asumiendo la normalidad de los datos, calcula un intervalo de confianza al 95% para la edad media de los empleados del departamento más numeroso de la empresa. Opcional: ¿crees que está justificada la hipótesis de normalidad de esos datos?**"
   ]
  },
  {
   "cell_type": "code",
   "execution_count": 32,
   "id": "f3ede279",
   "metadata": {},
   "outputs": [
    {
     "data": {
      "text/plain": [
       "2313"
      ]
     },
     "execution_count": 32,
     "metadata": {},
     "output_type": "execute_result"
    }
   ],
   "source": [
    "# En primer lugar, vamos a buscar el departamento más numeroso\n",
    "empleados.Department.value_counts().sort_values()\n",
    "empleados.Department.value_counts()['Research_Development']\n",
    "# Vemos que el mas numeroso es Research_Development, así que vamos a calcular el intervalo de conf para este departamento"
   ]
  },
  {
   "cell_type": "code",
   "execution_count": 33,
   "id": "1ef9ee77",
   "metadata": {},
   "outputs": [
    {
     "name": "stdout",
     "output_type": "stream",
     "text": [
      "El numero de empleados de la muestra es de: 2313\n",
      "La media muestral es de:  37.06874189364462\n",
      "La varianza es de:  9.100459845194237\n",
      "El intervalo de confianza es  [36.69787026 37.43961352]\n",
      "Redondeamos a 4 digitos: [36.7, 37.44]\n"
     ]
    }
   ],
   "source": [
    "# Calculamos los valores necesarios\n",
    "n = empleados.Department.value_counts()['Research_Development']\n",
    "print(\"El numero de empleados de la muestra es de:\" ,n)\n",
    "barX = empleados[empleados.Department == \"Research_Development\"].Age.mean()\n",
    "print(\"La media muestral es de: \", barX)\n",
    "s = empleados[empleados.Department == \"Research_Development\"].Age.std()\n",
    "print(\"La varianza es de: \", s)\n",
    "\n",
    "sl = 0.95\n",
    "alpha = 1 - sl\n",
    "\n",
    "crit_point = stats.norm.isf(alpha/2, loc = 0, scale = 1)\n",
    "# Formula de los intervalos de confianza (x barra +- crit_point*var/raiz de n)\n",
    "conf_int = barX + np.array([-1, 1]) * crit_point * s / np.sqrt(n)\n",
    "print(\"El intervalo de confianza es \", conf_int)\n",
    "print(\"Redondeamos a 4 digitos: [{:.4}, {:.4}]\".format(conf_int[0], conf_int[1]))"
   ]
  },
  {
   "cell_type": "code",
   "execution_count": 34,
   "id": "00e493e8",
   "metadata": {},
   "outputs": [
    {
     "data": {
      "text/plain": [
       "<function matplotlib.pyplot.show(close=None, block=None)>"
      ]
     },
     "execution_count": 34,
     "metadata": {},
     "output_type": "execute_result"
    },
    {
     "data": {
      "image/png": "[encoded data removed]",
      "text/plain": [
       "<Figure size 640x480 with 1 Axes>"
      ]
     },
     "metadata": {},
     "output_type": "display_data"
    }
   ],
   "source": [
    "# Para verificar la normalizdad de la muestra, hacemos un qqplot para ver si se acercan los datos a la normal\n",
    "sm.qqplot(empleados[empleados.Department == \"Research_Development\"].Age, line=\"s\")\n",
    "plt.show"
   ]
  },
  {
   "cell_type": "markdown",
   "id": "292c5bb4",
   "metadata": {},
   "source": [
    "Podemos ver que, para la muestra, la variable se aleja bastante de la normal, por lo que nos lleva a rechazar la hipotesis nula y y confirmar las sospechas de que la normalidad de la muestra no está garantizada. "
   ]
  },
  {
   "cell_type": "markdown",
   "id": "a204fac3",
   "metadata": {},
   "source": [
    "+ **C12: Toma una muestra aleatoria y con remplazamiento de 20 empleados del departamento de ventas y haz un contraste (al 95% de significación) de la *hipótesis nula:* la distancia media a su domicilio es de 9 km. Asegúrate de mantener el comando `set.seed` como primera línea de tu respuesta en este apartado para garantizar la reproducibilidad.**"
   ]
  },
  {
   "cell_type": "code",
   "execution_count": 35,
   "id": "75a13e26",
   "metadata": {},
   "outputs": [
    {
     "name": "stdout",
     "output_type": "stream",
     "text": [
      "The sample size is  20\n",
      "The sample mean is 7.7\n",
      "The T score is -0.8061\n",
      "And the corresponding p-value is 0.4301\n"
     ]
    }
   ],
   "source": [
    "np.random.seed(2022)\n",
    "# Tamaño de la muestra\n",
    "n =20\n",
    "data = empleados[(empleados.Department == 'Sales')].sample(n)\n",
    "\n",
    "# Tenemos los valores de los datos, asique podemos realizar una muestra con ttest de la libreria stats\n",
    "Tscore, pValue = stats.ttest_1samp(data.DistanceFromHome, \n",
    "                                   popmean=9, # valor de referencia = mu0. No se refiere a la poblacion sobre la que estás haciendo el contraste. Valor sobre el que se discute\n",
    "                                   alternative=\"two-sided\") # mu mas grande que, buscamos ese mu. Es la forma de contraste\n",
    "\n",
    "print(\"The sample size is {:3d}\".format(data.DistanceFromHome.size))\n",
    "print(\"The sample mean is {:.4}\".format(data.DistanceFromHome.mean()))\n",
    "print(\"The T score is {:.4}\".format(Tscore))\n",
    "print(\"And the corresponding p-value is {:.4}\".format(pValue))\n"
   ]
  },
  {
   "cell_type": "markdown",
   "id": "c1d2fe62",
   "metadata": {},
   "source": [
    "+ El p-valor es muy grande, asi que **no** rechazamos la hipótesis nula. "
   ]
  },
  {
   "cell_type": "markdown",
   "id": "39774b6f",
   "metadata": {},
   "source": [
    "+ **C13:  Considerando los empleados del departamento *Research_Development* vamos a hacer un modelo de regresión lineal para las dos variables:  \n",
    "$x:$ YearsAtCompany\n",
    "$y:$ MonthlyIncome  \n",
    "Construye el modelo usando la función `lm` y además dibuja el diagrama de dispersión de esas variables junto con la recta de regresión obtenida. ¿Qué porcentaje de la variabilidad en el salario mensual se explica con el modelo? ¿Cuánto se incrementa el salario mensual de un empleado de ese departamento por cada año de antigüedad en la empresa?**"
   ]
  },
  {
   "cell_type": "code",
   "execution_count": 45,
   "id": "3cf0d023",
   "metadata": {},
   "outputs": [
    {
     "name": "stdout",
     "output_type": "stream",
     "text": [
      "      const  YearsAtCompany\n",
      "0       1.0               9\n",
      "1       1.0               9\n",
      "2       1.0               9\n",
      "3       1.0               2\n",
      "4       1.0               2\n",
      "...     ...             ...\n",
      "3517    1.0               2\n",
      "3518    1.0               2\n",
      "3519    1.0               5\n",
      "3520    1.0               5\n",
      "3521    1.0               5\n",
      "\n",
      "[2313 rows x 2 columns]\n"
     ]
    },
    {
     "data": {
      "text/html": [
       "<table class=\"simpletable\">\n",
       "<caption>OLS Regression Results</caption>\n",
       "<tr>\n",
       "  <th>Dep. Variable:</th>      <td>MonthlyIncome</td>  <th>  R-squared:         </th> <td>   0.237</td> \n",
       "</tr>\n",
       "<tr>\n",
       "  <th>Model:</th>                   <td>OLS</td>       <th>  Adj. R-squared:    </th> <td>   0.237</td> \n",
       "</tr>\n",
       "<tr>\n",
       "  <th>Method:</th>             <td>Least Squares</td>  <th>  F-statistic:       </th> <td>   717.6</td> \n",
       "</tr>\n",
       "<tr>\n",
       "  <th>Date:</th>             <td>Mon, 17 Oct 2022</td> <th>  Prob (F-statistic):</th> <td>6.64e-138</td>\n",
       "</tr>\n",
       "<tr>\n",
       "  <th>Time:</th>                 <td>09:34:23</td>     <th>  Log-Likelihood:    </th> <td> -22599.</td> \n",
       "</tr>\n",
       "<tr>\n",
       "  <th>No. Observations:</th>      <td>  2313</td>      <th>  AIC:               </th> <td>4.520e+04</td>\n",
       "</tr>\n",
       "<tr>\n",
       "  <th>Df Residuals:</th>          <td>  2311</td>      <th>  BIC:               </th> <td>4.521e+04</td>\n",
       "</tr>\n",
       "<tr>\n",
       "  <th>Df Model:</th>              <td>     1</td>      <th>                     </th>     <td> </td>    \n",
       "</tr>\n",
       "<tr>\n",
       "  <th>Covariance Type:</th>      <td>nonrobust</td>    <th>                     </th>     <td> </td>    \n",
       "</tr>\n",
       "</table>\n",
       "<table class=\"simpletable\">\n",
       "<tr>\n",
       "         <td></td>           <th>coef</th>     <th>std err</th>      <th>t</th>      <th>P>|t|</th>  <th>[0.025</th>    <th>0.975]</th>  \n",
       "</tr>\n",
       "<tr>\n",
       "  <th>const</th>          <td> 3599.4544</td> <td>  133.251</td> <td>   27.012</td> <td> 0.000</td> <td> 3338.149</td> <td> 3860.759</td>\n",
       "</tr>\n",
       "<tr>\n",
       "  <th>YearsAtCompany</th> <td>  386.9214</td> <td>   14.443</td> <td>   26.789</td> <td> 0.000</td> <td>  358.598</td> <td>  415.245</td>\n",
       "</tr>\n",
       "</table>\n",
       "<table class=\"simpletable\">\n",
       "<tr>\n",
       "  <th>Omnibus:</th>       <td>597.690</td> <th>  Durbin-Watson:     </th> <td>   0.643</td> \n",
       "</tr>\n",
       "<tr>\n",
       "  <th>Prob(Omnibus):</th> <td> 0.000</td>  <th>  Jarque-Bera (JB):  </th> <td>1289.378</td> \n",
       "</tr>\n",
       "<tr>\n",
       "  <th>Skew:</th>          <td> 1.482</td>  <th>  Prob(JB):          </th> <td>1.04e-280</td>\n",
       "</tr>\n",
       "<tr>\n",
       "  <th>Kurtosis:</th>      <td> 5.142</td>  <th>  Cond. No.          </th> <td>    14.0</td> \n",
       "</tr>\n",
       "</table><br/><br/>Notes:<br/>[1] Standard Errors assume that the covariance matrix of the errors is correctly specified."
      ],
      "text/plain": [
       "<class 'statsmodels.iolib.summary.Summary'>\n",
       "\"\"\"\n",
       "                            OLS Regression Results                            \n",
       "==============================================================================\n",
       "Dep. Variable:          MonthlyIncome   R-squared:                       0.237\n",
       "Model:                            OLS   Adj. R-squared:                  0.237\n",
       "Method:                 Least Squares   F-statistic:                     717.6\n",
       "Date:                Mon, 17 Oct 2022   Prob (F-statistic):          6.64e-138\n",
       "Time:                        09:34:23   Log-Likelihood:                -22599.\n",
       "No. Observations:                2313   AIC:                         4.520e+04\n",
       "Df Residuals:                    2311   BIC:                         4.521e+04\n",
       "Df Model:                           1                                         \n",
       "Covariance Type:            nonrobust                                         \n",
       "==================================================================================\n",
       "                     coef    std err          t      P>|t|      [0.025      0.975]\n",
       "----------------------------------------------------------------------------------\n",
       "const           3599.4544    133.251     27.012      0.000    3338.149    3860.759\n",
       "YearsAtCompany   386.9214     14.443     26.789      0.000     358.598     415.245\n",
       "==============================================================================\n",
       "Omnibus:                      597.690   Durbin-Watson:                   0.643\n",
       "Prob(Omnibus):                  0.000   Jarque-Bera (JB):             1289.378\n",
       "Skew:                           1.482   Prob(JB):                    1.04e-280\n",
       "Kurtosis:                       5.142   Cond. No.                         14.0\n",
       "==============================================================================\n",
       "\n",
       "Notes:\n",
       "[1] Standard Errors assume that the covariance matrix of the errors is correctly specified.\n",
       "\"\"\""
      ]
     },
     "execution_count": 45,
     "metadata": {},
     "output_type": "execute_result"
    }
   ],
   "source": [
    "# Empleados del departamento reaserch development\n",
    "RD = empleados.loc[empleados.Department == 'Research_Development']\n",
    "X = sm.add_constant(RD.YearsAtCompany) # para añadir una constante en la matriz para que a la hora de multiplicar no se modifique.\n",
    "Y = RD.MonthlyIncome\n",
    "model_RD = sm.OLS(Y, X) # OLS comes from Ordinary Least Squares, minimizamos las medias (areas de los cuadrados)\n",
    "RD_fit = model_RD.fit()\n",
    "RD_fit.summary()"
   ]
  },
  {
   "cell_type": "code",
   "execution_count": 37,
   "id": "14e4d682",
   "metadata": {},
   "outputs": [
    {
     "data": {
      "text/plain": [
       "0.23694971973611867"
      ]
     },
     "execution_count": 37,
     "metadata": {},
     "output_type": "execute_result"
    }
   ],
   "source": [
    "# El porcentaje de variabilidad es de (Pearson)\n",
    "RD_fit.rsquared"
   ]
  },
  {
   "cell_type": "markdown",
   "id": "4e97d574",
   "metadata": {},
   "source": [
    "Como podemos ver, la variabilidad del modelo se acerca bastante a 0, por lo que podemos saber que el ajuste de los datos por parte del modelo es ciertamente malo.\n"
   ]
  },
  {
   "cell_type": "code",
   "execution_count": 38,
   "id": "61a27ca7",
   "metadata": {},
   "outputs": [
    {
     "data": {
      "text/plain": [
       "386.9213938232262"
      ]
     },
     "execution_count": 38,
     "metadata": {},
     "output_type": "execute_result"
    }
   ],
   "source": [
    "# el incremento del salario por año de antiguedad lo podemos obtener de los coeficientes de la recta, en concreto, la constante\n",
    "RD_fit.params[1]"
   ]
  },
  {
   "cell_type": "code",
   "execution_count": 47,
   "id": "3727eed2",
   "metadata": {},
   "outputs": [
    {
     "name": "stdout",
     "output_type": "stream",
     "text": [
      "[[ 1.          0.        ]\n",
      " [ 1.          0.4040404 ]\n",
      " [ 1.          0.80808081]\n",
      " [ 1.          1.21212121]\n",
      " [ 1.          1.61616162]\n",
      " [ 1.          2.02020202]\n",
      " [ 1.          2.42424242]\n",
      " [ 1.          2.82828283]\n",
      " [ 1.          3.23232323]\n",
      " [ 1.          3.63636364]\n",
      " [ 1.          4.04040404]\n",
      " [ 1.          4.44444444]\n",
      " [ 1.          4.84848485]\n",
      " [ 1.          5.25252525]\n",
      " [ 1.          5.65656566]\n",
      " [ 1.          6.06060606]\n",
      " [ 1.          6.46464646]\n",
      " [ 1.          6.86868687]\n",
      " [ 1.          7.27272727]\n",
      " [ 1.          7.67676768]\n",
      " [ 1.          8.08080808]\n",
      " [ 1.          8.48484848]\n",
      " [ 1.          8.88888889]\n",
      " [ 1.          9.29292929]\n",
      " [ 1.          9.6969697 ]\n",
      " [ 1.         10.1010101 ]\n",
      " [ 1.         10.50505051]\n",
      " [ 1.         10.90909091]\n",
      " [ 1.         11.31313131]\n",
      " [ 1.         11.71717172]\n",
      " [ 1.         12.12121212]\n",
      " [ 1.         12.52525253]\n",
      " [ 1.         12.92929293]\n",
      " [ 1.         13.33333333]\n",
      " [ 1.         13.73737374]\n",
      " [ 1.         14.14141414]\n",
      " [ 1.         14.54545455]\n",
      " [ 1.         14.94949495]\n",
      " [ 1.         15.35353535]\n",
      " [ 1.         15.75757576]\n",
      " [ 1.         16.16161616]\n",
      " [ 1.         16.56565657]\n",
      " [ 1.         16.96969697]\n",
      " [ 1.         17.37373737]\n",
      " [ 1.         17.77777778]\n",
      " [ 1.         18.18181818]\n",
      " [ 1.         18.58585859]\n",
      " [ 1.         18.98989899]\n",
      " [ 1.         19.39393939]\n",
      " [ 1.         19.7979798 ]\n",
      " [ 1.         20.2020202 ]\n",
      " [ 1.         20.60606061]\n",
      " [ 1.         21.01010101]\n",
      " [ 1.         21.41414141]\n",
      " [ 1.         21.81818182]\n",
      " [ 1.         22.22222222]\n",
      " [ 1.         22.62626263]\n",
      " [ 1.         23.03030303]\n",
      " [ 1.         23.43434343]\n",
      " [ 1.         23.83838384]\n",
      " [ 1.         24.24242424]\n",
      " [ 1.         24.64646465]\n",
      " [ 1.         25.05050505]\n",
      " [ 1.         25.45454545]\n",
      " [ 1.         25.85858586]\n",
      " [ 1.         26.26262626]\n",
      " [ 1.         26.66666667]\n",
      " [ 1.         27.07070707]\n",
      " [ 1.         27.47474747]\n",
      " [ 1.         27.87878788]\n",
      " [ 1.         28.28282828]\n",
      " [ 1.         28.68686869]\n",
      " [ 1.         29.09090909]\n",
      " [ 1.         29.49494949]\n",
      " [ 1.         29.8989899 ]\n",
      " [ 1.         30.3030303 ]\n",
      " [ 1.         30.70707071]\n",
      " [ 1.         31.11111111]\n",
      " [ 1.         31.51515152]\n",
      " [ 1.         31.91919192]\n",
      " [ 1.         32.32323232]\n",
      " [ 1.         32.72727273]\n",
      " [ 1.         33.13131313]\n",
      " [ 1.         33.53535354]\n",
      " [ 1.         33.93939394]\n",
      " [ 1.         34.34343434]\n",
      " [ 1.         34.74747475]\n",
      " [ 1.         35.15151515]\n",
      " [ 1.         35.55555556]\n",
      " [ 1.         35.95959596]\n",
      " [ 1.         36.36363636]\n",
      " [ 1.         36.76767677]\n",
      " [ 1.         37.17171717]\n",
      " [ 1.         37.57575758]\n",
      " [ 1.         37.97979798]\n",
      " [ 1.         38.38383838]\n",
      " [ 1.         38.78787879]\n",
      " [ 1.         39.19191919]\n",
      " [ 1.         39.5959596 ]\n",
      " [ 1.         40.        ]]\n"
     ]
    },
    {
     "data": {
      "image/png": "[encoded data removed]",
      "text/plain": [
       "<Figure size 640x480 with 1 Axes>"
      ]
     },
     "metadata": {},
     "output_type": "display_data"
    }
   ],
   "source": [
    "# Dibujamos el diagrama de dispersión\n",
    "# The linspace funtion generates the grid\n",
    "# linespace es como un rango, le das el minimo y el máximo y el numero de trozos en los que quieres dividir.\n",
    "X_new = np.linspace(X.min(), X.max(), num = 100) # pinta los puntos rojos.\n",
    "print(X_new)\n",
    "# Predict the corresponding Y-values\n",
    "Y_new = RD_fit.predict(X_new)\n",
    "\n",
    "#Plot the sample\n",
    "plt.plot(X.iloc[:,1], Y, 'ro') # pinta la muestra\n",
    "# And the regression line = \"predicted points\"\n",
    "plt.plot(X_new[:,1], Y_new, \"y--\", lw = 4)\n",
    "plt.show()"
   ]
  },
  {
   "cell_type": "code",
   "execution_count": null,
   "id": "8ce70d34",
   "metadata": {},
   "outputs": [],
   "source": []
  }
 ],
 "metadata": {
  "kernelspec": {
   "display_name": "Python 3 (ipykernel)",
   "language": "python",
   "name": "python3"
  },
  "language_info": {
   "codemirror_mode": {
    "name": "ipython",
    "version": 3
   },
   "file_extension": ".py",
   "mimetype": "text/x-python",
   "name": "python",
   "nbconvert_exporter": "python",
   "pygments_lexer": "ipython3",
   "version": "3.10.4"
  }
 },
 "nbformat": 4,
 "nbformat_minor": 5
}
